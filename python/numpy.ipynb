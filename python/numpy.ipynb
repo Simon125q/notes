{
 "cells": [
  {
   "cell_type": "code",
   "execution_count": 1,
   "id": "6454c2ec-521a-4aae-843d-b9b182ed80dd",
   "metadata": {},
   "outputs": [],
   "source": [
    "import numpy as np"
   ]
  },
  {
   "cell_type": "markdown",
   "id": "deb04676-2d7c-487f-993b-2e2687364f37",
   "metadata": {},
   "source": [
    "# NumPy\n",
    "\n",
    "Nump's array class is called `ndarray`, also known by alias `array`.\n",
    "\n",
    "*`numpy.array` is not the same as standard library class `array.array`*"
   ]
  },
  {
   "cell_type": "code",
   "execution_count": 2,
   "id": "b08edad4-51ab-4d29-98c6-feb77b50ec5e",
   "metadata": {},
   "outputs": [
    {
     "name": "stdout",
     "output_type": "stream",
     "text": [
      "[[ 0  1  2  3  4]\n",
      " [ 5  6  7  8  9]\n",
      " [10 11 12 13 14]]\n"
     ]
    }
   ],
   "source": [
    "a = np.arange(15).reshape(3, 5)\n",
    "print(a)"
   ]
  },
  {
   "cell_type": "code",
   "execution_count": 3,
   "id": "f1ea9230-6a70-45f0-a2fb-4816f0787bd2",
   "metadata": {
    "tags": []
   },
   "outputs": [
    {
     "data": {
      "text/plain": [
       "(3, 5)"
      ]
     },
     "execution_count": 3,
     "metadata": {},
     "output_type": "execute_result"
    }
   ],
   "source": [
    "a.shape"
   ]
  },
  {
   "cell_type": "code",
   "execution_count": 5,
   "id": "fbf5dc9b-dfd7-4206-b9b2-775ff467b577",
   "metadata": {
    "tags": []
   },
   "outputs": [
    {
     "data": {
      "text/plain": [
       "2"
      ]
     },
     "execution_count": 5,
     "metadata": {},
     "output_type": "execute_result"
    }
   ],
   "source": [
    "a.ndim"
   ]
  },
  {
   "cell_type": "code",
   "execution_count": 7,
   "id": "6f3ac616-4e1a-4b23-92a3-b944fc97c812",
   "metadata": {
    "tags": []
   },
   "outputs": [
    {
     "data": {
      "text/plain": [
       "'int32'"
      ]
     },
     "execution_count": 7,
     "metadata": {},
     "output_type": "execute_result"
    }
   ],
   "source": [
    "a.dtype.name"
   ]
  },
  {
   "cell_type": "code",
   "execution_count": 8,
   "id": "dd358a82-d3a7-4f8a-b9a3-7f6f6fee3f68",
   "metadata": {
    "tags": []
   },
   "outputs": [
    {
     "data": {
      "text/plain": [
       "4"
      ]
     },
     "execution_count": 8,
     "metadata": {},
     "output_type": "execute_result"
    }
   ],
   "source": [
    "a.itemsize"
   ]
  },
  {
   "cell_type": "code",
   "execution_count": 9,
   "id": "1f52dd65-2219-4796-b42f-23a64e68e6c7",
   "metadata": {
    "tags": []
   },
   "outputs": [
    {
     "data": {
      "text/plain": [
       "15"
      ]
     },
     "execution_count": 9,
     "metadata": {},
     "output_type": "execute_result"
    }
   ],
   "source": [
    "a.size"
   ]
  },
  {
   "cell_type": "code",
   "execution_count": 10,
   "id": "bae6c2bb-f297-4263-b255-0514dd1fe82a",
   "metadata": {
    "tags": []
   },
   "outputs": [
    {
     "data": {
      "text/plain": [
       "numpy.ndarray"
      ]
     },
     "execution_count": 10,
     "metadata": {},
     "output_type": "execute_result"
    }
   ],
   "source": [
    "type(a)"
   ]
  },
  {
   "cell_type": "code",
   "execution_count": 11,
   "id": "f49840b9-a1a4-449a-b174-cf6a429e77ae",
   "metadata": {
    "tags": []
   },
   "outputs": [
    {
     "name": "stdout",
     "output_type": "stream",
     "text": [
      "[6 7 8]\n"
     ]
    }
   ],
   "source": [
    "b = np.array([6, 7, 8])\n",
    "print(b)"
   ]
  },
  {
   "cell_type": "markdown",
   "id": "89da7efb-87c2-4933-9a45-0dd4e1166509",
   "metadata": {},
   "source": [
    "## Array creation"
   ]
  },
  {
   "cell_type": "markdown",
   "id": "fcd95b3b-421f-4257-87a4-24556fff983f",
   "metadata": {},
   "source": [
    "We can create numpy array from regular python sequences. The type of the resulting array is deducted from the type of elems in the sequence."
   ]
  },
  {
   "cell_type": "code",
   "execution_count": 13,
   "id": "dd49b293-24ff-4046-b41e-b82b393b7aab",
   "metadata": {
    "tags": []
   },
   "outputs": [
    {
     "name": "stdout",
     "output_type": "stream",
     "text": [
      "[2 3 4]\n",
      "int32\n"
     ]
    }
   ],
   "source": [
    "a = np.array([2, 3, 4])\n",
    "print(a)\n",
    "print(a.dtype)"
   ]
  },
  {
   "cell_type": "markdown",
   "id": "bed3430f-2238-44b4-af83-fb277e986593",
   "metadata": {},
   "source": [
    "`array` transforms sequences of sequences into 2D arrays, seq of seq of seq into 3D arrays and so on."
   ]
  },
  {
   "cell_type": "code",
   "execution_count": 14,
   "id": "048cc9c8-268a-434a-a637-219fb5a78b47",
   "metadata": {
    "tags": []
   },
   "outputs": [
    {
     "name": "stdout",
     "output_type": "stream",
     "text": [
      "[[1.8 3.  8. ]\n",
      " [1.  2.  7. ]]\n"
     ]
    }
   ],
   "source": [
    "b = np.array([(1.8, 3, 8), (1, 2, 7)])\n",
    "print(b)"
   ]
  },
  {
   "cell_type": "markdown",
   "id": "1b9b1d41-53dc-4b9f-bd8d-37b03ddf7e3c",
   "metadata": {},
   "source": [
    "The type of `array` can be specified at creation time, using key word argument `dtype`"
   ]
  },
  {
   "cell_type": "code",
   "execution_count": 16,
   "id": "6a040726-5f16-4212-875a-9b727f67567e",
   "metadata": {
    "tags": []
   },
   "outputs": [],
   "source": [
    "c = np.array([[1, 2], [3, 4]], dtype=complex)"
   ]
  },
  {
   "cell_type": "markdown",
   "id": "29649d7c-cae5-4298-8928-c9ec312db34f",
   "metadata": {},
   "source": [
    "Numpy offers several functions to create arrays with placeholder data. For example:\n",
    "\n",
    "* `zeros` creates an array full of 0s\n",
    "* `ones` creates an array full of 1s\n",
    "* `empty` creates array with random data which depends on the state of memory"
   ]
  },
  {
   "cell_type": "code",
   "execution_count": 17,
   "id": "42981277-be6c-413c-af71-7726de22018e",
   "metadata": {
    "tags": []
   },
   "outputs": [
    {
     "data": {
      "text/plain": [
       "array([[0., 0., 0., 0.],\n",
       "       [0., 0., 0., 0.],\n",
       "       [0., 0., 0., 0.]])"
      ]
     },
     "execution_count": 17,
     "metadata": {},
     "output_type": "execute_result"
    }
   ],
   "source": [
    "np.zeros((3, 4))"
   ]
  },
  {
   "cell_type": "code",
   "execution_count": 21,
   "id": "db792297-ab60-4f85-85be-d710349de121",
   "metadata": {
    "tags": []
   },
   "outputs": [
    {
     "data": {
      "text/plain": [
       "array([[[1, 1, 1, 1, 1, 1],\n",
       "        [1, 1, 1, 1, 1, 1],\n",
       "        [1, 1, 1, 1, 1, 1]],\n",
       "\n",
       "       [[1, 1, 1, 1, 1, 1],\n",
       "        [1, 1, 1, 1, 1, 1],\n",
       "        [1, 1, 1, 1, 1, 1]]], dtype=int16)"
      ]
     },
     "execution_count": 21,
     "metadata": {},
     "output_type": "execute_result"
    }
   ],
   "source": [
    "np.ones((2, 3, 6), dtype=np.int16)"
   ]
  },
  {
   "cell_type": "code",
   "execution_count": 23,
   "id": "2e0cb966-f276-47fb-82d0-1f1630888a29",
   "metadata": {
    "tags": []
   },
   "outputs": [
    {
     "data": {
      "text/plain": [
       "array([[1.57991622e-311, 3.40905296e-322, 0.00000000e+000,\n",
       "        0.00000000e+000, 0.00000000e+000],\n",
       "       [1.16095484e-028, 3.94648786e+180, 8.95402175e-096,\n",
       "        1.12958007e+277, 7.28193369e+223],\n",
       "       [2.59027849e-144, 4.82412328e+228, 1.04718130e-142,\n",
       "        2.65657260e-312, 2.12203497e-312]])"
      ]
     },
     "execution_count": 23,
     "metadata": {},
     "output_type": "execute_result"
    }
   ],
   "source": [
    "np.empty((3, 5))"
   ]
  },
  {
   "cell_type": "markdown",
   "id": "ed11cc58-6b38-4428-b92c-a24fb8b3f6d9",
   "metadata": {},
   "source": [
    "To create seq. of numbers, numpy provides `arange` func which is anologus to build-in `range`, but it returns an array"
   ]
  },
  {
   "cell_type": "code",
   "execution_count": 24,
   "id": "ab5d37dd-3ace-4fe1-89fe-38b0108ef334",
   "metadata": {
    "tags": []
   },
   "outputs": [
    {
     "data": {
      "text/plain": [
       "array([10, 15, 20, 25])"
      ]
     },
     "execution_count": 24,
     "metadata": {},
     "output_type": "execute_result"
    }
   ],
   "source": [
    "np.arange(10, 30, 5)"
   ]
  },
  {
   "cell_type": "code",
   "execution_count": 26,
   "id": "eb2cd275-ab2b-4559-9313-2e7277b77d6b",
   "metadata": {
    "tags": []
   },
   "outputs": [
    {
     "data": {
      "text/plain": [
       "array([0. , 0.3, 0.6, 0.9, 1.2, 1.5, 1.8, 2.1, 2.4, 2.7])"
      ]
     },
     "execution_count": 26,
     "metadata": {},
     "output_type": "execute_result"
    }
   ],
   "source": [
    "np.arange(0, 3, 0.3)"
   ]
  },
  {
   "cell_type": "markdown",
   "id": "37ad5202-ccf0-4488-ad68-fcc1cc18f5fb",
   "metadata": {},
   "source": [
    "When using `arange` whith `float` it is hard to predict the result size, because of that is is usually better to use `linspace` func, which receives as arg. the num. of desired elements instead of the step."
   ]
  },
  {
   "cell_type": "code",
   "execution_count": 28,
   "id": "da2544f7-e8e8-4611-a4a2-eb40cfd93ba9",
   "metadata": {
    "tags": []
   },
   "outputs": [
    {
     "data": {
      "text/plain": [
       "array([0.  , 0.25, 0.5 , 0.75, 1.  , 1.25, 1.5 , 1.75, 2.  ])"
      ]
     },
     "execution_count": 28,
     "metadata": {},
     "output_type": "execute_result"
    }
   ],
   "source": [
    "np.linspace(0, 2, 9)"
   ]
  },
  {
   "cell_type": "code",
   "execution_count": 32,
   "id": "bf65852f-ed32-443d-b9f6-9dee15b26ad6",
   "metadata": {
    "tags": []
   },
   "outputs": [
    {
     "data": {
      "text/plain": [
       "array([0.        , 0.06346652, 0.12693304, 0.19039955, 0.25386607,\n",
       "       0.31733259, 0.38079911, 0.44426563, 0.50773215, 0.57119866,\n",
       "       0.63466518, 0.6981317 , 0.76159822, 0.82506474, 0.88853126,\n",
       "       0.95199777, 1.01546429, 1.07893081, 1.14239733, 1.20586385,\n",
       "       1.26933037, 1.33279688, 1.3962634 , 1.45972992, 1.52319644,\n",
       "       1.58666296, 1.65012947, 1.71359599, 1.77706251, 1.84052903,\n",
       "       1.90399555, 1.96746207, 2.03092858, 2.0943951 , 2.15786162,\n",
       "       2.22132814, 2.28479466, 2.34826118, 2.41172769, 2.47519421,\n",
       "       2.53866073, 2.60212725, 2.66559377, 2.72906028, 2.7925268 ,\n",
       "       2.85599332, 2.91945984, 2.98292636, 3.04639288, 3.10985939,\n",
       "       3.17332591, 3.23679243, 3.30025895, 3.36372547, 3.42719199,\n",
       "       3.4906585 , 3.55412502, 3.61759154, 3.68105806, 3.74452458,\n",
       "       3.8079911 , 3.87145761, 3.93492413, 3.99839065, 4.06185717,\n",
       "       4.12532369, 4.1887902 , 4.25225672, 4.31572324, 4.37918976,\n",
       "       4.44265628, 4.5061228 , 4.56958931, 4.63305583, 4.69652235,\n",
       "       4.75998887, 4.82345539, 4.88692191, 4.95038842, 5.01385494,\n",
       "       5.07732146, 5.14078798, 5.2042545 , 5.26772102, 5.33118753,\n",
       "       5.39465405, 5.45812057, 5.52158709, 5.58505361, 5.64852012,\n",
       "       5.71198664, 5.77545316, 5.83891968, 5.9023862 , 5.96585272,\n",
       "       6.02931923, 6.09278575, 6.15625227, 6.21971879, 6.28318531])"
      ]
     },
     "execution_count": 32,
     "metadata": {},
     "output_type": "execute_result"
    }
   ],
   "source": [
    "np.linspace(0, 2 * np.pi, 100)"
   ]
  },
  {
   "cell_type": "markdown",
   "id": "04713e74-a6dd-4fdc-b0da-ec59a5207c4f",
   "metadata": {
    "tags": []
   },
   "source": [
    "## Basic operations\n",
    "\n",
    "Arithmetic operators on arrays apply **elementwise** and a new array is created as the result."
   ]
  },
  {
   "cell_type": "code",
   "execution_count": 33,
   "id": "2fc6bc1e-7748-4de5-93e7-e335146f9692",
   "metadata": {
    "tags": []
   },
   "outputs": [
    {
     "name": "stdout",
     "output_type": "stream",
     "text": [
      "[20 30 40 50]\n",
      "[0 1 2 3]\n"
     ]
    }
   ],
   "source": [
    "a = np.array([20, 30, 40, 50])\n",
    "b = np.arange(4)\n",
    "print(a)\n",
    "print(b)"
   ]
  },
  {
   "cell_type": "code",
   "execution_count": 35,
   "id": "a319b840-3472-49a8-99eb-e382097fe83c",
   "metadata": {
    "tags": []
   },
   "outputs": [
    {
     "name": "stdout",
     "output_type": "stream",
     "text": [
      "[20 29 38 47]\n"
     ]
    }
   ],
   "source": [
    "c = a - b\n",
    "print(c)"
   ]
  },
  {
   "cell_type": "code",
   "execution_count": 36,
   "id": "417c135c-37d2-4881-b559-0e186807973b",
   "metadata": {
    "tags": []
   },
   "outputs": [
    {
     "name": "stdout",
     "output_type": "stream",
     "text": [
      "[0 1 4 9]\n"
     ]
    }
   ],
   "source": [
    "c = b**2\n",
    "print(c)"
   ]
  },
  {
   "cell_type": "code",
   "execution_count": 37,
   "id": "d36d6910-c66c-4ffa-835d-27ba03ae1d94",
   "metadata": {
    "tags": []
   },
   "outputs": [
    {
     "name": "stdout",
     "output_type": "stream",
     "text": [
      "[ 9.12945251 -9.88031624  7.4511316  -2.62374854]\n"
     ]
    }
   ],
   "source": [
    "c = 10 * np.sin(a)\n",
    "print(c)"
   ]
  },
  {
   "cell_type": "code",
   "execution_count": 39,
   "id": "652cbd3e-355f-4a02-b808-543c8117c6cc",
   "metadata": {
    "tags": []
   },
   "outputs": [
    {
     "name": "stdout",
     "output_type": "stream",
     "text": [
      "[ True  True False False]\n"
     ]
    }
   ],
   "source": [
    "c = a < 35\n",
    "print(c)"
   ]
  },
  {
   "cell_type": "markdown",
   "id": "fc0d847d-eec6-4294-9a90-4f21fb48c851",
   "metadata": {},
   "source": [
    "Product operator `*` operates elementwise in numpy arrays. To calculate **matrix product** we use `@` operator or `dot` method"
   ]
  },
  {
   "cell_type": "code",
   "execution_count": 40,
   "id": "94a431f1-3da2-4be7-bb16-e3ab7c609267",
   "metadata": {
    "tags": []
   },
   "outputs": [
    {
     "name": "stdout",
     "output_type": "stream",
     "text": [
      "[[1 1]\n",
      " [0 1]]\n",
      "[[2 0]\n",
      " [3 4]]\n"
     ]
    }
   ],
   "source": [
    "A = np.array([[1, 1],\n",
    "              [0, 1]])\n",
    "B = np.array([[2, 0],\n",
    "              [3, 4]])\n",
    "print(A)\n",
    "print(B)"
   ]
  },
  {
   "cell_type": "code",
   "execution_count": 41,
   "id": "9e132316-3948-4a18-9fcb-f52d836db0be",
   "metadata": {
    "tags": []
   },
   "outputs": [
    {
     "name": "stdout",
     "output_type": "stream",
     "text": [
      "[[2 0]\n",
      " [0 4]]\n"
     ]
    }
   ],
   "source": [
    "c = A * B\n",
    "print(c)"
   ]
  },
  {
   "cell_type": "code",
   "execution_count": 42,
   "id": "e26afc7a-1bf8-4f83-8eac-6d2dcb280b1d",
   "metadata": {
    "tags": []
   },
   "outputs": [
    {
     "name": "stdout",
     "output_type": "stream",
     "text": [
      "[[5 4]\n",
      " [3 4]]\n"
     ]
    }
   ],
   "source": [
    "c = A @ B\n",
    "print(c)"
   ]
  },
  {
   "cell_type": "code",
   "execution_count": 43,
   "id": "00ff9931-0906-41fa-99b5-c1bd8511f181",
   "metadata": {
    "tags": []
   },
   "outputs": [
    {
     "name": "stdout",
     "output_type": "stream",
     "text": [
      "[[5 4]\n",
      " [3 4]]\n"
     ]
    }
   ],
   "source": [
    "c = A.dot(B)\n",
    "print(c)"
   ]
  },
  {
   "cell_type": "markdown",
   "id": "75e25d5c-d0a3-48e9-94c2-91b3dac418a7",
   "metadata": {},
   "source": [
    "To perform operations in place we can use augmanted operators such as `+=` and `*=`"
   ]
  },
  {
   "cell_type": "code",
   "execution_count": 44,
   "id": "e75277b6-71c7-40a7-82c0-83e9c966ba18",
   "metadata": {
    "tags": []
   },
   "outputs": [
    {
     "name": "stdout",
     "output_type": "stream",
     "text": [
      "[[3 1]\n",
      " [3 5]]\n"
     ]
    }
   ],
   "source": [
    "A += B\n",
    "print(A)"
   ]
  },
  {
   "cell_type": "code",
   "execution_count": 45,
   "id": "33010e9f-ba01-43f3-ae62-c9924fe44484",
   "metadata": {
    "tags": []
   },
   "outputs": [
    {
     "name": "stdout",
     "output_type": "stream",
     "text": [
      "[[ 6  2]\n",
      " [ 6 10]]\n"
     ]
    }
   ],
   "source": [
    "A *= 2\n",
    "print(A)"
   ]
  },
  {
   "cell_type": "markdown",
   "id": "4abfb793-0917-4622-9b22-fa283463f812",
   "metadata": {
    "tags": []
   },
   "source": [
    "When working on arrays with diff types, the type of the resulting array corresponds to the more general one, this is known as **upcasting**"
   ]
  },
  {
   "cell_type": "code",
   "execution_count": 49,
   "id": "43c8e1d4-90d7-4853-806f-ec6fc028c86c",
   "metadata": {
    "tags": []
   },
   "outputs": [
    {
     "name": "stdout",
     "output_type": "stream",
     "text": [
      "a dtype: int32\n",
      "b dtype: float64\n"
     ]
    }
   ],
   "source": [
    "a = np.ones(3, dtype=np.int32)\n",
    "b = np.linspace(0, np.pi, 3)\n",
    "print(f\"a dtype: {a.dtype.name}\")\n",
    "print(f\"b dtype: {b.dtype.name}\")"
   ]
  },
  {
   "cell_type": "code",
   "execution_count": 51,
   "id": "f463576e-c21c-4c87-8769-9ac9614fcaa4",
   "metadata": {
    "tags": []
   },
   "outputs": [
    {
     "name": "stdout",
     "output_type": "stream",
     "text": [
      "c data: [1.         2.57079633 4.14159265]\n",
      "c dtype: float64\n"
     ]
    }
   ],
   "source": [
    "c = a + b\n",
    "print(f\"c data: {c}\")\n",
    "print(f\"c dtype: {c.dtype.name}\")"
   ]
  },
  {
   "cell_type": "code",
   "execution_count": 52,
   "id": "e673a354-e130-4c72-aab4-bc6e48b61396",
   "metadata": {
    "tags": []
   },
   "outputs": [
    {
     "name": "stdout",
     "output_type": "stream",
     "text": [
      "c data: [ 0.54030231+0.84147098j -0.84147098+0.54030231j -0.54030231-0.84147098j]\n",
      "c dtype: complex128\n"
     ]
    }
   ],
   "source": [
    "d = np.exp(c * 1j)\n",
    "print(f\"c data: {d}\")\n",
    "print(f\"c dtype: {d.dtype.name}\")"
   ]
  },
  {
   "cell_type": "markdown",
   "id": "0002fcc5-5d0f-4ee4-b6f3-012b62cd2f94",
   "metadata": {},
   "source": [
    "Many unary operators are impl. as methods of `ndarray` class"
   ]
  },
  {
   "cell_type": "code",
   "execution_count": 53,
   "id": "91be1ae3-e158-462a-90b1-dae02c8a85db",
   "metadata": {
    "tags": []
   },
   "outputs": [
    {
     "name": "stdout",
     "output_type": "stream",
     "text": [
      "a data: [[0.51182162 0.9504637  0.14415961]\n",
      " [0.94864945 0.31183145 0.42332645]]\n"
     ]
    }
   ],
   "source": [
    "rg = np.random.default_rng(1)  # create instance of default random number generator\n",
    "a = rg.random((2, 3))\n",
    "print(f\"a data: {a}\")"
   ]
  },
  {
   "cell_type": "code",
   "execution_count": 54,
   "id": "0dd70f37-2ee3-4846-9aeb-0c0fdbf984ef",
   "metadata": {
    "tags": []
   },
   "outputs": [
    {
     "data": {
      "text/plain": [
       "3.290252281866131"
      ]
     },
     "execution_count": 54,
     "metadata": {},
     "output_type": "execute_result"
    }
   ],
   "source": [
    "a.sum()"
   ]
  },
  {
   "cell_type": "code",
   "execution_count": 55,
   "id": "98842041-6ea9-4d01-b42b-8ace7f03a6e2",
   "metadata": {
    "tags": []
   },
   "outputs": [
    {
     "data": {
      "text/plain": [
       "0.14415961271963373"
      ]
     },
     "execution_count": 55,
     "metadata": {},
     "output_type": "execute_result"
    }
   ],
   "source": [
    "a.min()"
   ]
  },
  {
   "cell_type": "code",
   "execution_count": 56,
   "id": "6196458a-fcd0-4e5f-b288-bd9d71a50560",
   "metadata": {
    "tags": []
   },
   "outputs": [
    {
     "data": {
      "text/plain": [
       "0.9504636963259353"
      ]
     },
     "execution_count": 56,
     "metadata": {},
     "output_type": "execute_result"
    }
   ],
   "source": [
    "a.max()"
   ]
  },
  {
   "cell_type": "markdown",
   "id": "ecf1f090-fdde-47f6-a577-66c43231204b",
   "metadata": {},
   "source": [
    "By default, those operations apply to the array as if it was a list of numbers, regardless its shape. By specifying the `axis` parameter, the operation can be applied along the specified axis of the array."
   ]
  },
  {
   "cell_type": "code",
   "execution_count": 57,
   "id": "34af5bc5-c90a-4356-8670-fd935d525bd9",
   "metadata": {
    "tags": []
   },
   "outputs": [
    {
     "name": "stdout",
     "output_type": "stream",
     "text": [
      "b data: [[ 0  1  2  3]\n",
      " [ 4  5  6  7]\n",
      " [ 8  9 10 11]]\n"
     ]
    }
   ],
   "source": [
    "b = np.arange(12).reshape(3, 4)\n",
    "print(f\"b data: {b}\")"
   ]
  },
  {
   "cell_type": "code",
   "execution_count": 58,
   "id": "a19c8876-a3b7-4f2d-b141-e7fbd8438485",
   "metadata": {
    "tags": []
   },
   "outputs": [
    {
     "data": {
      "text/plain": [
       "array([12, 15, 18, 21])"
      ]
     },
     "execution_count": 58,
     "metadata": {},
     "output_type": "execute_result"
    }
   ],
   "source": [
    "b.sum(axis=0) # sum of each column"
   ]
  },
  {
   "cell_type": "code",
   "execution_count": 59,
   "id": "e65c1307-5d8a-412e-8b8b-aad540ed0014",
   "metadata": {
    "tags": []
   },
   "outputs": [
    {
     "data": {
      "text/plain": [
       "array([0, 4, 8])"
      ]
     },
     "execution_count": 59,
     "metadata": {},
     "output_type": "execute_result"
    }
   ],
   "source": [
    "b.min(axis=1) # sum of each row"
   ]
  },
  {
   "cell_type": "code",
   "execution_count": 60,
   "id": "6bab986a-d62b-4139-81c2-32e213fe710c",
   "metadata": {
    "tags": []
   },
   "outputs": [
    {
     "data": {
      "text/plain": [
       "array([[ 0,  1,  3,  6],\n",
       "       [ 4,  9, 15, 22],\n",
       "       [ 8, 17, 27, 38]])"
      ]
     },
     "execution_count": 60,
     "metadata": {},
     "output_type": "execute_result"
    }
   ],
   "source": [
    "b.cumsum(axis=1) # cumulative sum along each row"
   ]
  },
  {
   "cell_type": "markdown",
   "id": "2b2b0757-5b8f-4d07-9ec0-30d947245e57",
   "metadata": {},
   "source": [
    "## Universal functions\n",
    "\n",
    "Numpy provides mathematical functions such as `sin`, `cos`, `exp` ect. In numpy this are called *universal functions* (`ufunc`) and they operate **elementwise** on an array, producing new array as output."
   ]
  },
  {
   "cell_type": "code",
   "execution_count": 61,
   "id": "e50460ee-f422-4206-949d-684324ad1771",
   "metadata": {
    "tags": []
   },
   "outputs": [
    {
     "name": "stdout",
     "output_type": "stream",
     "text": [
      "b data: [0 1 2]\n"
     ]
    }
   ],
   "source": [
    "b = np.arange(3)\n",
    "print(f\"b data: {b}\")"
   ]
  },
  {
   "cell_type": "code",
   "execution_count": 62,
   "id": "0e90eed5-607a-4007-8b2d-50b6bba3f151",
   "metadata": {
    "tags": []
   },
   "outputs": [
    {
     "data": {
      "text/plain": [
       "array([1.        , 2.71828183, 7.3890561 ])"
      ]
     },
     "execution_count": 62,
     "metadata": {},
     "output_type": "execute_result"
    }
   ],
   "source": [
    "np.exp(b)"
   ]
  },
  {
   "cell_type": "code",
   "execution_count": 63,
   "id": "91b5a958-7b2a-4699-9f5b-7f0d44b1e412",
   "metadata": {
    "tags": []
   },
   "outputs": [
    {
     "data": {
      "text/plain": [
       "array([0.        , 1.        , 1.41421356])"
      ]
     },
     "execution_count": 63,
     "metadata": {},
     "output_type": "execute_result"
    }
   ],
   "source": [
    "np.sqrt(b)"
   ]
  },
  {
   "cell_type": "code",
   "execution_count": 64,
   "id": "97c34aa1-bc5e-4952-a4ae-bcaffd3b804b",
   "metadata": {
    "tags": []
   },
   "outputs": [
    {
     "data": {
      "text/plain": [
       "array([ 1.        ,  0.54030231, -0.41614684])"
      ]
     },
     "execution_count": 64,
     "metadata": {},
     "output_type": "execute_result"
    }
   ],
   "source": [
    "np.cos(b)"
   ]
  },
  {
   "cell_type": "markdown",
   "id": "56a6553d-2de4-43f6-8570-e13cd264d9f1",
   "metadata": {},
   "source": [
    "## Indexing, slicing and iterating\n",
    "\n",
    "**1D arrays** can be indexed, sliced and iterated like lists and ther python sequences"
   ]
  },
  {
   "cell_type": "code",
   "execution_count": 65,
   "id": "e3976880-399d-46af-adcb-78fdb641dfd8",
   "metadata": {
    "tags": []
   },
   "outputs": [
    {
     "name": "stdout",
     "output_type": "stream",
     "text": [
      "a: [  0   1   8  27  64 125 216 343 512 729]\n"
     ]
    }
   ],
   "source": [
    "a = np.arange(10) ** 3\n",
    "print(f\"a: {a}\")"
   ]
  },
  {
   "cell_type": "code",
   "execution_count": 66,
   "id": "29aaa670-fb7f-4ef8-9612-ee8009804876",
   "metadata": {
    "tags": []
   },
   "outputs": [
    {
     "data": {
      "text/plain": [
       "8"
      ]
     },
     "execution_count": 66,
     "metadata": {},
     "output_type": "execute_result"
    }
   ],
   "source": [
    "a[2]"
   ]
  },
  {
   "cell_type": "code",
   "execution_count": 67,
   "id": "4e3ef505-3aad-41b3-8dbc-4e5e8e06c122",
   "metadata": {
    "tags": []
   },
   "outputs": [
    {
     "data": {
      "text/plain": [
       "array([ 8, 27, 64], dtype=int32)"
      ]
     },
     "execution_count": 67,
     "metadata": {},
     "output_type": "execute_result"
    }
   ],
   "source": [
    "a[2:5]"
   ]
  },
  {
   "cell_type": "code",
   "execution_count": 69,
   "id": "cab6503a-8b6b-4e92-b245-5f4b795d946c",
   "metadata": {
    "tags": []
   },
   "outputs": [
    {
     "name": "stdout",
     "output_type": "stream",
     "text": [
      "a: [1000    1 1000   27 1000  125  216  343  512  729]\n"
     ]
    }
   ],
   "source": [
    "a[:6:2] = 1000\n",
    "print(f\"a: {a}\")"
   ]
  },
  {
   "cell_type": "code",
   "execution_count": 70,
   "id": "a8713468-d405-4853-b002-3b1db0b75010",
   "metadata": {
    "tags": []
   },
   "outputs": [
    {
     "data": {
      "text/plain": [
       "array([ 729,  512,  343,  216,  125, 1000,   27, 1000,    1, 1000],\n",
       "      dtype=int32)"
      ]
     },
     "execution_count": 70,
     "metadata": {},
     "output_type": "execute_result"
    }
   ],
   "source": [
    "a[::-1]"
   ]
  },
  {
   "cell_type": "code",
   "execution_count": 71,
   "id": "d6fe7f00-6889-40ab-ba1b-83296efedbc4",
   "metadata": {
    "tags": []
   },
   "outputs": [
    {
     "name": "stdout",
     "output_type": "stream",
     "text": [
      "9.999999999999998\n",
      "1.0\n",
      "9.999999999999998\n",
      "3.0\n",
      "9.999999999999998\n",
      "5.0\n",
      "5.999999999999999\n",
      "6.999999999999999\n",
      "7.999999999999999\n",
      "8.999999999999998\n"
     ]
    }
   ],
   "source": [
    "for i in a:\n",
    "    print(i**(1 / 3.))"
   ]
  },
  {
   "cell_type": "markdown",
   "id": "55d0b699-32a6-400c-ab24-c5a09d91941a",
   "metadata": {},
   "source": [
    "**Multidimensional arrays** can have 1 index per axis and those indices are given in a `tuple` separated by commas"
   ]
  },
  {
   "cell_type": "code",
   "execution_count": 75,
   "id": "7ceba372-d020-4a74-af74-52aeabf8b772",
   "metadata": {
    "tags": []
   },
   "outputs": [
    {
     "name": "stdout",
     "output_type": "stream",
     "text": [
      "b: [[ 0  1  2  3]\n",
      " [10 11 12 13]\n",
      " [20 21 22 23]\n",
      " [30 31 32 33]\n",
      " [40 41 42 43]]\n"
     ]
    }
   ],
   "source": [
    "b = np.fromfunction(lambda x, y: 10 * x + y, (5, 4), dtype=int)\n",
    "print(f\"b: {b}\")"
   ]
  },
  {
   "cell_type": "code",
   "execution_count": 76,
   "id": "5fa08a18-d077-4864-8dd3-b2d04b64129b",
   "metadata": {
    "tags": []
   },
   "outputs": [
    {
     "data": {
      "text/plain": [
       "23"
      ]
     },
     "execution_count": 76,
     "metadata": {},
     "output_type": "execute_result"
    }
   ],
   "source": [
    "b[2, 3]"
   ]
  },
  {
   "cell_type": "code",
   "execution_count": 77,
   "id": "f1681fad-cfcc-4357-8ffd-330740c358a0",
   "metadata": {
    "tags": []
   },
   "outputs": [
    {
     "data": {
      "text/plain": [
       "array([ 1, 11, 21, 31, 41])"
      ]
     },
     "execution_count": 77,
     "metadata": {},
     "output_type": "execute_result"
    }
   ],
   "source": [
    "b[:, 1]"
   ]
  },
  {
   "cell_type": "code",
   "execution_count": 78,
   "id": "b3edb71d-350b-42f3-bc76-8a75a077a352",
   "metadata": {
    "tags": []
   },
   "outputs": [
    {
     "data": {
      "text/plain": [
       "array([[10, 11, 12, 13],\n",
       "       [20, 21, 22, 23]])"
      ]
     },
     "execution_count": 78,
     "metadata": {},
     "output_type": "execute_result"
    }
   ],
   "source": [
    "b[1:3, :]"
   ]
  },
  {
   "cell_type": "markdown",
   "id": "5bfc475c-15ac-4592-9779-a534886d50ef",
   "metadata": {},
   "source": [
    "When fewer indices are provided than the num of axes, the missing values are considered compleate slies `:`, e.g. `b[2] == b[2, :]`"
   ]
  },
  {
   "cell_type": "code",
   "execution_count": 79,
   "id": "64357ba7-43e1-4ec3-b267-b13edbf00170",
   "metadata": {
    "tags": []
   },
   "outputs": [
    {
     "data": {
      "text/plain": [
       "array([40, 41, 42, 43])"
      ]
     },
     "execution_count": 79,
     "metadata": {},
     "output_type": "execute_result"
    }
   ],
   "source": [
    "b[-1]"
   ]
  },
  {
   "cell_type": "code",
   "execution_count": 80,
   "id": "e9745a8d-9a99-4cb2-90ce-648382ae7b10",
   "metadata": {
    "tags": []
   },
   "outputs": [
    {
     "data": {
      "text/plain": [
       "array([40, 41, 42, 43])"
      ]
     },
     "execution_count": 80,
     "metadata": {},
     "output_type": "execute_result"
    }
   ],
   "source": [
    "b[-1, :]"
   ]
  },
  {
   "cell_type": "markdown",
   "id": "73a67ba8-b47c-4335-bfb0-b0637f8eeae2",
   "metadata": {},
   "source": [
    "Numpy also allows for usage of `...` which are representing all remaining axes"
   ]
  },
  {
   "cell_type": "code",
   "execution_count": 81,
   "id": "2438fefe-71ff-4997-a70d-68b1ea3d1b28",
   "metadata": {
    "tags": []
   },
   "outputs": [
    {
     "name": "stdout",
     "output_type": "stream",
     "text": [
      "c: [[[ 0 -1 -2]\n",
      "  [ 1  0 -1]\n",
      "  [ 2  1  0]\n",
      "  [ 3  2  1]]\n",
      "\n",
      " [[10  9  8]\n",
      "  [11 10  9]\n",
      "  [12 11 10]\n",
      "  [13 12 11]]\n",
      "\n",
      " [[20 19 18]\n",
      "  [21 20 19]\n",
      "  [22 21 20]\n",
      "  [23 22 21]]\n",
      "\n",
      " [[30 29 28]\n",
      "  [31 30 29]\n",
      "  [32 31 30]\n",
      "  [33 32 31]]\n",
      "\n",
      " [[40 39 38]\n",
      "  [41 40 39]\n",
      "  [42 41 40]\n",
      "  [43 42 41]]]\n"
     ]
    }
   ],
   "source": [
    "c = np.fromfunction(lambda x, y, z: 10 * x + y - z, (5, 4, 3), dtype=int)\n",
    "print(f\"c: {c}\")"
   ]
  },
  {
   "cell_type": "code",
   "execution_count": 84,
   "id": "157759a0-8298-416b-b1e7-c05e488d5b62",
   "metadata": {
    "tags": []
   },
   "outputs": [
    {
     "data": {
      "text/plain": [
       "array([[10,  9,  8],\n",
       "       [11, 10,  9],\n",
       "       [12, 11, 10],\n",
       "       [13, 12, 11]])"
      ]
     },
     "execution_count": 84,
     "metadata": {},
     "output_type": "execute_result"
    }
   ],
   "source": [
    "c[1, ...]"
   ]
  },
  {
   "cell_type": "code",
   "execution_count": 85,
   "id": "cb6beb87-e4bf-4393-b85c-e0d57b161708",
   "metadata": {
    "tags": []
   },
   "outputs": [
    {
     "data": {
      "text/plain": [
       "array([[10,  9,  8],\n",
       "       [11, 10,  9],\n",
       "       [12, 11, 10],\n",
       "       [13, 12, 11]])"
      ]
     },
     "execution_count": 85,
     "metadata": {},
     "output_type": "execute_result"
    }
   ],
   "source": [
    "c[1, :, :]"
   ]
  },
  {
   "cell_type": "markdown",
   "id": "6a8ab3dd-e699-4bcc-8d8e-d255a6247e25",
   "metadata": {},
   "source": [
    "`...` can be also used at the begining or in the middle of slice"
   ]
  },
  {
   "cell_type": "code",
   "execution_count": 86,
   "id": "d8b3aeb3-78cb-4b60-bba1-d54c9329d641",
   "metadata": {
    "tags": []
   },
   "outputs": [
    {
     "data": {
      "text/plain": [
       "array([ 8,  9, 10, 11])"
      ]
     },
     "execution_count": 86,
     "metadata": {},
     "output_type": "execute_result"
    }
   ],
   "source": [
    "c[1, ..., 2]"
   ]
  },
  {
   "cell_type": "code",
   "execution_count": 87,
   "id": "5bbba1d0-90c6-46ea-b4ae-38ad64477398",
   "metadata": {
    "tags": []
   },
   "outputs": [
    {
     "data": {
      "text/plain": [
       "array([ 8,  9, 10, 11])"
      ]
     },
     "execution_count": 87,
     "metadata": {},
     "output_type": "execute_result"
    }
   ],
   "source": [
    "c[1, :, 2]"
   ]
  },
  {
   "cell_type": "markdown",
   "id": "cd07c14d-459d-4f6c-af01-3c664e17f3ba",
   "metadata": {},
   "source": [
    "Iterating over multidimensional arrays is done with respect to the first axis"
   ]
  },
  {
   "cell_type": "code",
   "execution_count": 88,
   "id": "dc4fd538-f646-4597-813d-157cbea8fe1f",
   "metadata": {
    "tags": []
   },
   "outputs": [
    {
     "name": "stdout",
     "output_type": "stream",
     "text": [
      "[0 1 2 3]\n",
      "[10 11 12 13]\n",
      "[20 21 22 23]\n",
      "[30 31 32 33]\n",
      "[40 41 42 43]\n"
     ]
    }
   ],
   "source": [
    "for row in b:\n",
    "    print(row)"
   ]
  },
  {
   "cell_type": "code",
   "execution_count": 89,
   "id": "54654145-fb3d-4a75-b076-797fd02bc616",
   "metadata": {
    "tags": []
   },
   "outputs": [
    {
     "name": "stdout",
     "output_type": "stream",
     "text": [
      "[[ 0 -1 -2]\n",
      " [ 1  0 -1]\n",
      " [ 2  1  0]\n",
      " [ 3  2  1]]\n",
      "[[10  9  8]\n",
      " [11 10  9]\n",
      " [12 11 10]\n",
      " [13 12 11]]\n",
      "[[20 19 18]\n",
      " [21 20 19]\n",
      " [22 21 20]\n",
      " [23 22 21]]\n",
      "[[30 29 28]\n",
      " [31 30 29]\n",
      " [32 31 30]\n",
      " [33 32 31]]\n",
      "[[40 39 38]\n",
      " [41 40 39]\n",
      " [42 41 40]\n",
      " [43 42 41]]\n"
     ]
    }
   ],
   "source": [
    "for m in c:\n",
    "    print(m)"
   ]
  },
  {
   "cell_type": "markdown",
   "id": "638348dd-7261-4f2c-9ffc-c70ee55355f0",
   "metadata": {},
   "source": [
    "If we want to perform an operation on each element in the array, we can use `flat` attribute which is `iterator` over all the elements in the array"
   ]
  },
  {
   "cell_type": "code",
   "execution_count": 90,
   "id": "7a67380f-17bb-4bfc-ba59-76caa9088256",
   "metadata": {
    "tags": []
   },
   "outputs": [
    {
     "name": "stdout",
     "output_type": "stream",
     "text": [
      "0\n",
      "1\n",
      "2\n",
      "3\n",
      "10\n",
      "11\n",
      "12\n",
      "13\n",
      "20\n",
      "21\n",
      "22\n",
      "23\n",
      "30\n",
      "31\n",
      "32\n",
      "33\n",
      "40\n",
      "41\n",
      "42\n",
      "43\n"
     ]
    }
   ],
   "source": [
    "for elem in b.flat:\n",
    "    print(elem)"
   ]
  },
  {
   "cell_type": "markdown",
   "id": "232c8a97-b824-4bc5-9039-15b680958398",
   "metadata": {},
   "source": [
    "## Shape manipulation"
   ]
  },
  {
   "cell_type": "markdown",
   "id": "6e8a609d-de06-46ef-b3a9-e25a21c1a3ec",
   "metadata": {},
   "source": [
    "### Changing the shape of an array"
   ]
  },
  {
   "cell_type": "code",
   "execution_count": 91,
   "id": "8b462a8d-35a8-4d42-a9e6-eea6284a6638",
   "metadata": {
    "tags": []
   },
   "outputs": [
    {
     "name": "stdout",
     "output_type": "stream",
     "text": [
      "a: [[8. 4. 5. 0.]\n",
      " [7. 5. 3. 7.]\n",
      " [3. 4. 1. 4.]]\n"
     ]
    }
   ],
   "source": [
    "a = np.floor(10 * rg.random((3, 4)))\n",
    "print(f\"a: {a}\")"
   ]
  },
  {
   "cell_type": "code",
   "execution_count": 92,
   "id": "3a8e469a-b93e-42d9-be82-8a2511df8d8e",
   "metadata": {
    "tags": []
   },
   "outputs": [
    {
     "data": {
      "text/plain": [
       "(3, 4)"
      ]
     },
     "execution_count": 92,
     "metadata": {},
     "output_type": "execute_result"
    }
   ],
   "source": [
    "a.shape "
   ]
  },
  {
   "cell_type": "code",
   "execution_count": 93,
   "id": "54bd4a4d-93f1-4d83-b0b2-1885f431db3d",
   "metadata": {
    "tags": []
   },
   "outputs": [
    {
     "data": {
      "text/plain": [
       "array([8., 4., 5., 0., 7., 5., 3., 7., 3., 4., 1., 4.])"
      ]
     },
     "execution_count": 93,
     "metadata": {},
     "output_type": "execute_result"
    }
   ],
   "source": [
    "a.ravel() # returns the flattened array"
   ]
  },
  {
   "cell_type": "code",
   "execution_count": 97,
   "id": "0022a08c-5aee-44ee-80b1-47c78440d7bc",
   "metadata": {
    "tags": []
   },
   "outputs": [
    {
     "data": {
      "text/plain": [
       "array([[8., 4.],\n",
       "       [5., 0.],\n",
       "       [7., 5.],\n",
       "       [3., 7.],\n",
       "       [3., 4.],\n",
       "       [1., 4.]])"
      ]
     },
     "execution_count": 97,
     "metadata": {},
     "output_type": "execute_result"
    }
   ],
   "source": [
    "a.reshape(6, 2) # returns the array with modified shape"
   ]
  },
  {
   "cell_type": "code",
   "execution_count": 98,
   "id": "175c05da-563a-476a-b253-f8d826b50fd3",
   "metadata": {
    "tags": []
   },
   "outputs": [
    {
     "data": {
      "text/plain": [
       "array([[8., 7., 3.],\n",
       "       [4., 5., 4.],\n",
       "       [5., 3., 1.],\n",
       "       [0., 7., 4.]])"
      ]
     },
     "execution_count": 98,
     "metadata": {},
     "output_type": "execute_result"
    }
   ],
   "source": [
    "a.T # returns transposed array"
   ]
  },
  {
   "cell_type": "code",
   "execution_count": 96,
   "id": "40557b96-4098-4dc5-b5e2-daed2bf51097",
   "metadata": {
    "tags": []
   },
   "outputs": [
    {
     "data": {
      "text/plain": [
       "(4, 3)"
      ]
     },
     "execution_count": 96,
     "metadata": {},
     "output_type": "execute_result"
    }
   ],
   "source": [
    "a.T.shape"
   ]
  },
  {
   "cell_type": "markdown",
   "id": "99c20a91-536f-486b-b471-8becde06a606",
   "metadata": {},
   "source": [
    "If a dimension is given as `-1` in the reshaping operation, the other dims are calc. automatically"
   ]
  },
  {
   "cell_type": "code",
   "execution_count": 99,
   "id": "32ca9a95-6072-4fb3-ab22-284bf1d11ebf",
   "metadata": {
    "tags": []
   },
   "outputs": [
    {
     "data": {
      "text/plain": [
       "array([[8., 4., 5., 0.],\n",
       "       [7., 5., 3., 7.],\n",
       "       [3., 4., 1., 4.]])"
      ]
     },
     "execution_count": 99,
     "metadata": {},
     "output_type": "execute_result"
    }
   ],
   "source": [
    "a.reshape(3, -1)"
   ]
  },
  {
   "cell_type": "markdown",
   "id": "e541a6d4-683d-4c09-97c8-1e61389dacf8",
   "metadata": {},
   "source": [
    "### Stacking together different arrays\n",
    "\n",
    "Several arrays can be stacked together along diff. axes"
   ]
  },
  {
   "cell_type": "code",
   "execution_count": 104,
   "id": "c43fb43b-9021-4ae4-8a51-cc809c2da345",
   "metadata": {
    "tags": []
   },
   "outputs": [
    {
     "name": "stdout",
     "output_type": "stream",
     "text": [
      "a: [[6. 9.]\n",
      " [0. 5.]]\n",
      "b: [[4. 0.]\n",
      " [6. 8.]]\n"
     ]
    }
   ],
   "source": [
    "a = np.floor(10 * rg.random((2, 2)))\n",
    "b = np.floor(10 * rg.random((2, 2)))\n",
    "print(f\"a: {a}\")\n",
    "print(f\"b: {b}\")"
   ]
  },
  {
   "cell_type": "code",
   "execution_count": 105,
   "id": "e861c7f6-15bf-489d-989a-28266b0c939b",
   "metadata": {
    "tags": []
   },
   "outputs": [
    {
     "data": {
      "text/plain": [
       "array([[6., 9.],\n",
       "       [0., 5.],\n",
       "       [4., 0.],\n",
       "       [6., 8.]])"
      ]
     },
     "execution_count": 105,
     "metadata": {},
     "output_type": "execute_result"
    }
   ],
   "source": [
    "np.vstack((a, b))"
   ]
  },
  {
   "cell_type": "code",
   "execution_count": 106,
   "id": "1150b0ff-418c-4f2d-8b28-91eab084dfdd",
   "metadata": {
    "tags": []
   },
   "outputs": [
    {
     "data": {
      "text/plain": [
       "array([[6., 9., 4., 0.],\n",
       "       [0., 5., 6., 8.]])"
      ]
     },
     "execution_count": 106,
     "metadata": {},
     "output_type": "execute_result"
    }
   ],
   "source": [
    "np.hstack((a, b))"
   ]
  },
  {
   "cell_type": "markdown",
   "id": "b92a2bf5-87a0-489a-baee-892d423f48ad",
   "metadata": {},
   "source": [
    "Function `column_stack` stack 1D arrays as columns into a 2D array"
   ]
  },
  {
   "cell_type": "markdown",
   "id": "81e5bb79-4075-46e6-bbe9-3c602c30b72c",
   "metadata": {},
   "source": [
    "## Spliting Arrays\n",
    "\n",
    "* `hsplit` splits an array along the horizontal axis\n",
    "* `vsplit` splits it along the vertical axis\n",
    "\n",
    "Arrays can be split either by specifying the num of equally shaped arrays to return, or by specifying the cols/rows after which division should occur"
   ]
  },
  {
   "cell_type": "code",
   "execution_count": 107,
   "id": "6c34c385-d22c-4f6b-b951-9adf5b484f5c",
   "metadata": {
    "tags": []
   },
   "outputs": [
    {
     "name": "stdout",
     "output_type": "stream",
     "text": [
      "[[5. 2. 8. 5. 5. 7. 1. 8. 6. 7. 1. 8.]\n",
      " [1. 0. 8. 8. 8. 4. 2. 0. 6. 7. 8. 2.]]\n"
     ]
    }
   ],
   "source": [
    "a = np.floor(10 * rg.random((2, 12)))\n",
    "print(a)"
   ]
  },
  {
   "cell_type": "code",
   "execution_count": 108,
   "id": "c9b75a64-8236-4762-9b0c-8adf9a9fd619",
   "metadata": {
    "tags": []
   },
   "outputs": [
    {
     "data": {
      "text/plain": [
       "[array([[5., 2., 8., 5.],\n",
       "        [1., 0., 8., 8.]]),\n",
       " array([[5., 7., 1., 8.],\n",
       "        [8., 4., 2., 0.]]),\n",
       " array([[6., 7., 1., 8.],\n",
       "        [6., 7., 8., 2.]])]"
      ]
     },
     "execution_count": 108,
     "metadata": {},
     "output_type": "execute_result"
    }
   ],
   "source": [
    "np.hsplit(a, 3)"
   ]
  },
  {
   "cell_type": "code",
   "execution_count": 109,
   "id": "972ad038-b4ad-4659-8d5a-d125e2e3987d",
   "metadata": {
    "tags": []
   },
   "outputs": [
    {
     "data": {
      "text/plain": [
       "[array([[5., 2., 8.],\n",
       "        [1., 0., 8.]]),\n",
       " array([[5.],\n",
       "        [8.]]),\n",
       " array([[5., 7., 1., 8., 6., 7., 1., 8.],\n",
       "        [8., 4., 2., 0., 6., 7., 8., 2.]])]"
      ]
     },
     "execution_count": 109,
     "metadata": {},
     "output_type": "execute_result"
    }
   ],
   "source": [
    "np.hsplit(a, (3, 4))"
   ]
  },
  {
   "cell_type": "markdown",
   "id": "458e5ab2-da35-4c79-ab14-f223f57cc39f",
   "metadata": {},
   "source": [
    "## Copies and views"
   ]
  },
  {
   "cell_type": "markdown",
   "id": "68750c38-2806-48bd-acc2-b26e63e85606",
   "metadata": {},
   "source": [
    "### No copy at all\n",
    "\n",
    "Simple assigment make no copy of object or their data. After simple assigment both sides points to the same underlying `ndarray`"
   ]
  },
  {
   "cell_type": "code",
   "execution_count": 111,
   "id": "9f6ff994-3c01-4270-ab74-2d151118707e",
   "metadata": {
    "tags": []
   },
   "outputs": [],
   "source": [
    "a = np.array([[ 0,  1,  2,  3],\n",
    "              [ 4,  5,  6,  7],\n",
    "              [ 8,  9, 10, 11]])\n",
    "b = a"
   ]
  },
  {
   "cell_type": "code",
   "execution_count": 112,
   "id": "3617e94a-74db-4a99-996f-e1f3caed65bb",
   "metadata": {
    "tags": []
   },
   "outputs": [
    {
     "data": {
      "text/plain": [
       "True"
      ]
     },
     "execution_count": 112,
     "metadata": {},
     "output_type": "execute_result"
    }
   ],
   "source": [
    "b is a"
   ]
  },
  {
   "cell_type": "markdown",
   "id": "9bdddfe6-1b21-47e1-94db-f5af3f8c7183",
   "metadata": {},
   "source": [
    "Python passes mutable objects as **references**, meaning that function calls make no copy of `ndarrays`"
   ]
  },
  {
   "cell_type": "code",
   "execution_count": 114,
   "id": "892870b6-1656-4666-967f-800f43c98234",
   "metadata": {
    "tags": []
   },
   "outputs": [
    {
     "name": "stdout",
     "output_type": "stream",
     "text": [
      "3197821921360\n",
      "3197821921360\n"
     ]
    }
   ],
   "source": [
    "def func(x):\n",
    "    print(id(x))\n",
    "          \n",
    "print(id(a))\n",
    "func(a)"
   ]
  },
  {
   "cell_type": "markdown",
   "id": "bd9bdfa7-3ddd-4acf-afde-9d0e2e94623a",
   "metadata": {},
   "source": [
    "### View or shallow copy\n",
    "\n",
    "Different array objects can share the same data, the `view` method creates a new array object that looks at the same data as other array"
   ]
  },
  {
   "cell_type": "code",
   "execution_count": 115,
   "id": "1e441113-b812-47e4-b6d5-cdb5b95212c5",
   "metadata": {
    "tags": []
   },
   "outputs": [],
   "source": [
    "c = a.view()"
   ]
  },
  {
   "cell_type": "code",
   "execution_count": 116,
   "id": "cf9dc873-ca55-44d2-8e00-ae329367e979",
   "metadata": {
    "tags": []
   },
   "outputs": [
    {
     "data": {
      "text/plain": [
       "False"
      ]
     },
     "execution_count": 116,
     "metadata": {},
     "output_type": "execute_result"
    }
   ],
   "source": [
    "c is a"
   ]
  },
  {
   "cell_type": "code",
   "execution_count": 117,
   "id": "6de2b1a1-2aaa-4a7e-859e-513cc42f23c0",
   "metadata": {
    "tags": []
   },
   "outputs": [
    {
     "data": {
      "text/plain": [
       "False"
      ]
     },
     "execution_count": 117,
     "metadata": {},
     "output_type": "execute_result"
    }
   ],
   "source": [
    "c.flags.owndata"
   ]
  },
  {
   "cell_type": "code",
   "execution_count": 125,
   "id": "cf60dd59-ec6a-46ae-8211-2569f6b9b025",
   "metadata": {
    "tags": []
   },
   "outputs": [],
   "source": [
    "c = c.reshape((2, 6)) # a's shape doesnt change"
   ]
  },
  {
   "cell_type": "code",
   "execution_count": 126,
   "id": "30a93616-c2df-45a4-9a11-94f63ab78aba",
   "metadata": {
    "tags": []
   },
   "outputs": [
    {
     "data": {
      "text/plain": [
       "(3, 4)"
      ]
     },
     "execution_count": 126,
     "metadata": {},
     "output_type": "execute_result"
    }
   ],
   "source": [
    "a.shape"
   ]
  },
  {
   "cell_type": "code",
   "execution_count": 127,
   "id": "2d5eaccd-8fb2-4137-a0dd-7238e85215c0",
   "metadata": {
    "tags": []
   },
   "outputs": [],
   "source": [
    "c[0, 4] = 1234 # a's data changes"
   ]
  },
  {
   "cell_type": "code",
   "execution_count": 128,
   "id": "fc0abd44-da95-4363-ba14-551cd2bb0679",
   "metadata": {
    "tags": []
   },
   "outputs": [
    {
     "data": {
      "text/plain": [
       "array([[   0,    1,    2,    3],\n",
       "       [1234,    5,    6,    7],\n",
       "       [   8,    9,   10,   11]])"
      ]
     },
     "execution_count": 128,
     "metadata": {},
     "output_type": "execute_result"
    }
   ],
   "source": [
    "a"
   ]
  },
  {
   "cell_type": "markdown",
   "id": "5568f695-fa13-4bd6-b93d-f097d04f7b3b",
   "metadata": {},
   "source": [
    "Slicing an array return a view of it"
   ]
  },
  {
   "cell_type": "code",
   "execution_count": 129,
   "id": "1ea2b036-264c-44fc-969d-d6f0d80e2064",
   "metadata": {
    "tags": []
   },
   "outputs": [],
   "source": [
    "s = a[:, 1:3]"
   ]
  },
  {
   "cell_type": "code",
   "execution_count": 130,
   "id": "f76196ee-461d-41ed-b046-b521557650ef",
   "metadata": {
    "tags": []
   },
   "outputs": [],
   "source": [
    "s[:] = 10"
   ]
  },
  {
   "cell_type": "code",
   "execution_count": 131,
   "id": "94c777f3-4aa0-4b24-96bf-48f389686c8f",
   "metadata": {
    "tags": []
   },
   "outputs": [
    {
     "data": {
      "text/plain": [
       "array([[   0,   10,   10,    3],\n",
       "       [1234,   10,   10,    7],\n",
       "       [   8,   10,   10,   11]])"
      ]
     },
     "execution_count": 131,
     "metadata": {},
     "output_type": "execute_result"
    }
   ],
   "source": [
    "a"
   ]
  },
  {
   "cell_type": "code",
   "execution_count": 132,
   "id": "47fa3969-4b03-482d-9238-76e677442115",
   "metadata": {
    "tags": []
   },
   "outputs": [],
   "source": [
    "s = 12"
   ]
  },
  {
   "cell_type": "code",
   "execution_count": 133,
   "id": "250c929c-608e-4fea-abb3-b513043c946a",
   "metadata": {
    "tags": []
   },
   "outputs": [
    {
     "name": "stdout",
     "output_type": "stream",
     "text": [
      "12\n",
      "[[   0   10   10    3]\n",
      " [1234   10   10    7]\n",
      " [   8   10   10   11]]\n"
     ]
    }
   ],
   "source": [
    "print(s)\n",
    "print(a)"
   ]
  },
  {
   "cell_type": "markdown",
   "id": "ec418e50-22d9-4add-bad9-5d2aa107c854",
   "metadata": {},
   "source": [
    "### Deep copy\n",
    "\n",
    "The `copy` method makes a complete copy of the array and its data"
   ]
  },
  {
   "cell_type": "code",
   "execution_count": 135,
   "id": "a15e4e19-bd6e-42e3-99e1-26effa666246",
   "metadata": {
    "tags": []
   },
   "outputs": [
    {
     "data": {
      "text/plain": [
       "False"
      ]
     },
     "execution_count": 135,
     "metadata": {},
     "output_type": "execute_result"
    }
   ],
   "source": [
    "d = a.copy()\n",
    "d is a"
   ]
  },
  {
   "cell_type": "code",
   "execution_count": 136,
   "id": "e0571608-b86a-4c20-ab97-bb934bef9000",
   "metadata": {
    "tags": []
   },
   "outputs": [
    {
     "data": {
      "text/plain": [
       "False"
      ]
     },
     "execution_count": 136,
     "metadata": {},
     "output_type": "execute_result"
    }
   ],
   "source": [
    "d.base is a"
   ]
  },
  {
   "cell_type": "code",
   "execution_count": 137,
   "id": "c56e4f64-f160-47ca-85cf-f0f321766cfb",
   "metadata": {
    "tags": []
   },
   "outputs": [],
   "source": [
    "d[0, 0] = 2137"
   ]
  },
  {
   "cell_type": "code",
   "execution_count": 138,
   "id": "cfb58aad-c7df-4f77-8895-289c9f3ebeb9",
   "metadata": {
    "tags": []
   },
   "outputs": [
    {
     "data": {
      "text/plain": [
       "array([[   0,   10,   10,    3],\n",
       "       [1234,   10,   10,    7],\n",
       "       [   8,   10,   10,   11]])"
      ]
     },
     "execution_count": 138,
     "metadata": {},
     "output_type": "execute_result"
    }
   ],
   "source": [
    "a"
   ]
  },
  {
   "cell_type": "code",
   "execution_count": null,
   "id": "acdcca70-2997-463f-8f62-bd8e05e8877a",
   "metadata": {},
   "outputs": [],
   "source": []
  }
 ],
 "metadata": {
  "kernelspec": {
   "display_name": "Python 3 (ipykernel)",
   "language": "python",
   "name": "python3"
  },
  "language_info": {
   "codemirror_mode": {
    "name": "ipython",
    "version": 3
   },
   "file_extension": ".py",
   "mimetype": "text/x-python",
   "name": "python",
   "nbconvert_exporter": "python",
   "pygments_lexer": "ipython3",
   "version": "3.11.9"
  }
 },
 "nbformat": 4,
 "nbformat_minor": 5
}
