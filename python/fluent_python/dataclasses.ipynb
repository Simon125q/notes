{
 "cells": [
  {
   "cell_type": "markdown",
   "id": "33df7c86-74b3-40c8-b8fd-fd06def63df8",
   "metadata": {},
   "source": [
    "# Data Class Builders"
   ]
  },
  {
   "cell_type": "markdown",
   "id": "15d6d621-f2a0-4b38-bb84-0af6a1354611",
   "metadata": {},
   "source": [
    "Using `class` to build data class requires to use a boilerplate `__init__`  and it doesnt provide any basic features that might be expected from data class\n",
    "\n",
    "Main issues of using `class` to build data class:\n",
    "\n",
    "* `__repr__` inherited from `object` is not very helpful\n",
    "* meaningless `==` operator - the `__eq__` method inherited from `object` compares object IDs\n",
    "* comparing 2 data class instances requires explicit comparision of each attribute"
   ]
  },
  {
   "cell_type": "code",
   "execution_count": 1,
   "id": "a9e68798-9037-4a73-9584-75e8f5de7353",
   "metadata": {},
   "outputs": [],
   "source": [
    "class Coordinate:\n",
    "    def __init__(self, lat, lon):\n",
    "        self.lat = lat\n",
    "        self.lon = lon\n",
    "\n",
    "moscow = Coordinate(55.76, 37.62)\n",
    "location = Coordinate(55.76, 37.62)"
   ]
  },
  {
   "cell_type": "code",
   "execution_count": 2,
   "id": "ed38f36e-bf55-4c5b-a5b8-4ea87f417a73",
   "metadata": {},
   "outputs": [
    {
     "data": {
      "text/plain": [
       "<__main__.Coordinate at 0x2370fa97150>"
      ]
     },
     "execution_count": 2,
     "metadata": {},
     "output_type": "execute_result"
    }
   ],
   "source": [
    "moscow"
   ]
  },
  {
   "cell_type": "code",
   "execution_count": 3,
   "id": "7d6b4335-5ae3-4906-af78-b56b1ea609c6",
   "metadata": {},
   "outputs": [
    {
     "data": {
      "text/plain": [
       "False"
      ]
     },
     "execution_count": 3,
     "metadata": {},
     "output_type": "execute_result"
    }
   ],
   "source": [
    "location == moscow"
   ]
  },
  {
   "cell_type": "code",
   "execution_count": 4,
   "id": "a8b1560f-c07b-4d8e-b9a7-5d09afbb169c",
   "metadata": {},
   "outputs": [
    {
     "data": {
      "text/plain": [
       "True"
      ]
     },
     "execution_count": 4,
     "metadata": {},
     "output_type": "execute_result"
    }
   ],
   "source": [
    "(location.lat, location.lon) == (moscow.lat, moscow.lon)"
   ]
  },
  {
   "cell_type": "markdown",
   "id": "4e03b662-b27f-49ca-afdc-92ae2d7bfd92",
   "metadata": {},
   "source": [
    "## namedtuple\n",
    "\n",
    "`namedtuple` is a factory function that builds a subclass of `tuple` whith name and fields"
   ]
  },
  {
   "cell_type": "code",
   "execution_count": 31,
   "id": "485fa45f-22ae-47e9-bfd1-3d8fdc77a50b",
   "metadata": {},
   "outputs": [],
   "source": [
    "from collections import namedtuple\n",
    "\n",
    "Coordinate = namedtuple(\"Coordinate\", \"lat lon\")\n",
    "\n",
    "moscow = Coordinate(55.76, 37.62)\n",
    "location = Coordinate(55.76, 37.62)"
   ]
  },
  {
   "cell_type": "code",
   "execution_count": 32,
   "id": "de5776ce-9f36-4c7b-abf4-3a4290ff858a",
   "metadata": {},
   "outputs": [
    {
     "data": {
      "text/plain": [
       "Coordinate(lat=55.76, lon=37.62)"
      ]
     },
     "execution_count": 32,
     "metadata": {},
     "output_type": "execute_result"
    }
   ],
   "source": [
    "moscow"
   ]
  },
  {
   "cell_type": "code",
   "execution_count": 33,
   "id": "3d8a442c-90fe-4d6b-b7a3-f86ae9104944",
   "metadata": {},
   "outputs": [
    {
     "data": {
      "text/plain": [
       "True"
      ]
     },
     "execution_count": 33,
     "metadata": {},
     "output_type": "execute_result"
    }
   ],
   "source": [
    "moscow == location"
   ]
  },
  {
   "cell_type": "code",
   "execution_count": 34,
   "id": "26c4bcd4-7c6e-4d70-aad8-0610f6b29b4e",
   "metadata": {},
   "outputs": [
    {
     "data": {
      "text/plain": [
       "55.76"
      ]
     },
     "execution_count": 34,
     "metadata": {},
     "output_type": "execute_result"
    }
   ],
   "source": [
    "moscow.lat"
   ]
  },
  {
   "cell_type": "code",
   "execution_count": 35,
   "id": "fd53e476-8583-477f-8962-e54f919a4385",
   "metadata": {},
   "outputs": [
    {
     "data": {
      "text/plain": [
       "('lat', 'lon')"
      ]
     },
     "execution_count": 35,
     "metadata": {},
     "output_type": "execute_result"
    }
   ],
   "source": [
    "Coordinate._fields"
   ]
  },
  {
   "cell_type": "code",
   "execution_count": 36,
   "id": "ef756e28-a3fe-49a6-a5e6-813c0a012cef",
   "metadata": {},
   "outputs": [
    {
     "data": {
      "text/plain": [
       "{'lat': 55.76, 'lon': 37.62}"
      ]
     },
     "execution_count": 36,
     "metadata": {},
     "output_type": "execute_result"
    }
   ],
   "source": [
    "moscow._asdict()"
   ]
  },
  {
   "cell_type": "code",
   "execution_count": 38,
   "id": "3da91517-d104-404e-b80a-e5f91873ddac",
   "metadata": {},
   "outputs": [
    {
     "data": {
      "text/plain": [
       "'{\"lat\": 55.76, \"lon\": 37.62}'"
      ]
     },
     "execution_count": 38,
     "metadata": {},
     "output_type": "execute_result"
    }
   ],
   "source": [
    "import json\n",
    "\n",
    "json.dumps(moscow._asdict())"
   ]
  },
  {
   "cell_type": "markdown",
   "id": "91ca52a3-664b-4bda-8175-eebcb13b798c",
   "metadata": {},
   "source": [
    "`namedtuple` accepts the `defaults` keyword-only argument providing an iterable of *N* defualts values for each of the *N* rightmost fields of the class"
   ]
  },
  {
   "cell_type": "code",
   "execution_count": 40,
   "id": "3c7de59c-367a-4499-af92-65f1f807708e",
   "metadata": {},
   "outputs": [
    {
     "name": "stdout",
     "output_type": "stream",
     "text": [
      "Coordinate(lat=0, lon=0, reference='WGS84')\n",
      "Coordinate(lat=0, lon=0, reference='NEW')\n"
     ]
    }
   ],
   "source": [
    "Coordinate = namedtuple(\"Coordinate\", 'lat lon reference', defaults=[\"WGS84\"])\n",
    "print(Coordinate(0, 0))\n",
    "print(Coordinate(0, 0, \"NEW\"))"
   ]
  },
  {
   "cell_type": "markdown",
   "id": "5e8644a6-294f-450d-8fb0-f37d9176f868",
   "metadata": {},
   "source": [
    "## NamedTuple\n",
    "\n",
    "`typing.NamedTuple` provides the same functionality as `collections.namedtuple` with additional type annotations to each field"
   ]
  },
  {
   "cell_type": "code",
   "execution_count": 41,
   "id": "7b05adc2-78df-45a7-aa3c-9ac0bed6cd17",
   "metadata": {},
   "outputs": [],
   "source": [
    "import typing\n",
    "\n",
    "Coordinate = typing.NamedTuple('Coordinate',\n",
    "                              [('lat', float), ('lon', float)])\n",
    "\n",
    "moscow = Coordinate(55.76, 37.62)\n",
    "location = Coordinate(55.76, 37.62)"
   ]
  },
  {
   "cell_type": "code",
   "execution_count": 42,
   "id": "00271dff-9838-4db1-82cb-9252d60e1642",
   "metadata": {},
   "outputs": [
    {
     "data": {
      "text/plain": [
       "{'lat': float, 'lon': float}"
      ]
     },
     "execution_count": 42,
     "metadata": {},
     "output_type": "execute_result"
    }
   ],
   "source": [
    "typing.get_type_hints(Coordinate)"
   ]
  },
  {
   "cell_type": "code",
   "execution_count": 43,
   "id": "f153c890-8a04-4e28-b3f3-ca093fb97474",
   "metadata": {},
   "outputs": [
    {
     "data": {
      "text/plain": [
       "Coordinate(lat=55.76, lon=37.62)"
      ]
     },
     "execution_count": 43,
     "metadata": {},
     "output_type": "execute_result"
    }
   ],
   "source": [
    "moscow"
   ]
  },
  {
   "cell_type": "code",
   "execution_count": 44,
   "id": "f94d0fc6-023d-4400-b640-86ff3d60f3e1",
   "metadata": {},
   "outputs": [
    {
     "data": {
      "text/plain": [
       "True"
      ]
     },
     "execution_count": 44,
     "metadata": {},
     "output_type": "execute_result"
    }
   ],
   "source": [
    "moscow == location"
   ]
  },
  {
   "cell_type": "markdown",
   "id": "355f640e-a6f5-4a4c-ad2d-aceaf439ead9",
   "metadata": {},
   "source": [
    "**Tip** Typed named tuple can also be constructed with the fields given as keyword arguments. This is more readable, and allows to provide mapping of fields and types as `**fields_and_types`"
   ]
  },
  {
   "cell_type": "code",
   "execution_count": 45,
   "id": "9b4689a3-b1fc-4f7d-bb4f-d593237129c8",
   "metadata": {},
   "outputs": [
    {
     "name": "stdout",
     "output_type": "stream",
     "text": [
      "{'lat': <class 'float'>, 'lon': <class 'float'>}\n"
     ]
    }
   ],
   "source": [
    "Coordinate = typing.NamedTuple('Coordinate', lat=float, lon=float)\n",
    "\n",
    "print(typing.get_type_hints(Coordinate))"
   ]
  },
  {
   "cell_type": "code",
   "execution_count": 19,
   "id": "9dd46c06-7a4e-456e-b82a-ee26816042c0",
   "metadata": {},
   "outputs": [
    {
     "name": "stdout",
     "output_type": "stream",
     "text": [
      "{'lat': <class 'float'>, 'lon': <class 'float'>}\n"
     ]
    }
   ],
   "source": [
    "fields_and_types = {'lat': float, 'lon': float}\n",
    "\n",
    "Coordinate = typing.NamedTuple('Coordinate', **fields_and_types)\n",
    "\n",
    "print(typing.get_type_hints(Coordinate))"
   ]
  },
  {
   "cell_type": "markdown",
   "id": "5a19729f-1dd6-4974-b900-3b89836fe0b8",
   "metadata": {},
   "source": [
    "`typing.NamedTuple` can also be used in a `class` statement with type annotations. This more readable and makes it easy to override methods or add new. In that form we can also add default values by specifying them after type annotation."
   ]
  },
  {
   "cell_type": "code",
   "execution_count": 50,
   "id": "79f9803e-24b1-4a58-b15b-3e1cf51b8be8",
   "metadata": {},
   "outputs": [],
   "source": [
    "from typing import NamedTuple\n",
    "\n",
    "class Coordinate(NamedTuple):\n",
    "    lat: float\n",
    "    lon: float\n",
    "    reference: str = 'WGS84'\n",
    "\n",
    "    def __str__(self):\n",
    "        ns = 'N' if self.lat >= 0 else 'S'\n",
    "        we = 'E' if self.lon >= 0 else 'W'\n",
    "        return f'{abs(self.lat):.1f}°{ns}, {abs(self.lon):.1f}°{we} using {self.reference}'\n",
    "\n",
    "moscow = Coordinate(55.76, 37.62)"
   ]
  },
  {
   "cell_type": "code",
   "execution_count": 51,
   "id": "2f896342-9b9d-440d-b212-aeaa5fddc4ed",
   "metadata": {},
   "outputs": [
    {
     "name": "stdout",
     "output_type": "stream",
     "text": [
      "55.8°N, 37.6°E using WGS84\n"
     ]
    }
   ],
   "source": [
    "print(moscow)"
   ]
  },
  {
   "cell_type": "markdown",
   "id": "64497663-d22d-4e71-8629-fc58028640b5",
   "metadata": {},
   "source": [
    "## dataclass\n",
    "\n",
    "`dataclass` decorator supports the same syntax to declare instance attributes as `typing.NamedTuple`"
   ]
  },
  {
   "cell_type": "code",
   "execution_count": 27,
   "id": "ea6659a6-cbc4-444c-9450-6aa6ec0bff77",
   "metadata": {},
   "outputs": [],
   "source": [
    "from dataclasses import dataclass\n",
    "\n",
    "@dataclass(frozen=True)\n",
    "class Coordinate:\n",
    "    lat: float\n",
    "    lon: float\n",
    "    \n",
    "    def __str__(self):\n",
    "        ns = 'N' if self.lat >= 0 else 'S'\n",
    "        we = 'E' if self.lon >= 0 else 'W'\n",
    "        return f'{abs(self.lat):.1f}°{ns}, {abs(self.lon):.1f}°{we}'\n",
    "\n",
    "moscow = Coordinate(55.76, 37.62)"
   ]
  },
  {
   "cell_type": "code",
   "execution_count": 28,
   "id": "e0eca4cb-eb20-445a-8b50-96fc9c3f8ccc",
   "metadata": {},
   "outputs": [
    {
     "name": "stdout",
     "output_type": "stream",
     "text": [
      "55.8°N, 37.6°E\n"
     ]
    }
   ],
   "source": [
    "print(moscow)"
   ]
  },
  {
   "cell_type": "markdown",
   "id": "3fd56136-0791-4bb2-886f-a6537511ecf7",
   "metadata": {},
   "source": [
    "## Main features and differences of class builders"
   ]
  },
  {
   "cell_type": "markdown",
   "id": "cd393bab-b253-467b-8ceb-72eb68b80267",
   "metadata": {},
   "source": [
    "### Mutable instances\n",
    "\n",
    "A key difference between these class builders is that `collections.namedtuple` and `typing.NamedTuple` build `tuple` subclasses, therefore as the result the instances are **immutable**. In contrast `@dataclass` produces **mutable** classes, but the decorator accepts a keyword arg `frozen` which made class raise and exception when trying assign a value to field after initialization if `frozen == True`"
   ]
  },
  {
   "cell_type": "markdown",
   "id": "158d1d00-0e8f-4d6a-9cb2-259caedb8c0b",
   "metadata": {},
   "source": [
    "### Class statement syntax\n",
    "\n",
    "Only `typing.NamedTuple` and `dataclass` support the regular `class` statement syntax"
   ]
  },
  {
   "cell_type": "markdown",
   "id": "8d49cd22-d66b-4b05-86ab-a34f3ff02f1a",
   "metadata": {},
   "source": [
    "### Construct dict\n",
    "\n",
    "Both named tuple variants provide method `._asdict` to construct `dict` object from the fields in a data class instance, the `dataclasses` module provides function `dataclasses.asdict` to do it "
   ]
  },
  {
   "cell_type": "markdown",
   "id": "b7ba9477-ea35-4e64-a60f-0ed620aade7e",
   "metadata": {},
   "source": [
    "### Get field names and defualt values\n",
    "\n",
    "All 3 class builders allow to get field names and set default values.\n",
    "\n",
    "**named tuples** - in `._fields` and `._fields_defaults` class attributes\n",
    "\n",
    "**dataclass** - using `dataclasses.fields` func, it returns tuple of `Field` objects with attributes such as `name` and `defautl`"
   ]
  },
  {
   "cell_type": "markdown",
   "id": "7b4b55b7-fda8-4987-94c1-996bec72c568",
   "metadata": {},
   "source": [
    "### New class at runtime\n",
    "\n",
    "Although the `class` statement syntax is more readable, it is hardcoded. To build data classes at runtime default function call of `collections.namedtuple` and `typing.NamedTuple` can be used. The `dataclasses` module provides `make_dataclass` func for that."
   ]
  },
  {
   "cell_type": "markdown",
   "id": "b04e5316-71f7-47b0-b751-53a27d1b0443",
   "metadata": {},
   "source": [
    "### Field options\n",
    "\n",
    "**Python does not allowed parameters without defaults after those with defaults**\n",
    "\n",
    "When using mutable types as defaults, the `default_factory` must be used\n",
    "\n",
    "```python\n",
    "@dataclass\n",
    "class ClubMember:\n",
    "    name: str\n",
    "    guests: list = []\n",
    "```\n",
    "\n",
    "This code would not work correctly because it would create single list that would be referenced by all class instances.\n"
   ]
  },
  {
   "cell_type": "code",
   "execution_count": 2,
   "id": "94e1fac8-911a-4989-9d3a-4be7095cc0f5",
   "metadata": {},
   "outputs": [],
   "source": [
    "# Corect implementation of dataclass with mutable default field value\n",
    "from dataclasses import dataclass, field\n",
    "\n",
    "@dataclass\n",
    "class ClubMember:\n",
    "    name: str\n",
    "    guests: list[str] = field(default_factory=list)"
   ]
  },
  {
   "cell_type": "markdown",
   "id": "be07cc49-94cd-4d17-9f63-40ac7e211578",
   "metadata": {},
   "source": [
    "### Post-init Processing\n",
    "\n",
    "The `__init__` method generated by `@dataclass` only takes arguments passed and assigns them or their default values. If you want to do more at the initialization, you can use `__post_init__` method. When that method exists, `@dataclass` will add code to `__init__` to call `__post_init__` as the last step."
   ]
  },
  {
   "cell_type": "code",
   "execution_count": 7,
   "id": "5bece447-3e51-47ed-8c67-d2d80e128a57",
   "metadata": {},
   "outputs": [],
   "source": [
    "from dataclasses import dataclass\n",
    "from typing import ClassVar\n",
    "\n",
    "@dataclass \n",
    "class HackerClubMember(ClubMember):\n",
    "    all_handles: ClassVar[set[str]] = set()\n",
    "    handle: str = ''\n",
    "\n",
    "    def __post_init__(self):\n",
    "        cls = self.__class__\n",
    "        if self.handle == '':\n",
    "            self.handle = self.name.split()[0]\n",
    "        if self.handle in cls.all_handles:\n",
    "            msg = f\"handle {self.handle} already exitst\"\n",
    "            raise ValueError(msg)\n",
    "        cls.all_handles.add(self.handle)"
   ]
  },
  {
   "cell_type": "markdown",
   "id": "a7303f8d-6564-42ce-9c49-17c08f95e0d4",
   "metadata": {},
   "source": [
    "To provide type hint to class variable in @dataclass we have to use `ClassVar`"
   ]
  },
  {
   "cell_type": "markdown",
   "id": "ddb2496f-9fc4-436e-9788-7e54dd72ae48",
   "metadata": {},
   "source": [
    "#### @dataclass use example"
   ]
  },
  {
   "cell_type": "code",
   "execution_count": 26,
   "id": "6a1c2791-380f-44d2-b41c-3c9729332c9e",
   "metadata": {},
   "outputs": [],
   "source": [
    "from dataclasses import dataclass, field, fields\n",
    "from enum import Enum, auto\n",
    "import datetime\n",
    "\n",
    "class ResourceType(Enum):\n",
    "    BOOK = auto()\n",
    "    EBOOK = auto()\n",
    "    VIDEO = auto()\n",
    "\n",
    "@dataclass\n",
    "class Resource:\n",
    "    identifier: str\n",
    "    title: str = '<untitles'\n",
    "    creators: list[str] = field(default_factory=list)\n",
    "    date: datetime.date | None = None\n",
    "    type: ResourceType = ResourceType.BOOK\n",
    "    description: str = ''\n",
    "    language: str = ''\n",
    "    subject: list[str] = field(default_factory=list)\n",
    "\n",
    "    def __repr__(self):\n",
    "        cls = self.__class__\n",
    "        indent = ' ' * 4\n",
    "        res = [f'{cls.__name__}(']\n",
    "        for f in fields(cls):\n",
    "            value = getattr(self, f.name)\n",
    "            res.append(f'{indent}{f.name} = {value!r},')\n",
    "        res.append(')')\n",
    "        return '\\n'.join(res)"
   ]
  },
  {
   "cell_type": "code",
   "execution_count": 27,
   "id": "34eeb988-5da3-4fef-943c-21eed28c9c63",
   "metadata": {},
   "outputs": [],
   "source": [
    "description = 'Improving the design of existing code'\n",
    "book = Resource('978-0-13-475759-9', 'Refactoring, 2nd Edition',\n",
    "    ['Martin Fowler', 'Kent Beck'], date(2018, 11, 19),\n",
    "    ResourceType.BOOK, description, 'EN',\n",
    "    ['computer programming', 'OOP'])"
   ]
  },
  {
   "cell_type": "code",
   "execution_count": 28,
   "id": "63a14181-b77a-49f1-8078-73ab2a321c3b",
   "metadata": {},
   "outputs": [
    {
     "data": {
      "text/plain": [
       "Resource(\n",
       "    identifier = '978-0-13-475759-9',\n",
       "    title = 'Refactoring, 2nd Edition',\n",
       "    creators = ['Martin Fowler', 'Kent Beck'],\n",
       "    date = datetime.date(2018, 11, 19),\n",
       "    type = <ResourceType.BOOK: 1>,\n",
       "    description = 'Improving the design of existing code',\n",
       "    language = 'EN',\n",
       "    subject = ['computer programming', 'OOP'],\n",
       ")"
      ]
     },
     "execution_count": 28,
     "metadata": {},
     "output_type": "execute_result"
    }
   ],
   "source": [
    "book"
   ]
  },
  {
   "cell_type": "markdown",
   "id": "9533ba0b-761e-4265-b0c0-f85d36092277",
   "metadata": {},
   "source": [
    "### Pattern Matching Class Instances"
   ]
  },
  {
   "cell_type": "markdown",
   "id": "5d481937-f209-454b-b45b-984ddde695d4",
   "metadata": {},
   "source": [
    "#### Simple class patterns\n",
    "\n",
    "The syntax for class patterns looks like a constructor invocation.\n",
    "\n",
    "```python\n",
    "match x:\n",
    "    case float():\n",
    "        do_something_with(x)\n",
    "```\n",
    "\n",
    "This will match any `float` value without binding a variable\n",
    "\n",
    "**remember about `()`**"
   ]
  },
  {
   "cell_type": "markdown",
   "id": "fb4424fa-0102-4d47-a5b0-edfdedfae957",
   "metadata": {},
   "source": [
    "#### Keyword class patterns"
   ]
  },
  {
   "cell_type": "code",
   "execution_count": 29,
   "id": "06ab6d60-a029-4edd-adc1-97e23c0ec0e7",
   "metadata": {},
   "outputs": [],
   "source": [
    "import typing\n",
    "\n",
    "class City(typing.NamedTuple):\n",
    "    continent: str\n",
    "    name: str\n",
    "    country: str\n",
    "\n",
    "cities = [\n",
    "    City('Asia', 'Tokyo', 'JP'),\n",
    "    City('Asia', 'Delhi', 'IN'),\n",
    "    City('North America', 'Mexico City', 'MX'),\n",
    "    City('North America', 'New York', 'US'),\n",
    "    City('South America', 'São Paulo', 'BR'),\n",
    "]"
   ]
  },
  {
   "cell_type": "code",
   "execution_count": 32,
   "id": "94b91ace-9d2e-41e4-951b-c8b3c57bd765",
   "metadata": {},
   "outputs": [
    {
     "name": "stdout",
     "output_type": "stream",
     "text": [
      "['JP', 'IN']\n"
     ]
    }
   ],
   "source": [
    "results = []\n",
    "for city in cities:\n",
    "    match city:\n",
    "        case City(continent='Asia', country=cc): # matches any city with continent = Asia and bounds coutry to cc var\n",
    "            results.append(cc)\n",
    "print(results)"
   ]
  },
  {
   "cell_type": "markdown",
   "id": "ffe7f928-f88a-4b7d-bbb4-8c63a11a5f54",
   "metadata": {},
   "source": [
    "#### Positional class patterns"
   ]
  },
  {
   "cell_type": "code",
   "execution_count": 34,
   "id": "ace057ec-879c-44a7-b6c1-a76e82b44151",
   "metadata": {},
   "outputs": [
    {
     "name": "stdout",
     "output_type": "stream",
     "text": [
      "['JP', 'IN']\n"
     ]
    }
   ],
   "source": [
    "results = []\n",
    "for city in cities:\n",
    "    match city:\n",
    "        case City('Asia', _, country):\n",
    "            results.append(country)\n",
    "print(results)"
   ]
  },
  {
   "cell_type": "code",
   "execution_count": null,
   "id": "e952a59f-86a9-483e-be81-456084e19c0c",
   "metadata": {},
   "outputs": [],
   "source": []
  }
 ],
 "metadata": {
  "kernelspec": {
   "display_name": "Python 3 (ipykernel)",
   "language": "python",
   "name": "python3"
  },
  "language_info": {
   "codemirror_mode": {
    "name": "ipython",
    "version": 3
   },
   "file_extension": ".py",
   "mimetype": "text/x-python",
   "name": "python",
   "nbconvert_exporter": "python",
   "pygments_lexer": "ipython3",
   "version": "3.11.9"
  }
 },
 "nbformat": 4,
 "nbformat_minor": 5
}
