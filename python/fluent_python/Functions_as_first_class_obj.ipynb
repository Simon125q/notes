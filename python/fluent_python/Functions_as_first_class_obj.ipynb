{
 "cells": [
  {
   "cell_type": "markdown",
   "id": "9e50a5a1-a5b8-4e84-b290-2d25ba2f6d1a",
   "metadata": {},
   "source": [
    "# Functions as First-class Objects\n",
    "\n",
    "Functions in python are first-class objects. First-class objects can be:\n",
    "\n",
    "* created at runtime\n",
    "* assigned to a variable or element in data structure\n",
    "* passed as an argument to a function\n",
    "* returned as a result of a function\n",
    "\n",
    "*Other first-class objects in python are eg. integers, strings, dicts ect.*"
   ]
  },
  {
   "cell_type": "code",
   "execution_count": 1,
   "id": "f909eab6-7e86-482b-9e3c-942802e85e11",
   "metadata": {},
   "outputs": [],
   "source": [
    "def factorial(n):\n",
    "    \"\"\"returns n!\"\"\"\n",
    "    return 1 if n < 2 else n * factorial(n - 1)"
   ]
  },
  {
   "cell_type": "code",
   "execution_count": 2,
   "id": "39b4c0b9-b688-47b2-b59e-3b5390946379",
   "metadata": {},
   "outputs": [
    {
     "data": {
      "text/plain": [
       "'returns n!'"
      ]
     },
     "execution_count": 2,
     "metadata": {},
     "output_type": "execute_result"
    }
   ],
   "source": [
    "factorial.__doc__"
   ]
  },
  {
   "cell_type": "code",
   "execution_count": 3,
   "id": "b1ae94a9-f121-449c-a239-9b2c72bf4dc8",
   "metadata": {},
   "outputs": [
    {
     "data": {
      "text/plain": [
       "function"
      ]
     },
     "execution_count": 3,
     "metadata": {},
     "output_type": "execute_result"
    }
   ],
   "source": [
    "type(factorial)"
   ]
  },
  {
   "cell_type": "markdown",
   "id": "2fe35215-dc3f-4271-8567-4f966510f21e",
   "metadata": {},
   "source": [
    "## Higher-Order Functions\n",
    "\n",
    "A function that takes a function as an argument or returns funtion is a *higher-order function*. An example of higher-order function is `map` or `sorted`"
   ]
  },
  {
   "cell_type": "markdown",
   "id": "aa462647-63de-4086-b5f3-fef7d05252ab",
   "metadata": {},
   "source": [
    "In python since introduction of **listcomps** and **genexps** the functions `map`, `filter` and `reduce` higher-order functions are not that important. "
   ]
  },
  {
   "cell_type": "code",
   "execution_count": 6,
   "id": "e7c79de3-f394-4649-b5e7-0dc539e4a2d8",
   "metadata": {},
   "outputs": [
    {
     "data": {
      "text/plain": [
       "[1, 1, 2, 6, 24, 120]"
      ]
     },
     "execution_count": 6,
     "metadata": {},
     "output_type": "execute_result"
    }
   ],
   "source": [
    "list(map(factorial, range(6)))"
   ]
  },
  {
   "cell_type": "code",
   "execution_count": 7,
   "id": "76937886-3b48-420c-a5e0-cbea1e06b592",
   "metadata": {},
   "outputs": [
    {
     "data": {
      "text/plain": [
       "[1, 1, 2, 6, 24, 120]"
      ]
     },
     "execution_count": 7,
     "metadata": {},
     "output_type": "execute_result"
    }
   ],
   "source": [
    "[factorial(n) for n in range(6)]"
   ]
  },
  {
   "cell_type": "code",
   "execution_count": 8,
   "id": "58e91e29-50cf-4c19-9cde-87ac77dc82ed",
   "metadata": {},
   "outputs": [
    {
     "data": {
      "text/plain": [
       "[1, 6, 120]"
      ]
     },
     "execution_count": 8,
     "metadata": {},
     "output_type": "execute_result"
    }
   ],
   "source": [
    "list(map(factorial, filter(lambda n: n % 2, range(6))))"
   ]
  },
  {
   "cell_type": "code",
   "execution_count": 9,
   "id": "48285607-1716-4745-9272-9fc241a7cfb3",
   "metadata": {},
   "outputs": [
    {
     "data": {
      "text/plain": [
       "[1, 6, 120]"
      ]
     },
     "execution_count": 9,
     "metadata": {},
     "output_type": "execute_result"
    }
   ],
   "source": [
    "[factorial(n) for n in range(6) if n % 2]"
   ]
  },
  {
   "cell_type": "markdown",
   "id": "64bd2f82-a988-438c-af2f-740ca211cfb2",
   "metadata": {},
   "source": [
    "When it comes to `reduce` its most popular uses are replaced by `sum`, `all` and `any`\n",
    "\n",
    "* `all(iterable)` returns `True` is there are no falsy elements in the iterable\n",
    "* `any(iterable)` returns `True` if any elem in the iterable is truthy\n",
    "* `sum(iterable)` returns sum of all elements in iterable"
   ]
  },
  {
   "cell_type": "markdown",
   "id": "bb6d4667-b279-40e4-8b18-b1b5ed790c06",
   "metadata": {},
   "source": [
    "## Anonymous Functions\n",
    "\n",
    "The `lambda` keyword creates an anonymous function within a python expresion.\n",
    "\n",
    "The body of `lambda` func must be pure expressions, so the body cannot contain any statements for example `while`, `try` or even assigment operator `=`. The assigment expression `:=` can be used"
   ]
  },
  {
   "cell_type": "code",
   "execution_count": 10,
   "id": "e82c4e16-5b23-46b4-b161-cece83128025",
   "metadata": {},
   "outputs": [],
   "source": [
    "fruits = ['strawberry', 'fig', 'apple', 'cherry', 'raspberry', 'banana']"
   ]
  },
  {
   "cell_type": "code",
   "execution_count": 11,
   "id": "89745b05-7ae4-4683-adce-16180693dd30",
   "metadata": {},
   "outputs": [
    {
     "data": {
      "text/plain": [
       "['banana', 'apple', 'fig', 'raspberry', 'strawberry', 'cherry']"
      ]
     },
     "execution_count": 11,
     "metadata": {},
     "output_type": "execute_result"
    }
   ],
   "source": [
    "sorted(fruits, key=lambda word: word[::-1])"
   ]
  },
  {
   "cell_type": "markdown",
   "id": "b014c864-9acc-4c91-9e28-0638788fe18f",
   "metadata": {},
   "source": [
    "## Callable Objects\n",
    "\n",
    "The call operator `()` may be applied to other objects besides functions. In order to determine if an obj is callable, `callable()` can be used.\n",
    "\n",
    "As of python 3.9 there are 9 callable types:\n",
    "\n",
    "* User-definded functions - func created with `def` statements or `lambda` expressions\n",
    "* Build-in functions - func impl. in C like `len`\n",
    "* Build-in methods - methods impl. in C like `dict.get`\n",
    "* Methods - func def. in class body\n",
    "* Classes - There is no `new` keyword in python, so calling a class is like calling a func\n",
    "* Class instances - if class defines `__call__`, then its instances may be invoked as functions\n",
    "* Generator functions - func or methods that use the `yield` keyword in their body\n",
    "* Native coroutine functions - func or methods defined with `async def`, when called return coroutine object\n",
    "* Asynchronous generator functions - func or methods defined with `async def` that have `yield` in their body"
   ]
  },
  {
   "cell_type": "code",
   "execution_count": 12,
   "id": "01aa056f-fe79-42e0-9639-0aa87c913ce5",
   "metadata": {},
   "outputs": [
    {
     "data": {
      "text/plain": [
       "[True, True, False]"
      ]
     },
     "execution_count": 12,
     "metadata": {},
     "output_type": "execute_result"
    }
   ],
   "source": [
    "[callable(obj) for obj in (abs, str, 'Ni!')]"
   ]
  },
  {
   "cell_type": "markdown",
   "id": "42a0f371-fbf9-4b52-8bbb-07026966292c",
   "metadata": {},
   "source": [
    "## User-Defined Callable Types\n",
    "\n",
    "Arbitrary python objects may be made to behave like functions by implementing `__call__` method"
   ]
  },
  {
   "cell_type": "code",
   "execution_count": 13,
   "id": "10bd99d7-b41e-40ea-8a1f-c16b938a3c69",
   "metadata": {},
   "outputs": [],
   "source": [
    "import random\n",
    "\n",
    "class BingoCage:\n",
    "    def __init__(self, items):\n",
    "        self._items = list(items)\n",
    "        random.shuffle(self._items)\n",
    "    def pick(self):\n",
    "        try:\n",
    "            return self._items.pop()\n",
    "        except IndexError:\n",
    "            raise LookupError('pick from empty BingoCage')\n",
    "    def __call__(self):\n",
    "        return self.pick()"
   ]
  },
  {
   "cell_type": "code",
   "execution_count": 14,
   "id": "6e387265-5914-48b3-bbf6-263ff2800a75",
   "metadata": {},
   "outputs": [],
   "source": [
    "bingo = BingoCage(range(3))"
   ]
  },
  {
   "cell_type": "code",
   "execution_count": 15,
   "id": "095d844f-6b49-4b16-8589-b24bfdf90ad9",
   "metadata": {},
   "outputs": [
    {
     "data": {
      "text/plain": [
       "2"
      ]
     },
     "execution_count": 15,
     "metadata": {},
     "output_type": "execute_result"
    }
   ],
   "source": [
    "bingo.pick()"
   ]
  },
  {
   "cell_type": "code",
   "execution_count": 16,
   "id": "df6face6-0dbb-4b5e-8147-723de88f4e40",
   "metadata": {},
   "outputs": [
    {
     "data": {
      "text/plain": [
       "0"
      ]
     },
     "execution_count": 16,
     "metadata": {},
     "output_type": "execute_result"
    }
   ],
   "source": [
    "bingo()"
   ]
  },
  {
   "cell_type": "code",
   "execution_count": 17,
   "id": "2873f529-3210-4fc8-b712-14418266f499",
   "metadata": {},
   "outputs": [
    {
     "data": {
      "text/plain": [
       "True"
      ]
     },
     "execution_count": 17,
     "metadata": {},
     "output_type": "execute_result"
    }
   ],
   "source": [
    "callable(bingo)"
   ]
  },
  {
   "cell_type": "markdown",
   "id": "92fdd4fe-31bc-4da3-97dc-4e99abf69243",
   "metadata": {},
   "source": [
    "## Positional and Keyword Parameters\n",
    "\n",
    "`*` and `**` can be used to unpack iterables and mappings into separate arguments when we call a function.\n",
    "\n",
    "The `*` and `**` can also be used in function definition to capture undefined number of parameters. Here is an example\n",
    "\n",
    "```python\n",
    "def tag(name, *content, class_=None, **attrs):\n",
    "```\n",
    "\n",
    "* The `name` param can be assigned as positional and as keyword argument\n",
    "* `*content` captures as `tuple` any number of positional arguments that appear after `name`\n",
    "* `class_` param can be only passed as a keyword argument because any positional arg would be captured by `*content`\n",
    "* `**attrs` captures as `dict` all keyword arguments not explicitly named in `tag` signature "
   ]
  },
  {
   "cell_type": "markdown",
   "id": "475e1bf0-fbc0-4df7-b459-adf12438c2ff",
   "metadata": {},
   "source": [
    "### Keyword only arguments\n",
    "\n",
    "To specify keyword-only arguments when defining a function, they have to be named after arg prefixed with `*`. The `*` can be used at its own to specify keyword-only arguments without capturing any additional positional arguments"
   ]
  },
  {
   "cell_type": "code",
   "execution_count": 18,
   "id": "9e0481a4-d51a-4d3c-91d2-33d89e03d178",
   "metadata": {},
   "outputs": [],
   "source": [
    "def f(a, *, b):\n",
    "    return a, b"
   ]
  },
  {
   "cell_type": "code",
   "execution_count": 19,
   "id": "83b28d19-5bb8-4414-9f08-91619589a080",
   "metadata": {},
   "outputs": [
    {
     "data": {
      "text/plain": [
       "(1, 2)"
      ]
     },
     "execution_count": 19,
     "metadata": {},
     "output_type": "execute_result"
    }
   ],
   "source": [
    "f(1, b=2)"
   ]
  },
  {
   "cell_type": "code",
   "execution_count": 20,
   "id": "5c34d26b-fecf-4dfe-b69e-61fb2bef3936",
   "metadata": {},
   "outputs": [
    {
     "ename": "TypeError",
     "evalue": "f() takes 1 positional argument but 2 were given",
     "output_type": "error",
     "traceback": [
      "\u001b[1;31m---------------------------------------------------------------------------\u001b[0m",
      "\u001b[1;31mTypeError\u001b[0m                                 Traceback (most recent call last)",
      "Cell \u001b[1;32mIn[20], line 1\u001b[0m\n\u001b[1;32m----> 1\u001b[0m f(\u001b[38;5;241m1\u001b[39m, \u001b[38;5;241m2\u001b[39m)\n",
      "\u001b[1;31mTypeError\u001b[0m: f() takes 1 positional argument but 2 were given"
     ]
    }
   ],
   "source": [
    "f(1, 2)"
   ]
  },
  {
   "cell_type": "markdown",
   "id": "9f48dcd7-df2d-4ea4-9c88-44a6935d721e",
   "metadata": {},
   "source": [
    "### Positional only arguments\n",
    "\n",
    "To define a function requiring positional-only parameters, use `/` in the parameter list. All arguments to the left of the `/` are positional-only, after `/` other arguments may be specified which will work as usual."
   ]
  },
  {
   "cell_type": "code",
   "execution_count": 23,
   "id": "d263b29f-bd88-472c-b80f-d166b2e75ea9",
   "metadata": {},
   "outputs": [],
   "source": [
    "def divmod(a, b, /):\n",
    "    return (a // b, a % b)"
   ]
  },
  {
   "cell_type": "code",
   "execution_count": 24,
   "id": "2690069c-b13a-4c85-8a1f-d3f5ba7e8532",
   "metadata": {},
   "outputs": [
    {
     "data": {
      "text/plain": [
       "(3, 1)"
      ]
     },
     "execution_count": 24,
     "metadata": {},
     "output_type": "execute_result"
    }
   ],
   "source": [
    "divmod(10, 3)"
   ]
  },
  {
   "cell_type": "code",
   "execution_count": 25,
   "id": "0aa7c228-e1c7-4701-8849-1282df266512",
   "metadata": {},
   "outputs": [
    {
     "ename": "TypeError",
     "evalue": "divmod() got some positional-only arguments passed as keyword arguments: 'b'",
     "output_type": "error",
     "traceback": [
      "\u001b[1;31m---------------------------------------------------------------------------\u001b[0m",
      "\u001b[1;31mTypeError\u001b[0m                                 Traceback (most recent call last)",
      "Cell \u001b[1;32mIn[25], line 1\u001b[0m\n\u001b[1;32m----> 1\u001b[0m \u001b[38;5;28mdivmod\u001b[39m(\u001b[38;5;241m10\u001b[39m, b\u001b[38;5;241m=\u001b[39m\u001b[38;5;241m2\u001b[39m)\n",
      "\u001b[1;31mTypeError\u001b[0m: divmod() got some positional-only arguments passed as keyword arguments: 'b'"
     ]
    }
   ],
   "source": [
    "divmod(10, b=2)"
   ]
  },
  {
   "cell_type": "markdown",
   "id": "0871e129-35f0-4744-ac4d-ea532fb149f4",
   "metadata": {},
   "source": [
    "## Packages for Functional Programming"
   ]
  },
  {
   "cell_type": "markdown",
   "id": "ae028b62-fbfb-4778-8716-dc49dd3d19f7",
   "metadata": {},
   "source": [
    "### The operator module\n",
    "\n",
    "The operator module provides function equivalents for dozens of operators so there is no need to code trivial functins with `lambda` like `lambda a, b: a/b`.\n",
    "\n",
    "This module also provides replacement for another group of lambda expressions: `'itemgetter` and `attrgetter` are functions to pick items from sequences or read attributes from objs.  \n",
    "\n",
    "The `methodcaller` func creates func that calls a method by name oth the obj given as arg"
   ]
  },
  {
   "cell_type": "code",
   "execution_count": 28,
   "id": "c21676a4-735f-4bce-a926-ce8005567a39",
   "metadata": {},
   "outputs": [],
   "source": [
    "from functools import reduce\n",
    "from operator import mul \n",
    "\n",
    "def f(n):\n",
    "    return reduce(mul, range(1, 6))"
   ]
  },
  {
   "cell_type": "code",
   "execution_count": 29,
   "id": "95a49ac5-af6e-441a-b84e-81eb816b232a",
   "metadata": {},
   "outputs": [
    {
     "name": "stdout",
     "output_type": "stream",
     "text": [
      "('São Paulo', 'BR', 19.649, (-23.547778, -46.635833))\n",
      "('Delhi NCR', 'IN', 21.935, (28.613889, 77.208889))\n",
      "('Tokyo', 'JP', 36.933, (35.689722, 139.691667))\n",
      "('Mexico City', 'MX', 20.142, (19.433333, -99.133333))\n",
      "('New York-Newark', 'US', 20.104, (40.808611, -74.020386))\n"
     ]
    }
   ],
   "source": [
    "metro_data = [\n",
    "    ('Tokyo', 'JP', 36.933, (35.689722, 139.691667)),\n",
    "    ('Delhi NCR', 'IN', 21.935, (28.613889, 77.208889)),\n",
    "    ('Mexico City', 'MX', 20.142, (19.433333, -99.133333)),\n",
    "    ('New York-Newark', 'US', 20.104, (40.808611, -74.020386)),\n",
    "    ('São Paulo', 'BR', 19.649, (-23.547778, -46.635833)),\n",
    "]\n",
    "\n",
    "from operator import itemgetter\n",
    "\n",
    "for city in sorted(metro_data, key=itemgetter(1)):\n",
    "    print(city)"
   ]
  },
  {
   "cell_type": "code",
   "execution_count": 30,
   "id": "0350e640-57fa-4299-bb33-a4998640d8d2",
   "metadata": {},
   "outputs": [
    {
     "name": "stdout",
     "output_type": "stream",
     "text": [
      "('JP', 'Tokyo')\n",
      "('IN', 'Delhi NCR')\n",
      "('MX', 'Mexico City')\n",
      "('US', 'New York-Newark')\n",
      "('BR', 'São Paulo')\n"
     ]
    }
   ],
   "source": [
    "cc_name = itemgetter(1, 0)\n",
    "for city in metro_data:\n",
    "    print(cc_name(city))"
   ]
  },
  {
   "cell_type": "code",
   "execution_count": 31,
   "id": "854aaa28-8e03-49d1-a120-cdf8fc10483f",
   "metadata": {},
   "outputs": [
    {
     "name": "stdout",
     "output_type": "stream",
     "text": [
      "The-time-has-come\n"
     ]
    }
   ],
   "source": [
    "from operator import methodcaller\n",
    "\n",
    "s = 'The time has come'\n",
    "hyphenate = methodcaller('replace', ' ', '-')\n",
    "print(hyphenate(s))"
   ]
  },
  {
   "cell_type": "markdown",
   "id": "5a89ddbd-f9d6-4376-be4c-bada998dc80b",
   "metadata": {},
   "source": [
    "### Freezing Arguments with functools.partial\n",
    "\n",
    "Given a callable `partial` procuces a new callable with some of the args of the orginal callable bound to predefined values. *useful to adapt funcs that take 1 or more args to an API that requires a callback with fewer args*\n",
    "\n",
    "`partial` takes a callable as first arg, followed by an arbitrary number of positional and keyword arguments to bind.\n",
    "\n",
    "The `functools.partialmethod` function does the same job byt is designed to work with methods."
   ]
  },
  {
   "cell_type": "code",
   "execution_count": 32,
   "id": "13ebff01-a179-4972-b165-8db7a8a16461",
   "metadata": {},
   "outputs": [],
   "source": [
    "from operator import mul\n",
    "from functools import partial\n",
    "triple = partial(mul, 3)"
   ]
  },
  {
   "cell_type": "code",
   "execution_count": 33,
   "id": "73017a87-b47c-4715-9deb-9949a4587d86",
   "metadata": {},
   "outputs": [
    {
     "data": {
      "text/plain": [
       "21"
      ]
     },
     "execution_count": 33,
     "metadata": {},
     "output_type": "execute_result"
    }
   ],
   "source": [
    "triple(7)"
   ]
  },
  {
   "cell_type": "code",
   "execution_count": 34,
   "id": "a9c0d245-07a3-406c-bb8c-aec81be04d2e",
   "metadata": {},
   "outputs": [
    {
     "data": {
      "text/plain": [
       "[9, 12, 15, 18, 21, 24]"
      ]
     },
     "execution_count": 34,
     "metadata": {},
     "output_type": "execute_result"
    }
   ],
   "source": [
    "list(map(triple, range(3, 9)))"
   ]
  },
  {
   "cell_type": "code",
   "execution_count": null,
   "id": "62318403-b289-43d0-9dc0-9b2616658ead",
   "metadata": {},
   "outputs": [],
   "source": []
  }
 ],
 "metadata": {
  "kernelspec": {
   "display_name": "Python 3 (ipykernel)",
   "language": "python",
   "name": "python3"
  },
  "language_info": {
   "codemirror_mode": {
    "name": "ipython",
    "version": 3
   },
   "file_extension": ".py",
   "mimetype": "text/x-python",
   "name": "python",
   "nbconvert_exporter": "python",
   "pygments_lexer": "ipython3",
   "version": "3.11.9"
  }
 },
 "nbformat": 4,
 "nbformat_minor": 5
}
