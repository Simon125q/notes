{
 "cells": [
  {
   "cell_type": "markdown",
   "id": "f647c10e-42c4-4e98-a6ec-4c7226a73ecb",
   "metadata": {},
   "source": [
    "# Object References, Mutability and Recycling"
   ]
  },
  {
   "cell_type": "markdown",
   "id": "b5396295-cb82-4d04-8f25-cf5cac060ed9",
   "metadata": {},
   "source": [
    "## Identity, Equality and Aliases"
   ]
  },
  {
   "cell_type": "code",
   "execution_count": 1,
   "id": "973b6318-d19c-4d12-90b0-1e2451b4ebed",
   "metadata": {},
   "outputs": [],
   "source": [
    "joe = {'name': 'Joe Biden', 'born': 1942}\n",
    "president = joe\n",
    "counterfeit = {'name': 'Joe Biden', 'born': 1942}"
   ]
  },
  {
   "cell_type": "code",
   "execution_count": 2,
   "id": "0a029fa9-c515-4a49-b5a8-7cdcb7b30d57",
   "metadata": {},
   "outputs": [
    {
     "data": {
      "text/plain": [
       "True"
      ]
     },
     "execution_count": 2,
     "metadata": {},
     "output_type": "execute_result"
    }
   ],
   "source": [
    "joe == president"
   ]
  },
  {
   "cell_type": "code",
   "execution_count": 3,
   "id": "4e304075-3c9f-439f-9ca7-eb38b87abed2",
   "metadata": {},
   "outputs": [
    {
     "data": {
      "text/plain": [
       "True"
      ]
     },
     "execution_count": 3,
     "metadata": {},
     "output_type": "execute_result"
    }
   ],
   "source": [
    "joe is president"
   ]
  },
  {
   "cell_type": "code",
   "execution_count": 4,
   "id": "009f969b-1566-4f03-ade2-0d52e0cb460f",
   "metadata": {},
   "outputs": [
    {
     "data": {
      "text/plain": [
       "True"
      ]
     },
     "execution_count": 4,
     "metadata": {},
     "output_type": "execute_result"
    }
   ],
   "source": [
    "joe == counterfeit"
   ]
  },
  {
   "cell_type": "code",
   "execution_count": 5,
   "id": "6b0ac70a-a6d9-41ea-8c77-36a98314c6a9",
   "metadata": {},
   "outputs": [
    {
     "data": {
      "text/plain": [
       "False"
      ]
     },
     "execution_count": 5,
     "metadata": {},
     "output_type": "execute_result"
    }
   ],
   "source": [
    "joe is counterfeit"
   ]
  },
  {
   "cell_type": "markdown",
   "id": "3dc0cdcb-6654-4661-92fe-b6da1d6936b4",
   "metadata": {},
   "source": [
    "In this example `president` is an alias for `joe`, this means that both those variables points to the same object underneath. `counterfeit` however has the same value as `joe` and `president` but points to different object. This results in for example: changes applied to `joe` would also apply to `president` but not to `counterfeit`"
   ]
  },
  {
   "cell_type": "code",
   "execution_count": 6,
   "id": "d9e6a72f-4032-40aa-977c-32b25381a473",
   "metadata": {},
   "outputs": [],
   "source": [
    "joe[\"vice\"] = \"Kamala\""
   ]
  },
  {
   "cell_type": "code",
   "execution_count": 7,
   "id": "295f1f65-4dad-46ec-8799-346a5f02b151",
   "metadata": {},
   "outputs": [
    {
     "data": {
      "text/plain": [
       "{'name': 'Joe Biden', 'born': 1942, 'vice': 'Kamala'}"
      ]
     },
     "execution_count": 7,
     "metadata": {},
     "output_type": "execute_result"
    }
   ],
   "source": [
    "joe"
   ]
  },
  {
   "cell_type": "code",
   "execution_count": 8,
   "id": "88eee18c-7fed-4e24-8bd7-7113ced4d1a1",
   "metadata": {},
   "outputs": [
    {
     "data": {
      "text/plain": [
       "{'name': 'Joe Biden', 'born': 1942, 'vice': 'Kamala'}"
      ]
     },
     "execution_count": 8,
     "metadata": {},
     "output_type": "execute_result"
    }
   ],
   "source": [
    "president"
   ]
  },
  {
   "cell_type": "code",
   "execution_count": 9,
   "id": "d002a678-4533-4d75-ba1f-31db2290094e",
   "metadata": {},
   "outputs": [
    {
     "data": {
      "text/plain": [
       "{'name': 'Joe Biden', 'born': 1942}"
      ]
     },
     "execution_count": 9,
     "metadata": {},
     "output_type": "execute_result"
    }
   ],
   "source": [
    "counterfeit"
   ]
  },
  {
   "cell_type": "markdown",
   "id": "ac37712d-ce00-44b6-90e8-8a1739fb0e42",
   "metadata": {},
   "source": [
    "## Choosing between == and is\n",
    "\n",
    "`is` operator compares ids of objects while `==` compares values they hold.\n",
    "\n",
    "Using `is` makes sense when comparing variable to a singleton. eg. `x is None` or `x is not None`.\n",
    "\n",
    "When comparing singletons `is` is faster than `==`, because it cannot be overloaded, so python dont have to find and invoke any special methods to evaluate it."
   ]
  },
  {
   "cell_type": "markdown",
   "id": "7e9d3850-1c56-4ec8-b1ed-01b28f5e7132",
   "metadata": {},
   "source": [
    "## Deep and Shallow copies\n",
    "\n",
    "Copies in python are **shallow** by default.\n",
    "\n",
    "The easiest way to copy a list or most build-in mutable collections is to use the build-in constructor."
   ]
  },
  {
   "cell_type": "code",
   "execution_count": 14,
   "id": "006fc152-a5ed-4804-aedc-8aaeb0993dbc",
   "metadata": {},
   "outputs": [],
   "source": [
    "l1 = [3, [55, 44], (7, 8, 9)]\n",
    "l2 = list(l1)"
   ]
  },
  {
   "cell_type": "code",
   "execution_count": 15,
   "id": "6a9fd4c5-315f-4f8e-b5b7-deb701c85b4e",
   "metadata": {},
   "outputs": [
    {
     "name": "stdout",
     "output_type": "stream",
     "text": [
      "True\n",
      "False\n"
     ]
    }
   ],
   "source": [
    "print(l1 == l2)\n",
    "print(l1 is l2)"
   ]
  },
  {
   "cell_type": "markdown",
   "id": "9786efa5-c4bd-4fdd-9358-637770b061f2",
   "metadata": {},
   "source": [
    "This creates a **shallow** copy - the outermost container is duplicated and filled with references to the same items held by the orginal container. This saves memory and works fine when all items are **immutable**."
   ]
  },
  {
   "cell_type": "code",
   "execution_count": 16,
   "id": "16cf6244-da96-4613-afa8-ad13565d2bec",
   "metadata": {},
   "outputs": [
    {
     "name": "stdout",
     "output_type": "stream",
     "text": [
      "[3, [55, 44], (7, 8, 9), 100]\n",
      "[3, [55, 44], (7, 8, 9)]\n"
     ]
    }
   ],
   "source": [
    "l1.append(100)\n",
    "print(l1)\n",
    "print(l2)"
   ]
  },
  {
   "cell_type": "code",
   "execution_count": 17,
   "id": "32704d5f-648b-4dc7-9d4a-bd191ada5be8",
   "metadata": {},
   "outputs": [
    {
     "name": "stdout",
     "output_type": "stream",
     "text": [
      "[3, [55, 44, 999], (7, 8, 9), 100]\n",
      "[3, [55, 44, 999], (7, 8, 9)]\n"
     ]
    }
   ],
   "source": [
    "l1[1].append(999)\n",
    "print(l1)\n",
    "print(l2)"
   ]
  },
  {
   "cell_type": "code",
   "execution_count": 18,
   "id": "6367ce8b-2abe-488b-b12b-0e808373900d",
   "metadata": {},
   "outputs": [
    {
     "name": "stdout",
     "output_type": "stream",
     "text": [
      "[3, [55, 44, 999, 33, 22], (7, 8, 9), 100]\n",
      "[3, [55, 44, 999, 33, 22], (7, 8, 9, 10, 11)]\n"
     ]
    }
   ],
   "source": [
    "l2[1] += [33, 22]\n",
    "l2[2] += (10, 11)\n",
    "print(l1)\n",
    "print(l2)"
   ]
  },
  {
   "cell_type": "markdown",
   "id": "dea997ca-a062-4bcb-a720-a7f024386ea8",
   "metadata": {},
   "source": [
    "The `copy` module provides `deepcopy` and `copy` functions for arbitrary objects."
   ]
  },
  {
   "cell_type": "code",
   "execution_count": 26,
   "id": "5d3b42f5-8a81-46d2-b6bc-e9232eb19bd2",
   "metadata": {},
   "outputs": [],
   "source": [
    "class Bus:\n",
    "    def __init__(self, passengers=None):\n",
    "        if passengers is None:\n",
    "            self.passengers = []\n",
    "        else:\n",
    "            self.passengers = list(passengers)\n",
    "    def pick(self, name):\n",
    "        self.passengers.append(name)\n",
    "    def drop(self, name):\n",
    "        self.passengers.remove(name)"
   ]
  },
  {
   "cell_type": "code",
   "execution_count": 27,
   "id": "bedbe9c2-9559-41dc-aa66-5d25c0409be1",
   "metadata": {},
   "outputs": [
    {
     "name": "stdout",
     "output_type": "stream",
     "text": [
      "b1: 3002182273808, b2: 3004315909904, b3: 3004329113232\n"
     ]
    }
   ],
   "source": [
    "import copy\n",
    "bus1 = Bus(['Joe', 'Donald', 'Eliot', 'Bob'])\n",
    "bus2 = copy.copy(bus1)\n",
    "bus3 = copy.deepcopy(bus1)\n",
    "print(f\"b1: {id(bus1)}, b2: {id(bus2)}, b3: {id(bus3)}\")"
   ]
  },
  {
   "cell_type": "code",
   "execution_count": 28,
   "id": "891ecb24-cbb1-47d6-b21b-58ae8c7b6a48",
   "metadata": {},
   "outputs": [
    {
     "name": "stdout",
     "output_type": "stream",
     "text": [
      "bus1: ['Donald', 'Eliot', 'Bob']\n",
      "bus2: ['Donald', 'Eliot', 'Bob']\n",
      "bus3: ['Joe', 'Donald', 'Eliot', 'Bob']\n"
     ]
    }
   ],
   "source": [
    "bus1.drop('Joe')\n",
    "print(f\"bus1: {bus1.passengers}\")\n",
    "print(f\"bus2: {bus2.passengers}\")\n",
    "print(f\"bus3: {bus3.passengers}\")"
   ]
  },
  {
   "cell_type": "markdown",
   "id": "4cf4e296-72a6-446c-988d-23c6d304db97",
   "metadata": {},
   "source": [
    "The behavior of `copy` and `deepcopy` can be controlled by implementing `__copy__()` and `__deepcopy__()` method"
   ]
  },
  {
   "cell_type": "markdown",
   "id": "bad0c741-36ab-4b52-969e-867d6b4eac5b",
   "metadata": {},
   "source": [
    "## Function Parameters as References\n",
    "\n",
    "The **only** mode of parameter passing in python is **call by sharing**, this means that each formal parameter of the function gets a copy of each reference in the arguments. In other words, the parameters inside the function become aliases of the actual args.\n",
    "\n",
    "As the result of this, function may **change** any **mutable** object passed to it as a parameter, but it cannot change the identity of the object."
   ]
  },
  {
   "cell_type": "code",
   "execution_count": 29,
   "id": "4ce9e9c1-4ead-46ee-b599-505d2bfecde5",
   "metadata": {},
   "outputs": [],
   "source": [
    "def f(a, b):\n",
    "    a += b\n",
    "    return a"
   ]
  },
  {
   "cell_type": "code",
   "execution_count": 31,
   "id": "cea62929-8d9c-41a2-acbb-d5e54378e570",
   "metadata": {},
   "outputs": [
    {
     "name": "stdout",
     "output_type": "stream",
     "text": [
      "3\n",
      "x: 1, y: 2\n"
     ]
    }
   ],
   "source": [
    "x = 1\n",
    "y = 2\n",
    "print(f(x, y))\n",
    "print(f\"x: {x}, y: {y}\")"
   ]
  },
  {
   "cell_type": "code",
   "execution_count": 32,
   "id": "f0a23a4b-ccb0-4afa-a2de-f3a0cae700fd",
   "metadata": {},
   "outputs": [
    {
     "name": "stdout",
     "output_type": "stream",
     "text": [
      "[2, 1, 3, 7]\n",
      "a: [2, 1, 3, 7], b: [3, 7]\n"
     ]
    }
   ],
   "source": [
    "a = [2, 1]\n",
    "b = [3, 7]\n",
    "print(f(a, b))\n",
    "print(f\"a: {a}, b: {b}\")"
   ]
  },
  {
   "cell_type": "markdown",
   "id": "8dafedad-b3d8-4006-9e4a-344150b3fac4",
   "metadata": {},
   "source": [
    "## Mutable Types as Paremeter Defaults - Bad Idea"
   ]
  },
  {
   "cell_type": "code",
   "execution_count": 33,
   "id": "8b2ff84e-6a62-450d-894e-61ab202d5e8c",
   "metadata": {},
   "outputs": [],
   "source": [
    "class HautedBus:\n",
    "    def __init__(self, passengers=[]):\n",
    "        self.passengers = passengers\n",
    "    def pick(self, name):\n",
    "        self.passengers.append(name)\n",
    "    def drop(self, name):\n",
    "        self.passengers.remove(name)"
   ]
  },
  {
   "cell_type": "code",
   "execution_count": 35,
   "id": "69e0636e-e952-4f9d-b60f-d50b473ffb4d",
   "metadata": {},
   "outputs": [],
   "source": [
    "bus1 = HautedBus()\n",
    "bus1.pick(\"Steve\")"
   ]
  },
  {
   "cell_type": "code",
   "execution_count": 37,
   "id": "1b5257c6-9eb4-4b78-9eaa-fcc9193d4862",
   "metadata": {},
   "outputs": [
    {
     "name": "stdout",
     "output_type": "stream",
     "text": [
      "['Steve']\n"
     ]
    }
   ],
   "source": [
    "bus2 = HautedBus()\n",
    "print(bus2.passengers)"
   ]
  },
  {
   "cell_type": "markdown",
   "id": "016cb34d-36f8-4699-929e-5013513eb393",
   "metadata": {},
   "source": [
    "This works this way beacause when `HautedBus` is instanciated empty, then `self.passengers` becomes an alias for the default value. And later when another class is instanciated with default value it receives the same reference to the default value as all previous instances. \n",
    "\n",
    "That is why `None` is commonly used as default value for parameters that may receive mutable values."
   ]
  },
  {
   "cell_type": "markdown",
   "id": "9be8aafb-0dce-48fa-81d3-68822d8f9822",
   "metadata": {},
   "source": [
    "Unless a method is explicitly intended to mutate an object received as an argument, it should be strongly considered if aliasing the argument is the best option instead of making a copy of it."
   ]
  },
  {
   "cell_type": "markdown",
   "id": "4c4bd466-be6b-44de-8086-4b178364487a",
   "metadata": {},
   "source": [
    "## del and Garbage Collection\n",
    "\n",
    "* `del` is a statement, not a function\n",
    "* `del` deletes references, not objects (object may be deleted as a consequence of being unreachable after using `del`)\n",
    "\n",
    "In CPython, the primary algorithm for garbage collection is reference counting.\n"
   ]
  },
  {
   "cell_type": "code",
   "execution_count": null,
   "id": "13d6eaaa-78b9-4a51-afad-7d77ec27ba3e",
   "metadata": {},
   "outputs": [],
   "source": []
  }
 ],
 "metadata": {
  "kernelspec": {
   "display_name": "Python 3 (ipykernel)",
   "language": "python",
   "name": "python3"
  },
  "language_info": {
   "codemirror_mode": {
    "name": "ipython",
    "version": 3
   },
   "file_extension": ".py",
   "mimetype": "text/x-python",
   "name": "python",
   "nbconvert_exporter": "python",
   "pygments_lexer": "ipython3",
   "version": "3.11.9"
  }
 },
 "nbformat": 4,
 "nbformat_minor": 5
}
