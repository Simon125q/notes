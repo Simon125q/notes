{
 "cells": [
  {
   "cell_type": "markdown",
   "id": "4cfc04a0-5ce9-45c4-a955-68ef805328c0",
   "metadata": {},
   "source": [
    "# Dictionaries and Sets"
   ]
  },
  {
   "cell_type": "markdown",
   "id": "7ff40c2d-a967-4b61-8ad1-3764b2f99f5b",
   "metadata": {},
   "source": [
    "## Dict comprehensions\n",
    "\n",
    "Dictcomps use the same syntax as **listcomps** and **genexps**. A dictcomp builds a `dict` instance by taking `key:value` pairs from any iterable."
   ]
  },
  {
   "cell_type": "code",
   "execution_count": 4,
   "id": "e533f654-f96b-4572-8bb4-26313a123db3",
   "metadata": {
    "tags": []
   },
   "outputs": [],
   "source": [
    "dial_codes = [                                         \n",
    "    (880, 'Bangladesh'),\n",
    "    (55,  'Brazil'),\n",
    "    (86,  'China'),\n",
    "    (91,  'India'),\n",
    "    (62,  'Indonesia'),\n",
    "    (81,  'Japan'),\n",
    "    (234, 'Nigeria'),\n",
    "    (92,  'Pakistan'),\n",
    "    (7,   'Russia'),\n",
    "    (1,   'United States'),\n",
    " ]"
   ]
  },
  {
   "cell_type": "code",
   "execution_count": 6,
   "id": "93437f5f-50cb-4a38-8d15-c8c480d3d538",
   "metadata": {
    "tags": []
   },
   "outputs": [
    {
     "name": "stdout",
     "output_type": "stream",
     "text": [
      "{'Bangladesh': 880, 'Brazil': 55, 'China': 86, 'India': 91, 'Indonesia': 62, 'Japan': 81, 'Nigeria': 234, 'Pakistan': 92, 'Russia': 7, 'United States': 1}\n"
     ]
    }
   ],
   "source": [
    "country_dial = {country: code for code, country in dial_codes}\n",
    "print(country_dial)"
   ]
  },
  {
   "cell_type": "code",
   "execution_count": 7,
   "id": "07ed5fc3-e89e-4b97-816d-dd97d15f692b",
   "metadata": {
    "tags": []
   },
   "outputs": [
    {
     "data": {
      "text/plain": [
       "{55: 'BRAZIL', 62: 'INDONESIA', 7: 'RUSSIA', 1: 'UNITED STATES'}"
      ]
     },
     "execution_count": 7,
     "metadata": {},
     "output_type": "execute_result"
    }
   ],
   "source": [
    "{code: country.upper()\n",
    "     for country, code in sorted(country_dial.items())\n",
    "     if code < 70}"
   ]
  },
  {
   "cell_type": "markdown",
   "id": "9718c144-52c3-41de-8002-bdfdbd7a3490",
   "metadata": {},
   "source": [
    "## Unpacking Mappings"
   ]
  },
  {
   "cell_type": "markdown",
   "id": "985eb3f1-0cc1-49c9-b46b-3ede5c78715a",
   "metadata": {},
   "source": [
    "We can apply `**` to more than 1 argument in a function call. This works only when keys are all strings and unique accross all the arguments"
   ]
  },
  {
   "cell_type": "code",
   "execution_count": 15,
   "id": "bdd4dd5f-b9ac-413c-863d-84756dfe36fa",
   "metadata": {
    "tags": []
   },
   "outputs": [],
   "source": [
    "def dump(**kwargs):\n",
    "    return kwargs\n",
    "\n",
    "def dump2(x, **kwargs):\n",
    "    print(x)\n",
    "    return kwargs"
   ]
  },
  {
   "cell_type": "code",
   "execution_count": 13,
   "id": "eaec42f8-8492-4fb6-b8c0-501cdaf14b18",
   "metadata": {
    "tags": []
   },
   "outputs": [
    {
     "data": {
      "text/plain": [
       "{'x': 1, 'y': 2, 'z': 3, 'v': 'next'}"
      ]
     },
     "execution_count": 13,
     "metadata": {},
     "output_type": "execute_result"
    }
   ],
   "source": [
    "dump(**{'x': 1}, y=2, **{'z': 3, 'v': \"next\"})"
   ]
  },
  {
   "cell_type": "code",
   "execution_count": 16,
   "id": "6b74a7bc-ad01-4bd6-9f6c-58fd4e51b278",
   "metadata": {
    "tags": []
   },
   "outputs": [
    {
     "name": "stdout",
     "output_type": "stream",
     "text": [
      "1\n"
     ]
    },
    {
     "data": {
      "text/plain": [
       "{'y': 2, 'z': 3, 'v': 'next'}"
      ]
     },
     "execution_count": 16,
     "metadata": {},
     "output_type": "execute_result"
    }
   ],
   "source": [
    "dump2(**{'x': 1}, y=2, **{'z': 3, 'v': \"next\"})"
   ]
  },
  {
   "cell_type": "code",
   "execution_count": 18,
   "id": "9f91a70e-3fda-4605-8c13-f4058df2a738",
   "metadata": {
    "tags": []
   },
   "outputs": [
    {
     "name": "stdout",
     "output_type": "stream",
     "text": [
      "3\n"
     ]
    },
    {
     "data": {
      "text/plain": [
       "{'z': 1, 'y': 2, 'v': 'next'}"
      ]
     },
     "execution_count": 18,
     "metadata": {},
     "output_type": "execute_result"
    }
   ],
   "source": [
    "dump2(**{'z': 1}, y=2, **{'x': 3, 'v': \"next\"})"
   ]
  },
  {
   "cell_type": "markdown",
   "id": "610b614a-6422-4c0f-a2d6-4c0c039b30cb",
   "metadata": {},
   "source": [
    "We can also use `**` inside a `dict` literal, but here duplicate values are allowed - the later occurrences will overide previous ones"
   ]
  },
  {
   "cell_type": "code",
   "execution_count": 19,
   "id": "cfdae8e7-750e-489d-9866-8dff166657bf",
   "metadata": {
    "tags": []
   },
   "outputs": [
    {
     "data": {
      "text/plain": [
       "{'a': 0, 'x': 4, 'y': 2, 'z': 3, 'd': 5}"
      ]
     },
     "execution_count": 19,
     "metadata": {},
     "output_type": "execute_result"
    }
   ],
   "source": [
    "{'a': 0, **{'x': 1}, 'y': 2, **{'z': 3, 'x': 4, 'd' : 5}}"
   ]
  },
  {
   "cell_type": "markdown",
   "id": "a4ad3404-7f37-48e3-8cf3-cae4c7b5dfbe",
   "metadata": {},
   "source": [
    "## Merging Mappings\n",
    "\n",
    "Since 3.9 python support `|` adn `|=` to merge mappings, this makes sense because these are also the set union operators. `|` creates a new mapping, while `|=` updates an existing mapping in place."
   ]
  },
  {
   "cell_type": "code",
   "execution_count": 20,
   "id": "df16ea4b-b481-4491-b304-b6a472ac8de7",
   "metadata": {
    "tags": []
   },
   "outputs": [],
   "source": [
    "d1 = {'a': 1, 'b': 3}\n",
    "d2 = {'a': 2, 'b': 4, 'c': 6}"
   ]
  },
  {
   "cell_type": "code",
   "execution_count": 21,
   "id": "306976f4-6cd6-47bd-a6f0-60adf83273b1",
   "metadata": {
    "tags": []
   },
   "outputs": [
    {
     "data": {
      "text/plain": [
       "{'a': 2, 'b': 4, 'c': 6}"
      ]
     },
     "execution_count": 21,
     "metadata": {},
     "output_type": "execute_result"
    }
   ],
   "source": [
    "d1 | d2"
   ]
  },
  {
   "cell_type": "code",
   "execution_count": 22,
   "id": "1c8d3400-4a49-4754-8d96-f6caf4a3243a",
   "metadata": {
    "tags": []
   },
   "outputs": [
    {
     "data": {
      "text/plain": [
       "{'a': 1, 'b': 3}"
      ]
     },
     "execution_count": 22,
     "metadata": {},
     "output_type": "execute_result"
    }
   ],
   "source": [
    "d1"
   ]
  },
  {
   "cell_type": "code",
   "execution_count": 23,
   "id": "e2c89273-8f6a-4c53-bda7-5b8d41243d16",
   "metadata": {
    "tags": []
   },
   "outputs": [],
   "source": [
    "d1 |= d2"
   ]
  },
  {
   "cell_type": "code",
   "execution_count": 24,
   "id": "e10f6f23-cb93-459e-a789-aa1898e6298d",
   "metadata": {
    "tags": []
   },
   "outputs": [
    {
     "data": {
      "text/plain": [
       "{'a': 2, 'b': 4, 'c': 6}"
      ]
     },
     "execution_count": 24,
     "metadata": {},
     "output_type": "execute_result"
    }
   ],
   "source": [
    "d1"
   ]
  },
  {
   "cell_type": "markdown",
   "id": "eecc0961-a601-4004-be7a-6c38f96ce9d4",
   "metadata": {},
   "source": [
    "## Pattern Matching with Mappings\n",
    "\n",
    "The `match/case` statement supports subjects that are mappings, patterns for mappings look like `dict` literals. Destructuring allows to combine and nest different patterns to process records structured like nested mappings and sequences"
   ]
  },
  {
   "cell_type": "code",
   "execution_count": 37,
   "id": "11b8cf50-ca98-4ae6-803e-36abbc676e34",
   "metadata": {
    "tags": []
   },
   "outputs": [],
   "source": [
    "def get_creators(record: dict) -> list:\n",
    "    match record:\n",
    "        case {'type': 'book', 'api': 2, 'authors': [*names]}:\n",
    "            return names\n",
    "        case {'type': 'book', 'api': 1, 'author' : name }:\n",
    "            return [name]\n",
    "        case {'type': 'book'}:\n",
    "            raise ValueError(f\"invalid book record: {record}\")\n",
    "        case {'type': 'movie', 'director': name}:\n",
    "            return [name]\n",
    "        case _: \n",
    "            raise ValueError(f'Invalid record: {record}')"
   ]
  },
  {
   "cell_type": "code",
   "execution_count": 38,
   "id": "bb5c39b3-8fd1-4b25-af21-6a4054ac74ef",
   "metadata": {
    "tags": []
   },
   "outputs": [
    {
     "name": "stdout",
     "output_type": "stream",
     "text": [
      "['Douglas Hofstadter']\n"
     ]
    }
   ],
   "source": [
    "b1 = dict(api=1, author='Douglas Hofstadter',\n",
    "        type='book', title='Gödel, Escher, Bach')\n",
    "print(get_creators(b1))"
   ]
  },
  {
   "cell_type": "code",
   "execution_count": 39,
   "id": "7f57d1a3-8cec-426b-a8af-4726e0206d03",
   "metadata": {
    "tags": []
   },
   "outputs": [
    {
     "name": "stdout",
     "output_type": "stream",
     "text": [
      "['Martelli', 'Ravenscroft', 'Holden']\n"
     ]
    }
   ],
   "source": [
    "from collections import OrderedDict\n",
    "b2 = OrderedDict(api=2, type='book',\n",
    "        title='Python in a Nutshell',\n",
    "        authors='Martelli Ravenscroft Holden'.split())\n",
    "print(get_creators(b2))"
   ]
  },
  {
   "cell_type": "code",
   "execution_count": 41,
   "id": "32bf1899-8753-4812-a3d2-aad3413853d4",
   "metadata": {
    "tags": []
   },
   "outputs": [
    {
     "ename": "ValueError",
     "evalue": "invalid book record: {'type': 'book', 'pages': 770}",
     "output_type": "error",
     "traceback": [
      "\u001b[1;31m---------------------------------------------------------------------------\u001b[0m",
      "\u001b[1;31mValueError\u001b[0m                                Traceback (most recent call last)",
      "Cell \u001b[1;32mIn[41], line 1\u001b[0m\n\u001b[1;32m----> 1\u001b[0m get_creators({\u001b[38;5;124m'\u001b[39m\u001b[38;5;124mtype\u001b[39m\u001b[38;5;124m'\u001b[39m: \u001b[38;5;124m'\u001b[39m\u001b[38;5;124mbook\u001b[39m\u001b[38;5;124m'\u001b[39m, \u001b[38;5;124m'\u001b[39m\u001b[38;5;124mpages\u001b[39m\u001b[38;5;124m'\u001b[39m: \u001b[38;5;241m770\u001b[39m})\n",
      "Cell \u001b[1;32mIn[37], line 8\u001b[0m, in \u001b[0;36mget_creators\u001b[1;34m(record)\u001b[0m\n\u001b[0;32m      1\u001b[0m \u001b[38;5;28;01mdef\u001b[39;00m \u001b[38;5;21mget_creators\u001b[39m(record: \u001b[38;5;28mdict\u001b[39m) \u001b[38;5;241m-\u001b[39m\u001b[38;5;241m>\u001b[39m \u001b[38;5;28mlist\u001b[39m:\n\u001b[0;32m      2\u001b[0m     \u001b[38;5;28;01mmatch\u001b[39;00m record:\n\u001b[0;32m      3\u001b[0m         \u001b[38;5;28;01mcase\u001b[39;00m {\u001b[38;5;124m'\u001b[39m\u001b[38;5;124mtype\u001b[39m\u001b[38;5;124m'\u001b[39m: \u001b[38;5;124m'\u001b[39m\u001b[38;5;124mbook\u001b[39m\u001b[38;5;124m'\u001b[39m, \u001b[38;5;124m'\u001b[39m\u001b[38;5;124mapi\u001b[39m\u001b[38;5;124m'\u001b[39m: \u001b[38;5;241m2\u001b[39m, \u001b[38;5;124m'\u001b[39m\u001b[38;5;124mauthors\u001b[39m\u001b[38;5;124m'\u001b[39m: [\u001b[38;5;241m*\u001b[39mnames]}:\n\u001b[0;32m      4\u001b[0m             \u001b[38;5;28;01mreturn\u001b[39;00m names\n\u001b[0;32m      5\u001b[0m         \u001b[38;5;28;01mcase\u001b[39;00m {\u001b[38;5;124m'\u001b[39m\u001b[38;5;124mtype\u001b[39m\u001b[38;5;124m'\u001b[39m: \u001b[38;5;124m'\u001b[39m\u001b[38;5;124mbook\u001b[39m\u001b[38;5;124m'\u001b[39m, \u001b[38;5;124m'\u001b[39m\u001b[38;5;124mapi\u001b[39m\u001b[38;5;124m'\u001b[39m: \u001b[38;5;241m1\u001b[39m, \u001b[38;5;124m'\u001b[39m\u001b[38;5;124mauthor\u001b[39m\u001b[38;5;124m'\u001b[39m : name }:\n\u001b[0;32m      6\u001b[0m             \u001b[38;5;28;01mreturn\u001b[39;00m [name]\n\u001b[0;32m      7\u001b[0m         \u001b[38;5;28;01mcase\u001b[39;00m {\u001b[38;5;124m'\u001b[39m\u001b[38;5;124mtype\u001b[39m\u001b[38;5;124m'\u001b[39m: \u001b[38;5;124m'\u001b[39m\u001b[38;5;124mbook\u001b[39m\u001b[38;5;124m'\u001b[39m}:\n\u001b[1;32m----> 8\u001b[0m             \u001b[38;5;28;01mraise\u001b[39;00m \u001b[38;5;167;01mValueError\u001b[39;00m(\u001b[38;5;124mf\u001b[39m\u001b[38;5;124m\"\u001b[39m\u001b[38;5;124minvalid book record: \u001b[39m\u001b[38;5;132;01m{\u001b[39;00mrecord\u001b[38;5;132;01m}\u001b[39;00m\u001b[38;5;124m\"\u001b[39m)\n\u001b[0;32m      9\u001b[0m         \u001b[38;5;28;01mcase\u001b[39;00m {\u001b[38;5;124m'\u001b[39m\u001b[38;5;124mtype\u001b[39m\u001b[38;5;124m'\u001b[39m: \u001b[38;5;124m'\u001b[39m\u001b[38;5;124mmovie\u001b[39m\u001b[38;5;124m'\u001b[39m, \u001b[38;5;124m'\u001b[39m\u001b[38;5;124mdirector\u001b[39m\u001b[38;5;124m'\u001b[39m: name}:\n\u001b[0;32m     10\u001b[0m             \u001b[38;5;28;01mreturn\u001b[39;00m [name]\n\u001b[0;32m     11\u001b[0m         \u001b[38;5;28;01mcase\u001b[39;00m\u001b[38;5;250m \u001b[39m\u001b[38;5;28;01m_\u001b[39;00m: \n\u001b[0;32m     12\u001b[0m             \u001b[38;5;28;01mraise\u001b[39;00m \u001b[38;5;167;01mValueError\u001b[39;00m(\u001b[38;5;124mf\u001b[39m\u001b[38;5;124m'\u001b[39m\u001b[38;5;124mInvalid record: \u001b[39m\u001b[38;5;132;01m{\u001b[39;00mrecord\u001b[38;5;132;01m}\u001b[39;00m\u001b[38;5;124m'\u001b[39m)\n",
      "\u001b[1;31mValueError\u001b[0m: invalid book record: {'type': 'book', 'pages': 770}"
     ]
    }
   ],
   "source": [
    "get_creators({'type': 'book', 'pages': 770})"
   ]
  },
  {
   "cell_type": "markdown",
   "id": "00b370f7-c638-409f-9862-9d2ece033039",
   "metadata": {},
   "source": [
    "In mapping patterns there is no need to use `**extra` to match extra key-value pairs, but if we want to capture them we can prefix 1 var with `**` and it must be put as the last in the pattern"
   ]
  },
  {
   "cell_type": "code",
   "execution_count": 42,
   "id": "df3971f0-6eaf-454f-b4cf-6a623af8e433",
   "metadata": {
    "tags": []
   },
   "outputs": [
    {
     "name": "stdout",
     "output_type": "stream",
     "text": [
      "details: {'flavor': 'vanilla', 'cost': 199}\n"
     ]
    }
   ],
   "source": [
    "food = dict(category='ice cream', flavor='vanilla', cost=199)\n",
    "\n",
    "match food:\n",
    "    case {'category': 'ice cream', **details}:\n",
    "        print(f\"details: {details}\")"
   ]
  },
  {
   "cell_type": "markdown",
   "id": "f7d0e0ce-3d90-42a1-a514-b28bc4b8a890",
   "metadata": {},
   "source": [
    "## Standard API of Mapping Types\n",
    "\n",
    "The `collections.abc` module provides the `Mapping` and `MutableMapping` ABCs which decsribe the interface of dict and similar types.\n",
    "\n",
    "*The main value of the ABCs is documentign and formalizing the standard interfaces for mappings, and serving as criteria for `isinstance` tests*\n",
    "\n",
    "*Using `isinstance` with ABC is better than checking if arg is of concrete type e.g. `dict`*"
   ]
  },
  {
   "cell_type": "code",
   "execution_count": 49,
   "id": "c9dcd794-01f9-4a81-b54e-53d6bf0e78a6",
   "metadata": {
    "tags": []
   },
   "outputs": [
    {
     "name": "stdout",
     "output_type": "stream",
     "text": [
      "True\n",
      "True\n"
     ]
    }
   ],
   "source": [
    "import collections.abc as abc\n",
    "\n",
    "my_dict = {}\n",
    "print(isinstance(my_dict, abc.Mapping))\n",
    "print(isinstance(my_dict, abc.MutableMapping))"
   ]
  },
  {
   "cell_type": "markdown",
   "id": "ee458468-3a33-485a-b438-bc5f66adbeea",
   "metadata": {},
   "source": [
    "To implement a custom mapping, it's **easier** to extend `collections.UserDict` or to wrap a `dict` by composition instead of subclassing those ABCs"
   ]
  },
  {
   "cell_type": "markdown",
   "id": "47e6f82b-28eb-48f0-bd8b-18b384100606",
   "metadata": {},
   "source": [
    "## Inserting and Updating Mutable Values\n",
    "\n",
    "Accessing `dict` with `d[k]` when `k` is not an existing key raises an `KeyError`. An alternative to `d[k]` is `d.get(k, default)` which returns default value when `k` is not in `dict`"
   ]
  },
  {
   "cell_type": "code",
   "execution_count": 1,
   "id": "7a2f5ef7-b4de-4e6c-b389-be09c1de27db",
   "metadata": {},
   "outputs": [],
   "source": [
    "words = [\"word\", \"text\", \"key\", \"car\", \"cat\", \"word\", \"key\", \"taxi\", \"car\", \"car\", \"dog\", \"cat\"]"
   ]
  },
  {
   "cell_type": "code",
   "execution_count": 3,
   "id": "233ffba6-bd6a-4100-967c-04400546f006",
   "metadata": {},
   "outputs": [
    {
     "name": "stdout",
     "output_type": "stream",
     "text": [
      "car [3, 8, 9]\n",
      "cat [4, 11]\n",
      "dog [10]\n",
      "key [2, 6]\n",
      "taxi [7]\n",
      "text [1]\n",
      "word [0, 5]\n"
     ]
    }
   ],
   "source": [
    "indecies = {}\n",
    "for index, word in enumerate(words):\n",
    "    occurrences = indecies.get(word, [])\n",
    "    occurrences.append(index)\n",
    "    indecies[word] = occurrences\n",
    "\n",
    "for word in sorted(indecies, key=str.upper):\n",
    "    print(word, indecies[word])"
   ]
  },
  {
   "cell_type": "markdown",
   "id": "4b009ca4-5f1c-4352-a1c8-b6e9507f9311",
   "metadata": {},
   "source": [
    "Instead of writing those 3 lines:\n",
    "\n",
    "```python\n",
    "occurrences = indecies.get(word, [])\n",
    "occurrences.append(index)\n",
    "indecies[word] = occurrences\n",
    "```\n",
    "\n",
    "we can replace it with just one line:\n",
    "\n",
    "```python\n",
    "indecies.setdefault(word, []).append(index)\n",
    "```\n",
    "\n",
    "This is possible because `setdefault` returns the value, so it can be updated without requiring a 2nd search\n",
    "\n",
    "In other words, this oneliner is equivalent to:\n",
    "\n",
    "```python\n",
    "if key not in my_dict:\n",
    "    my_dict[key] = []\n",
    "my_dict[key].append(new_value)\n",
    "```\n",
    "\n",
    "but this code would require at least 2 lookups for `key` (3 if it's not found), while `setdefault` require only 1 search of the `key`"
   ]
  },
  {
   "cell_type": "code",
   "execution_count": 4,
   "id": "2e8d8c20-f7de-4a43-817b-fd1726289dc3",
   "metadata": {},
   "outputs": [
    {
     "name": "stdout",
     "output_type": "stream",
     "text": [
      "car [3, 8, 9]\n",
      "cat [4, 11]\n",
      "dog [10]\n",
      "key [2, 6]\n",
      "taxi [7]\n",
      "text [1]\n",
      "word [0, 5]\n"
     ]
    }
   ],
   "source": [
    "indecies = {}\n",
    "for index, word in enumerate(words):\n",
    "    indecies.setdefault(word, []).append(index)\n",
    "\n",
    "for word in sorted(indecies, key=str.upper):\n",
    "    print(word, indecies[word])"
   ]
  },
  {
   "cell_type": "markdown",
   "id": "caaa74f9-3eb1-4f0c-9b2b-635984916ae7",
   "metadata": {},
   "source": [
    "## Automatic Handling of Missing Keys"
   ]
  },
  {
   "cell_type": "markdown",
   "id": "78836183-83c2-48ad-8471-e99d642e8439",
   "metadata": {},
   "source": [
    "### defaultdict\n",
    "\n",
    "A `collections.defaultdict` creates items with default value on demand when a **missing key** is searched using `d[k]` syntax.\n",
    "\n",
    "When instantiating a `defaultdict` we provide a **callable** to produce a default value whenever `__getitem__` is passed a nonexistent key.\n",
    "\n",
    "e.g. given `defaultdict` created as `dd = defaultdict(list)`, if `new_key` is not in `dd`, the expression `dd['new_key']` does the following:\n",
    "\n",
    "1. Calls `list()` to create new list\n",
    "2. Inserts the list into `dd` using `new_key` as key\n",
    "3. Returns a reference to that list\n",
    "\n",
    "**Warning** *This works only for `__getitem__` calls, and not for the other methods. For eg. `dd.get(k)` will still return `None`, and `k in dd` is `False` when k is not in dd*"
   ]
  },
  {
   "cell_type": "code",
   "execution_count": 5,
   "id": "74f8e6d3-5fd9-443d-ac4c-2b76278f13e0",
   "metadata": {},
   "outputs": [
    {
     "name": "stdout",
     "output_type": "stream",
     "text": [
      "car [3, 8, 9]\n",
      "cat [4, 11]\n",
      "dog [10]\n",
      "key [2, 6]\n",
      "taxi [7]\n",
      "text [1]\n",
      "word [0, 5]\n"
     ]
    }
   ],
   "source": [
    "import collections\n",
    "\n",
    "indecies = collections.defaultdict(list)\n",
    "for index, word in enumerate(words):\n",
    "    indecies[word].append(index)\n",
    "\n",
    "for word in sorted(indecies, key=str.upper):\n",
    "    print(word, indecies[word])"
   ]
  },
  {
   "cell_type": "markdown",
   "id": "8fe3f368-4faf-440d-b18d-d56445353726",
   "metadata": {},
   "source": [
    "### The `__missing__` Method\n",
    "\n",
    "Underlying the way mappings deal with missing keys is the `__missing__` method. This method is not defined in base `dict` class, but when `dict` is subclassed and provided with `__missing__`, the standard `dict.__getitem__` will call it instead of raising `KeyError` when key is not present."
   ]
  },
  {
   "cell_type": "code",
   "execution_count": 43,
   "id": "fcb33c82-37c8-4c58-bd47-148d6f81bec1",
   "metadata": {},
   "outputs": [],
   "source": [
    "class StrKeyDict(dict):\n",
    "    def __missing__(self, key) -> any:\n",
    "        if isinstance(key, str): # prevents infinite recursion\n",
    "            raise KeyError(key)\n",
    "        return self[str(key)]\n",
    "\n",
    "    def get(self, key, default=None) -> any:\n",
    "        try:\n",
    "            return self[key]\n",
    "        except KeyError:\n",
    "            return default\n",
    "\n",
    "    def __contains__(self, key) -> any:\n",
    "        return (key in self.keys() or str(key) in self.keys())"
   ]
  },
  {
   "cell_type": "code",
   "execution_count": 44,
   "id": "a1a33dd0-2226-43c1-8ce1-d32b882e4d73",
   "metadata": {},
   "outputs": [
    {
     "name": "stdout",
     "output_type": "stream",
     "text": [
      "two\n",
      "three\n",
      "two\n",
      "three\n",
      "N/A\n",
      "True\n",
      "True\n",
      "False\n"
     ]
    }
   ],
   "source": [
    "d = StrKeyDict([('2', 'two'), ('3', 'three')])\n",
    "print(d['2'])\n",
    "print(d[3])\n",
    "\n",
    "print(d.get('2'))\n",
    "print(d.get('3'))\n",
    "print(d.get(6, 'N/A'))\n",
    "\n",
    "print(2 in d)\n",
    "print('3' in d)\n",
    "print(1 in d)"
   ]
  },
  {
   "cell_type": "markdown",
   "id": "f2798505-17e3-44ee-bd28-fb990e518f3c",
   "metadata": {},
   "source": [
    "## Variations of dict"
   ]
  },
  {
   "cell_type": "markdown",
   "id": "d53f9506-c1c8-4e7f-b255-fd2111983f6a",
   "metadata": {},
   "source": [
    "### collections.OrderedDict\n",
    "\n",
    "This is nowadays only used to write a backward compatible code to Python versions earlier than 3.6. There are also a few other subtle differences:\n",
    "\n",
    "* `==` operator checks for matching order\n",
    "* has a `move_to_end()` method implemented\n",
    "* `OrderedDict` can handle frequent reordering operations better than `dict`"
   ]
  },
  {
   "cell_type": "markdown",
   "id": "87b532a5-54de-4708-85d4-116624fd8fcf",
   "metadata": {},
   "source": [
    "### collections.ChainMap\n",
    "\n",
    "A `ChainMap` instance holds a list of mapping which can be searched as 1 mapping, the lookup is performed on each input mapping in order they appear in constructor call. It succeeds as soon as the `key` is found in 1 of those mappings\n",
    "\n",
    "The `ChainMap` **does not copy** the input mappings, but holds references to them. Updates and insertions to `ChainMap` **only** affect the 1 input mapping."
   ]
  },
  {
   "cell_type": "code",
   "execution_count": 45,
   "id": "4fd8672c-d917-4314-ae6b-9ff00e944953",
   "metadata": {},
   "outputs": [
    {
     "name": "stdout",
     "output_type": "stream",
     "text": [
      "1\n",
      "6\n"
     ]
    }
   ],
   "source": [
    "import collections\n",
    "d1 = dict(a=1, b=3, d=8)\n",
    "d2 = dict(a=2, b=4, c=6)\n",
    "\n",
    "chain = collections.ChainMap(d1, d2)\n",
    "print(chain['a'])\n",
    "print(chain['c'])"
   ]
  },
  {
   "cell_type": "code",
   "execution_count": 46,
   "id": "0fb9c5be-764e-46f9-a763-162e674158e7",
   "metadata": {},
   "outputs": [
    {
     "name": "stdout",
     "output_type": "stream",
     "text": [
      "{'a': 1, 'b': 3, 'd': 8, 'c': -1}\n",
      "{'a': 2, 'b': 4, 'c': 6}\n"
     ]
    }
   ],
   "source": [
    "chain['c'] = -1\n",
    "print(d1)\n",
    "print(d2)"
   ]
  },
  {
   "cell_type": "markdown",
   "id": "2bb86820-2190-4256-9de0-3a9b287e6acf",
   "metadata": {},
   "source": [
    "### collections.Counter\n",
    "\n",
    "A mapping that holds an integer count for each key, updating an existing key adds to its count. \n",
    "\n",
    "`Counter` implements `+` and `-` operators to combine tallies, and other usefull methods such as `most_common([n])` "
   ]
  },
  {
   "cell_type": "code",
   "execution_count": 47,
   "id": "d7db19e6-713f-4b2d-8af0-64511dab8e25",
   "metadata": {},
   "outputs": [
    {
     "name": "stdout",
     "output_type": "stream",
     "text": [
      "Counter({'o': 11, 'k': 8, 'l': 8, 'r': 7, 'a': 4, 'e': 4, 'i': 3, 'u': 2, 'w': 2, 'p': 1, 'j': 1, 'n': 1, 'g': 1})\n"
     ]
    }
   ],
   "source": [
    "import collections\n",
    "\n",
    "counter = collections.Counter(\"krolkarolkupilkrolowejkaroliniekoralekolorukoralowego\")\n",
    "print(counter)"
   ]
  },
  {
   "cell_type": "code",
   "execution_count": 48,
   "id": "3e66c236-9186-4cdb-b195-a4bb9ba7ca4c",
   "metadata": {},
   "outputs": [
    {
     "name": "stdout",
     "output_type": "stream",
     "text": [
      "Counter({'o': 12, 'k': 9, 'l': 9, 'a': 8, 'r': 7, 'e': 4, 'i': 3, 'u': 2, 'w': 2, 'p': 1, 'j': 1, 'n': 1, 'g': 1, 'm': 1, 't': 1})\n"
     ]
    }
   ],
   "source": [
    "counter.update(\"alamakota\")\n",
    "print(counter)"
   ]
  },
  {
   "cell_type": "code",
   "execution_count": 49,
   "id": "b70f5ece-c49c-4fff-acbc-dce323e33694",
   "metadata": {},
   "outputs": [
    {
     "data": {
      "text/plain": [
       "[('o', 12), ('k', 9), ('l', 9)]"
      ]
     },
     "execution_count": 49,
     "metadata": {},
     "output_type": "execute_result"
    }
   ],
   "source": [
    "counter.most_common(3)"
   ]
  },
  {
   "cell_type": "code",
   "execution_count": 50,
   "id": "c4bbb99b-0028-4602-bc98-018d967886ef",
   "metadata": {},
   "outputs": [],
   "source": [
    "counter['q'] += 1 "
   ]
  },
  {
   "cell_type": "code",
   "execution_count": 51,
   "id": "dd73df19-836d-432e-822a-a0ebbce110a8",
   "metadata": {},
   "outputs": [
    {
     "data": {
      "text/plain": [
       "Counter({'o': 12,\n",
       "         'k': 9,\n",
       "         'l': 9,\n",
       "         'a': 8,\n",
       "         'r': 7,\n",
       "         'e': 4,\n",
       "         'i': 3,\n",
       "         'u': 2,\n",
       "         'w': 2,\n",
       "         'p': 1,\n",
       "         'j': 1,\n",
       "         'n': 1,\n",
       "         'g': 1,\n",
       "         'm': 1,\n",
       "         't': 1,\n",
       "         'q': 1})"
      ]
     },
     "execution_count": 51,
     "metadata": {},
     "output_type": "execute_result"
    }
   ],
   "source": [
    "counter"
   ]
  },
  {
   "cell_type": "markdown",
   "id": "bf489376-1ac8-48fa-b269-09074a138d09",
   "metadata": {},
   "source": [
    "### shelve.Shelf\n",
    "\n",
    "The `shelve` module in stdlib provides persistent storage for a mapping of `string` keys to python objects serialized in the `pickle` binary format.\n",
    "\n",
    "The `shelve.open` function returns a shelve.Shelf instance - a simple key-value DBM database\n",
    "\n",
    "* `shelve.Shelf` subclasses `abc.MutableMapping`\n",
    "* `Shelf` instance is a context manager, so it can be used with `with` block to ensure it is closed after use\n",
    "* Keys and values are saved whenever new val is assigned to a key\n",
    "* Keys must be strings\n",
    "* Values must be objects that `pickle` can serialize\n"
   ]
  },
  {
   "cell_type": "markdown",
   "id": "83af8437-250e-4566-b3c3-d9c9d2495908",
   "metadata": {},
   "source": [
    "### Subclassing UserDict instead of dict\n",
    "\n",
    "It is better to create new mapping type be extending `collections.UserDict` rather than `dict`. The main reason for this is that `dict` has some implementations shortcuts that force us to override some methods that we can inherit from `UserDict` without any problems.\n",
    "\n",
    "`UserDict` does not inherit from `dict`, but uses composition - it has an internal `dict` instance, called `data`, which holds the actual items."
   ]
  },
  {
   "cell_type": "code",
   "execution_count": 52,
   "id": "73710ddf-4e1c-4b5a-a0ba-42af6e407648",
   "metadata": {},
   "outputs": [],
   "source": [
    "import collections\n",
    "\n",
    "class StrKeyDict(collections.UserDict):\n",
    "    def __missing__(self, key):\n",
    "        if isinstance(key, str):\n",
    "            raise KeyError(key)\n",
    "        return self[str(key)]\n",
    "    def __contains__(self, key):\n",
    "        return str(key) in self.data\n",
    "    def __setitem__(self, key, item):\n",
    "        self.data[str(key)] = item"
   ]
  },
  {
   "cell_type": "markdown",
   "id": "347f8e88-3806-42b3-a2ef-a6b32823f6ab",
   "metadata": {},
   "source": [
    "### Immutable Mappings\n",
    "\n",
    "The mapping types provided by stdlib are all mutable. The `types` module provides a wrapper class called `MappingProxyType`, which, given a mapping, returns a `mappingproxy` instance that is a read-only, dynamic proxy for the orginal mapping. This means that updates to the orginal mapping can be seen in `mappingproxy`, but changes cannot be made through it."
   ]
  },
  {
   "cell_type": "code",
   "execution_count": 53,
   "id": "76a09dca-51b8-49eb-a53a-ae96c17a56b3",
   "metadata": {},
   "outputs": [
    {
     "name": "stdout",
     "output_type": "stream",
     "text": [
      "{1: 'a'}\n"
     ]
    }
   ],
   "source": [
    "from types import MappingProxyType\n",
    "\n",
    "d = {1: 'a'}\n",
    "d_proxy = MappingProxyType(d)\n",
    "print(d_proxy)"
   ]
  },
  {
   "cell_type": "code",
   "execution_count": 54,
   "id": "8f674c99-8c1b-494e-bdea-577bb58de648",
   "metadata": {},
   "outputs": [
    {
     "data": {
      "text/plain": [
       "'a'"
      ]
     },
     "execution_count": 54,
     "metadata": {},
     "output_type": "execute_result"
    }
   ],
   "source": [
    "d_proxy[1]"
   ]
  },
  {
   "cell_type": "code",
   "execution_count": 55,
   "id": "f68797a6-6d9d-4d2f-ac3f-4e79376e7f96",
   "metadata": {},
   "outputs": [
    {
     "ename": "TypeError",
     "evalue": "'mappingproxy' object does not support item assignment",
     "output_type": "error",
     "traceback": [
      "\u001b[1;31m---------------------------------------------------------------------------\u001b[0m",
      "\u001b[1;31mTypeError\u001b[0m                                 Traceback (most recent call last)",
      "Cell \u001b[1;32mIn[55], line 1\u001b[0m\n\u001b[1;32m----> 1\u001b[0m d_proxy[\u001b[38;5;241m2\u001b[39m] \u001b[38;5;241m=\u001b[39m \u001b[38;5;124m'\u001b[39m\u001b[38;5;124mb\u001b[39m\u001b[38;5;124m'\u001b[39m\n",
      "\u001b[1;31mTypeError\u001b[0m: 'mappingproxy' object does not support item assignment"
     ]
    }
   ],
   "source": [
    "d_proxy[2] = 'b'"
   ]
  },
  {
   "cell_type": "code",
   "execution_count": 57,
   "id": "cb031c78-06a5-4180-ab18-ecec2573f421",
   "metadata": {},
   "outputs": [
    {
     "name": "stdout",
     "output_type": "stream",
     "text": [
      "{1: 'a', 3: 'c'}\n",
      "{1: 'a', 3: 'c'}\n"
     ]
    }
   ],
   "source": [
    "d[3] = 'c'\n",
    "print(d)\n",
    "print(d_proxy)"
   ]
  },
  {
   "cell_type": "markdown",
   "id": "1ad7ba62-3798-4a9d-a027-d4e73483d873",
   "metadata": {},
   "source": [
    "## Dictionary Views\n",
    "\n",
    "The `dict` methods `.keys()`, `.values()` and `.items()` return instances of classes called `dict_keys`, `dict_values` and `dict_items`. These dictionary views are read-only projections of the internal DSs used in `dict` impl. A view is a dynamic proxy."
   ]
  },
  {
   "cell_type": "code",
   "execution_count": 58,
   "id": "98bcbc59-31f0-4ff8-a508-1ce37fa2cd35",
   "metadata": {},
   "outputs": [
    {
     "name": "stdout",
     "output_type": "stream",
     "text": [
      "dict_values([10, 20, 30])\n"
     ]
    }
   ],
   "source": [
    "d = dict(a=10, b=20, c=30)\n",
    "values = d.values()\n",
    "print(values)"
   ]
  },
  {
   "cell_type": "code",
   "execution_count": 59,
   "id": "413081c8-49a0-4549-8467-6cfd63c883bc",
   "metadata": {},
   "outputs": [
    {
     "data": {
      "text/plain": [
       "3"
      ]
     },
     "execution_count": 59,
     "metadata": {},
     "output_type": "execute_result"
    }
   ],
   "source": [
    "len(values)"
   ]
  },
  {
   "cell_type": "code",
   "execution_count": 60,
   "id": "0f8c7b39-1216-429e-a16d-1dc79e7c8adb",
   "metadata": {},
   "outputs": [
    {
     "data": {
      "text/plain": [
       "[10, 20, 30]"
      ]
     },
     "execution_count": 60,
     "metadata": {},
     "output_type": "execute_result"
    }
   ],
   "source": [
    "list(values)"
   ]
  },
  {
   "cell_type": "code",
   "execution_count": 61,
   "id": "5a05c810-0917-4c3b-a3c3-8eb6e7cf896d",
   "metadata": {},
   "outputs": [
    {
     "data": {
      "text/plain": [
       "<dict_reversevalueiterator at 0x2584d268450>"
      ]
     },
     "execution_count": 61,
     "metadata": {},
     "output_type": "execute_result"
    }
   ],
   "source": [
    "reversed(values)"
   ]
  },
  {
   "cell_type": "code",
   "execution_count": 62,
   "id": "86961f6e-281b-42c3-8e9d-8559c35ed235",
   "metadata": {},
   "outputs": [
    {
     "ename": "TypeError",
     "evalue": "'dict_values' object is not subscriptable",
     "output_type": "error",
     "traceback": [
      "\u001b[1;31m---------------------------------------------------------------------------\u001b[0m",
      "\u001b[1;31mTypeError\u001b[0m                                 Traceback (most recent call last)",
      "Cell \u001b[1;32mIn[62], line 1\u001b[0m\n\u001b[1;32m----> 1\u001b[0m values[\u001b[38;5;241m0\u001b[39m]\n",
      "\u001b[1;31mTypeError\u001b[0m: 'dict_values' object is not subscriptable"
     ]
    }
   ],
   "source": [
    "values[0]"
   ]
  },
  {
   "cell_type": "markdown",
   "id": "72770f15-bf9a-4796-9501-0b23ea95bb32",
   "metadata": {},
   "source": [
    "**Tip** *To save memory, avoid creating instance attributes outside of the `__init__` method when working on objects. This is because python stores all instanc attributes in a common hash table shared by the `__dict__` stored in each new instance that has the same attributes names as the first instance. Adding an instance attribute after `__init__` forces Python to create a new hash table just for the `__dict__` of that 1 instance*"
   ]
  },
  {
   "cell_type": "markdown",
   "id": "a0b2645b-1c9f-40db-89b3-98d781890118",
   "metadata": {},
   "source": [
    "## Set Theory\n",
    "\n",
    "A set is a collection of unique objects."
   ]
  },
  {
   "cell_type": "code",
   "execution_count": 63,
   "id": "2c9854f0-6478-4445-870b-53cc231d72cf",
   "metadata": {},
   "outputs": [
    {
     "name": "stdout",
     "output_type": "stream",
     "text": [
      "{'eggs', 'spam', 'bacon'}\n"
     ]
    }
   ],
   "source": [
    "l = ['spam', 'spam', 'eggs', 'spam', 'bacon', 'eggs'] \n",
    "print(set(l))"
   ]
  },
  {
   "cell_type": "markdown",
   "id": "6abb408a-41ab-4b2f-8e01-89ed6e41daa9",
   "metadata": {},
   "source": [
    "To remove duplicates while preserving the order of the first occurences of each item, a plain `dict` can be used"
   ]
  },
  {
   "cell_type": "code",
   "execution_count": 64,
   "id": "2cde0af4-b5f6-4350-8713-175c4bd0a2db",
   "metadata": {},
   "outputs": [
    {
     "data": {
      "text/plain": [
       "['spam', 'eggs', 'bacon']"
      ]
     },
     "execution_count": 64,
     "metadata": {},
     "output_type": "execute_result"
    }
   ],
   "source": [
    "list(dict.fromkeys(l).keys())"
   ]
  },
  {
   "cell_type": "markdown",
   "id": "14f7d907-d6cf-4325-8ec3-1b11f3aedce9",
   "metadata": {},
   "source": [
    "Set elements must be hashable. `set` is not hashable but its immutable sibling `frozenset` is hashable.\n",
    "\n",
    "Set types implement many set operations:\n",
    "\n",
    "* `a | b` returns their union\n",
    "* `a & b` computes intersection\n",
    "* `a - b` returns difference\n",
    "* `a ^ b` symmetric difference"
   ]
  },
  {
   "cell_type": "code",
   "execution_count": 65,
   "id": "8dd92dac-86ae-4434-ab0e-fd442cc9600f",
   "metadata": {},
   "outputs": [],
   "source": [
    "s1 = {'cat', 'dog', 'penguin', 'zebra', 'lion', 'snake'}\n",
    "s2 = {'polar bear', 'cat', 'snake', 'gopher'}"
   ]
  },
  {
   "cell_type": "code",
   "execution_count": 66,
   "id": "a19a062f-f919-46c4-9377-2a0f9faf8903",
   "metadata": {},
   "outputs": [
    {
     "data": {
      "text/plain": [
       "{'cat', 'dog', 'gopher', 'lion', 'penguin', 'polar bear', 'snake', 'zebra'}"
      ]
     },
     "execution_count": 66,
     "metadata": {},
     "output_type": "execute_result"
    }
   ],
   "source": [
    "s1 | s2"
   ]
  },
  {
   "cell_type": "code",
   "execution_count": 67,
   "id": "d77e9698-31aa-4ae3-8969-513215aaaa02",
   "metadata": {},
   "outputs": [
    {
     "data": {
      "text/plain": [
       "{'cat', 'snake'}"
      ]
     },
     "execution_count": 67,
     "metadata": {},
     "output_type": "execute_result"
    }
   ],
   "source": [
    "s1 & s2"
   ]
  },
  {
   "cell_type": "code",
   "execution_count": 68,
   "id": "686b1006-8acd-4335-9258-1dcaec5b2d1c",
   "metadata": {},
   "outputs": [
    {
     "data": {
      "text/plain": [
       "{'dog', 'gopher', 'lion', 'penguin', 'polar bear', 'zebra'}"
      ]
     },
     "execution_count": 68,
     "metadata": {},
     "output_type": "execute_result"
    }
   ],
   "source": [
    "s1 ^ s2"
   ]
  },
  {
   "cell_type": "markdown",
   "id": "daab89d9-6ea6-4f88-933a-d0c9310e4c4d",
   "metadata": {},
   "source": [
    "**Important** *To create an empty `set`, the constructor without args must be used - `set()`. `{}` notation will create an empty `dict`"
   ]
  },
  {
   "cell_type": "markdown",
   "id": "74b03448-b230-4796-adfb-b5e4bc7392bd",
   "metadata": {},
   "source": [
    "## Set Comprehensions"
   ]
  },
  {
   "cell_type": "code",
   "execution_count": 71,
   "id": "634ae493-2ee0-45bf-97f1-7a9e4a383679",
   "metadata": {},
   "outputs": [
    {
     "data": {
      "text/plain": [
       "{'#',\n",
       " '$',\n",
       " '%',\n",
       " '+',\n",
       " '<',\n",
       " '=',\n",
       " '>',\n",
       " '¢',\n",
       " '£',\n",
       " '¤',\n",
       " '¥',\n",
       " '§',\n",
       " '©',\n",
       " '¬',\n",
       " '®',\n",
       " '°',\n",
       " '±',\n",
       " 'µ',\n",
       " '¶',\n",
       " '×',\n",
       " '÷'}"
      ]
     },
     "execution_count": 71,
     "metadata": {},
     "output_type": "execute_result"
    }
   ],
   "source": [
    "from unicodedata import name\n",
    "\n",
    "{chr(i) for i in range (32, 256) if 'SIGN' in name(chr(i), '')}"
   ]
  },
  {
   "cell_type": "code",
   "execution_count": null,
   "id": "42c3771a-43ab-45f5-b9f8-3c07b3dd75b5",
   "metadata": {},
   "outputs": [],
   "source": []
  }
 ],
 "metadata": {
  "kernelspec": {
   "display_name": "Python 3 (ipykernel)",
   "language": "python",
   "name": "python3"
  },
  "language_info": {
   "codemirror_mode": {
    "name": "ipython",
    "version": 3
   },
   "file_extension": ".py",
   "mimetype": "text/x-python",
   "name": "python",
   "nbconvert_exporter": "python",
   "pygments_lexer": "ipython3",
   "version": "3.11.9"
  }
 },
 "nbformat": 4,
 "nbformat_minor": 5
}
