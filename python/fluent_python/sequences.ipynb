{
 "cells": [
  {
   "cell_type": "markdown",
   "id": "79829e25",
   "metadata": {
    "tags": []
   },
   "source": [
    "### Mutable sequences"
   ]
  },
  {
   "cell_type": "markdown",
   "id": "cae5dfeb",
   "metadata": {},
   "source": [
    "list(), bytearray(), array.array(), collections.deque()"
   ]
  },
  {
   "cell_type": "markdown",
   "id": "c46bcf8d",
   "metadata": {
    "tags": []
   },
   "source": [
    "### Immutable sequences"
   ]
  },
  {
   "cell_type": "markdown",
   "id": "60454418",
   "metadata": {},
   "source": [
    "tuple(), str(), bytes()"
   ]
  },
  {
   "cell_type": "code",
   "execution_count": 2,
   "id": "5ba18c91",
   "metadata": {},
   "outputs": [
    {
     "name": "stdout",
     "output_type": "stream",
     "text": [
      "True\n",
      "True\n"
     ]
    }
   ],
   "source": [
    "from collections import abc\n",
    "print(issubclass(tuple, abc.Sequence))\n",
    "print(issubclass(list, abc.MutableSequence))"
   ]
  },
  {
   "cell_type": "markdown",
   "id": "67f4ce68",
   "metadata": {},
   "source": [
    "Mutable sequences inherit from immutable sequences and implement few additional methods"
   ]
  },
  {
   "cell_type": "markdown",
   "id": "81fab814",
   "metadata": {},
   "source": [
    "### List comprehensions\n",
    "\n",
    "The goal of listcomps is always to build a new list, unlike normal for loops"
   ]
  },
  {
   "cell_type": "code",
   "execution_count": 3,
   "id": "a59b0b79",
   "metadata": {},
   "outputs": [
    {
     "name": "stdout",
     "output_type": "stream",
     "text": [
      "[97, 98, 99, 100]\n"
     ]
    }
   ],
   "source": [
    "x = \"abcd\"\n",
    "codes = [ord(c) for c in x]\n",
    "print(codes)"
   ]
  },
  {
   "cell_type": "markdown",
   "id": "58af0856",
   "metadata": {},
   "source": [
    "**\"Walrus operator\"** `:=` defines the scope of the target as the enclosing function.\n",
    "Thanks to that variables assigned with `:=` operator remain accesable outsite their normal scope (eg. for loop)"
   ]
  },
  {
   "cell_type": "code",
   "execution_count": 5,
   "id": "5ec228f9",
   "metadata": {},
   "outputs": [
    {
     "name": "stdout",
     "output_type": "stream",
     "text": [
      "[1, 2, 3, 4]\n",
      "4\n"
     ]
    }
   ],
   "source": [
    "x = [1, 2, 3, 4]\n",
    "codes = [last := c for c in x]\n",
    "print(codes)\n",
    "print(last)\n",
    "# print(c) -- returns an error"
   ]
  },
  {
   "cell_type": "markdown",
   "id": "138b35a7",
   "metadata": {},
   "source": [
    "#### Cartesian product using a listcomps\n",
    "The items that made cartesian product are tuples made of every combinations of input iterables "
   ]
  },
  {
   "cell_type": "code",
   "execution_count": 7,
   "id": "bc8a15e9",
   "metadata": {},
   "outputs": [
    {
     "name": "stdout",
     "output_type": "stream",
     "text": [
      "[('black', 's'), ('black', 'm'), ('black', 'l'), ('white', 's'), ('white', 'm'), ('white', 'l')]\n",
      "('black', 's')\n",
      "('black', 'm')\n",
      "('black', 'l')\n",
      "('white', 's')\n",
      "('white', 'm')\n",
      "('white', 'l')\n"
     ]
    }
   ],
   "source": [
    "colors = ['black', 'white']\n",
    "sizes = ['s', 'm', 'l']\n",
    "tshirts = [(color, size) for color in colors\n",
    "                          for size in sizes]\n",
    "print(tshirts)\n",
    "\n",
    "for color in colors:\n",
    "    for size in sizes:\n",
    "        print((color, size))"
   ]
  },
  {
   "cell_type": "markdown",
   "id": "1ac39d06",
   "metadata": {},
   "source": [
    "### Generator expressions\n",
    "\n",
    "genexps are use to build types other than lists to witch listcomps are used.\n",
    "Genexps use the same syntax as listcomps, but are rather enclosed in parentheses than brackets"
   ]
  },
  {
   "cell_type": "code",
   "execution_count": 9,
   "id": "d9391709",
   "metadata": {},
   "outputs": [
    {
     "name": "stdout",
     "output_type": "stream",
     "text": [
      "(33, 64, 35, 36, 37, 94, 38, 42)\n",
      "array('I', [33, 64, 35, 36, 37, 94, 38, 42])\n"
     ]
    }
   ],
   "source": [
    "symbols = '!@#$%^&*'\n",
    "t = tuple(ord(symbol) for symbol in symbols)\n",
    "print(t)\n",
    "\n",
    "import array\n",
    "a = array.array('I', (ord(symbol) for symbol in symbols))\n",
    "print(a)"
   ]
  },
  {
   "cell_type": "markdown",
   "id": "f656158c",
   "metadata": {},
   "source": [
    "Genexps yields items one by one and thanks to this there is no need to store an entire sequence in memory when we dont need it later"
   ]
  },
  {
   "cell_type": "markdown",
   "id": "f726b808",
   "metadata": {},
   "source": [
    "### Tuples\n",
    "\n",
    "Tuples can be used as:\n",
    "\n",
    "* immutable lists\n",
    "* records with no field names\n",
    "\n",
    "*single item tuples must be written with a trailing comma*"
   ]
  },
  {
   "cell_type": "markdown",
   "id": "763c693d",
   "metadata": {},
   "source": [
    "##### Tuples as records\n",
    "\n",
    "Each item in the tuple holds data for one field, and the position of the item gives its meaning"
   ]
  },
  {
   "cell_type": "code",
   "execution_count": 11,
   "id": "ee243dc3",
   "metadata": {},
   "outputs": [
    {
     "name": "stdout",
     "output_type": "stream",
     "text": [
      "USA/31195855\n",
      "BRA/CE342567\n",
      "ESP/XDA205856\n"
     ]
    }
   ],
   "source": [
    "city, year, pop, chg, area = ('Tokyo', 2003, 32_450, 0.66, 8014)\n",
    "\n",
    "traveler_ids = [('USA', '31195855'), ('BRA', 'CE342567'), ('ESP', 'XDA205856')]\n",
    "for passport in traveler_ids:\n",
    "    print('%s/%s' % passport) # % formatting operator understands tuples and treats each item as seperate field"
   ]
  },
  {
   "cell_type": "markdown",
   "id": "1e3db845",
   "metadata": {},
   "source": [
    "##### Tuples as immutable lists\n",
    "\n",
    "This solution brings 2 key benefits:\n",
    "\n",
    "* clarity - tuple in code means that its length will never change\n",
    "* performance - tuple uses less memory than list of the same length\n",
    "\n",
    "***Attention** immutablility of the tuple applies only to the references contained in it*"
   ]
  },
  {
   "cell_type": "code",
   "execution_count": 12,
   "id": "13f4572f",
   "metadata": {},
   "outputs": [
    {
     "name": "stdout",
     "output_type": "stream",
     "text": [
      "True\n",
      "False\n"
     ]
    }
   ],
   "source": [
    "a = (10, 'alpha', [1, 2])\n",
    "b = (10, 'alpha', [1, 2])\n",
    "print(a == b)\n",
    "b[-1].append(99)\n",
    "print(a == b)"
   ]
  },
  {
   "cell_type": "markdown",
   "id": "62b829cb",
   "metadata": {},
   "source": [
    "Tuples which elements can change are unhashable.\n",
    "Unhashable tuple cannot be inserted as dict key, or a set element."
   ]
  },
  {
   "cell_type": "code",
   "execution_count": 13,
   "id": "208eb74f",
   "metadata": {},
   "outputs": [
    {
     "name": "stdout",
     "output_type": "stream",
     "text": [
      "True\n",
      "False\n"
     ]
    }
   ],
   "source": [
    "def fixed(o):\n",
    "    try:\n",
    "        hash(o)\n",
    "    except TypeError:\n",
    "        return False\n",
    "    return True\n",
    "\n",
    "tf = (10, 'alpha', (1, 2))\n",
    "tm = (10, 'alpha', [1, 2])\n",
    "print(fixed(tf))\n",
    "print(fixed(tm))"
   ]
  },
  {
   "cell_type": "markdown",
   "id": "e7774eb2",
   "metadata": {},
   "source": [
    "### Unpacking sequences and iterables"
   ]
  },
  {
   "cell_type": "code",
   "execution_count": 15,
   "id": "d0194b7e",
   "metadata": {},
   "outputs": [
    {
     "name": "stdout",
     "output_type": "stream",
     "text": [
      "33.9425\n",
      "-118.408056\n"
     ]
    }
   ],
   "source": [
    "lax_coordinates = (33.9425, -118.408056)\n",
    "latitude, longitude = lax_coordinates  # unpacking\n",
    "print(latitude)\n",
    "print(longitude)"
   ]
  },
  {
   "cell_type": "code",
   "execution_count": 16,
   "id": "6c0b237f",
   "metadata": {},
   "outputs": [
    {
     "name": "stdout",
     "output_type": "stream",
     "text": [
      "2\n",
      "1\n"
     ]
    }
   ],
   "source": [
    "a = 1\n",
    "b = 2\n",
    "b, a = a, b\n",
    "print(a)\n",
    "print(b)"
   ]
  },
  {
   "cell_type": "markdown",
   "id": "a3ffc3f6",
   "metadata": {},
   "source": [
    "We can use * to unpack and pass it as input to a function"
   ]
  },
  {
   "cell_type": "code",
   "execution_count": 18,
   "id": "f8429287",
   "metadata": {},
   "outputs": [
    {
     "name": "stdout",
     "output_type": "stream",
     "text": [
      "(2, 4)\n",
      "(2, 4)\n"
     ]
    }
   ],
   "source": [
    "res = divmod(20, 8)\n",
    "print(res)\n",
    "\n",
    "t = (20, 8)\n",
    "res = divmod(*t)\n",
    "print(res)"
   ]
  },
  {
   "cell_type": "markdown",
   "id": "b6f5d309",
   "metadata": {},
   "source": [
    "#### Using * to grab excess items"
   ]
  },
  {
   "cell_type": "code",
   "execution_count": 19,
   "id": "0ffa02c1",
   "metadata": {},
   "outputs": [
    {
     "name": "stdout",
     "output_type": "stream",
     "text": [
      "0\n",
      "1\n",
      "[2, 3, 4, 5, 6, 7]\n"
     ]
    }
   ],
   "source": [
    "a, b, *rest = range(8)\n",
    "print(a)\n",
    "print(b)\n",
    "print(rest)"
   ]
  },
  {
   "cell_type": "code",
   "execution_count": 21,
   "id": "b0435270",
   "metadata": {},
   "outputs": [
    {
     "name": "stdout",
     "output_type": "stream",
     "text": [
      "0\n",
      "[1, 2, 3, 4, 5]\n",
      "6\n",
      "7\n"
     ]
    }
   ],
   "source": [
    "a, *middle, c, d = range(8)\n",
    "print(a)\n",
    "print(middle)\n",
    "print(c)\n",
    "print(d)"
   ]
  },
  {
   "cell_type": "markdown",
   "id": "d225f179",
   "metadata": {},
   "source": [
    "We can use `*` multiple times in function calls"
   ]
  },
  {
   "cell_type": "code",
   "execution_count": 22,
   "id": "c6d03385",
   "metadata": {},
   "outputs": [
    {
     "name": "stdout",
     "output_type": "stream",
     "text": [
      "(1, 2, 3, 4, (5, 6))\n"
     ]
    }
   ],
   "source": [
    "def fun(a, b, c, d, *rest):\n",
    "    return a, b, c, d, rest\n",
    "print(fun(*[1, 2], 3, *range(4, 7)))"
   ]
  },
  {
   "cell_type": "markdown",
   "id": "ed0d331f",
   "metadata": {},
   "source": [
    "We can also use `*` when defining `list`, `tuple` or `set`"
   ]
  },
  {
   "cell_type": "code",
   "execution_count": 23,
   "id": "450a51d2",
   "metadata": {},
   "outputs": [
    {
     "name": "stdout",
     "output_type": "stream",
     "text": [
      "[0, 1, 2, 3, 4]\n",
      "{0, 1, 2, 3, 4, 5, 6, 7}\n"
     ]
    }
   ],
   "source": [
    "l = [*range(4), 4]\n",
    "print(l)\n",
    "s = {*range(4), 4, *(5, 6, 7)}\n",
    "print(s)"
   ]
  },
  {
   "cell_type": "markdown",
   "id": "dd9b7e73",
   "metadata": {},
   "source": [
    "#### Nested unpacking\n",
    "\n",
    "The target of an unpacking can use nesting, e.g., `(a, b, (c, d))`. Python will do the right thing if the value has the same nesting structure."
   ]
  },
  {
   "cell_type": "code",
   "execution_count": 24,
   "id": "3b1c89c2",
   "metadata": {},
   "outputs": [
    {
     "name": "stdout",
     "output_type": "stream",
     "text": [
      "Mexico City     |   19.4333 |  -99.1333\n",
      "New York-Newark |   40.8086 |  -74.0204\n",
      "São Paulo       |  -23.5478 |  -46.6358\n"
     ]
    }
   ],
   "source": [
    "metro_areas = [\n",
    "    ('Tokyo', 'JP', 36.933, (35.689722, 139.691667)),\n",
    "    ('Delhi NCR', 'IN', 21.935, (28.613889, 77.208889)),\n",
    "    ('Mexico City', 'MX', 20.142, (19.433333, -99.133333)),\n",
    "    ('New York-Newark', 'US', 20.104, (40.808611, -74.020386)),\n",
    "    ('São Paulo', 'BR', 19.649, (-23.547778, -46.635833)),\n",
    "]\n",
    "for name, _, _, (lat, lon) in metro_areas:\n",
    "    if lon <= 0:\n",
    "        print(f'{name:15} | {lat:9.4f} | {lon:9.4f}')"
   ]
  },
  {
   "cell_type": "markdown",
   "id": "796fe578",
   "metadata": {},
   "source": [
    "### Patern matching with sequences"
   ]
  },
  {
   "cell_type": "code",
   "execution_count": 26,
   "id": "863b5028",
   "metadata": {},
   "outputs": [
    {
     "data": {
      "text/plain": [
       "\"\\ndef handle_command(self, message):\\n    match message:\\n        case ['BEEPER', freq, times]:\\n            self.beep(times, freq)\\n        case ['NECK', angle]:  3\\n                self.rotate_neck(angle)\\n        case ['LED', ident, intensity]:  4\\n            self.leds[ident].set_brightness(ident, intensity)\\n        case ['LED', ident, red, green, blue]:  5\\n            self.leds[ident].set_color(ident, red, green, blue)\\n        case _:  6\\n            raise InvalidCommand(message)\\n\""
      ]
     },
     "execution_count": 26,
     "metadata": {},
     "output_type": "execute_result"
    }
   ],
   "source": [
    "# imaginary method to handle robot commands\n",
    "'''\n",
    "def handle_command(self, message):\n",
    "    match message:\n",
    "        case ['BEEPER', freq, times]:\n",
    "            self.beep(times, freq)\n",
    "        case ['NECK', angle]:  3\n",
    "                self.rotate_neck(angle)\n",
    "        case ['LED', ident, intensity]:  4\n",
    "            self.leds[ident].set_brightness(ident, intensity)\n",
    "        case ['LED', ident, red, green, blue]:  5\n",
    "            self.leds[ident].set_color(ident, red, green, blue)\n",
    "        case _:  6\n",
    "            raise InvalidCommand(message)\n",
    "'''"
   ]
  },
  {
   "cell_type": "markdown",
   "id": "ec5e1b55",
   "metadata": {},
   "source": [
    "#### match/case vs switch/case\n",
    "\n",
    "At first match/case might look similar to c switch/case but there is 1 key difference: match/case support **deconstructing** - a more advanced form of unpacking\n",
    "\n",
    "*deconstructing requires python>=3.10"
   ]
  },
  {
   "cell_type": "code",
   "execution_count": 27,
   "id": "61b30ca1",
   "metadata": {},
   "outputs": [
    {
     "name": "stdout",
     "output_type": "stream",
     "text": [
      "                |  latitude | longitude\n",
      "Mexico City     |   19.4333 |  -99.1333\n",
      "New York-Newark |   40.8086 |  -74.0204\n",
      "São Paulo       |  -23.5478 |  -46.6358\n"
     ]
    }
   ],
   "source": [
    "metro_areas = [\n",
    "    ('Tokyo', 'JP', 36.933, (35.689722, 139.691667)),\n",
    "    ('Delhi NCR', 'IN', 21.935, (28.613889, 77.208889)),\n",
    "    ('Mexico City', 'MX', 20.142, (19.433333, -99.133333)),\n",
    "    ('New York-Newark', 'US', 20.104, (40.808611, -74.020386)),\n",
    "    ('São Paulo', 'BR', 19.649, (-23.547778, -46.635833)),\n",
    "]\n",
    "\n",
    "print(f'{\"\":15} | {\"latitude\":>9} | {\"longitude\":>9}')\n",
    "for record in metro_areas:\n",
    "    match record: # The subject of this match is record\n",
    "        case [name, _, _, (lat, lon)] if lon <= 0: # case has 2 parts: pattern & optional guard with if keyword\n",
    "            print(f'{name:15} | {lat:9.4f} | {lon:9.4f}')"
   ]
  },
  {
   "cell_type": "markdown",
   "id": "be923dc0",
   "metadata": {},
   "source": [
    "Pattern `[name, _, _, (lat, lon)]` matches a sequence with 4 items, where the last item must be 2-item sequence\n",
    "\n",
    "**important**:\n",
    "Sequence patterns may be written as tuples or lists or any combination of nested tuples and lists, but it makes **no difference** which syntax we will use. **squere brackets and parentheses mean the same**\n",
    "\n",
    "A sequence pattern can match instances of most of the actual and virtual subclasses of `collections.abc.Sequence`, except `str`, `bytes` and `bytearray`. A match subject of 1 of those types is treated as an \"atomic\" value. In order to treat those types as sequences they must be converted in the match cluause."
   ]
  },
  {
   "cell_type": "code",
   "execution_count": 1,
   "id": "7be0e2e2",
   "metadata": {
    "tags": []
   },
   "outputs": [
    {
     "name": "stdout",
     "output_type": "stream",
     "text": [
      "Africa\n"
     ]
    }
   ],
   "source": [
    "phone = \"231439090\"\n",
    "\n",
    "match tuple(phone):\n",
    "    case ['1', *rest]:\n",
    "        print(\"NA or Carabban\")\n",
    "    case ['2', *rest]:\n",
    "        print(\"Africa\")\n",
    "    case ['3' | '4', *rest]:\n",
    "        print(\"Europe\")\n",
    "    case _:\n",
    "        raise Exception(\"worng value\")"
   ]
  },
  {
   "cell_type": "markdown",
   "id": "eee3ed6b-2b04-4151-9e53-01a1ce30fa88",
   "metadata": {},
   "source": [
    "Unlike unpacking, patterns don't destructure iterables that are not sequences (eg. iterators)"
   ]
  },
  {
   "cell_type": "markdown",
   "id": "c767bde2-ba93-48fa-bf71-f52b88086d80",
   "metadata": {},
   "source": [
    "The `_` symbol is special in patterns: it matches any single item in that position, but it never bound to the value of the matched item. It is also the only variable that can appear more than once in a pattern"
   ]
  },
  {
   "cell_type": "markdown",
   "id": "78171ddc-8f26-49f5-8181-ef5892f2815c",
   "metadata": {},
   "source": [
    "Any part of a pattern can be bind whith a variable using the `as` keyword\n",
    "\n",
    "`\n",
    "case [name, _, _, (lat, lon) as coord]:\n",
    "`\n",
    "\n",
    "now, given the subject `['Warsow', 'PL', 59.2, (21.9, 37.2)]` the preceding pattern will match, and set the following variables: `name = 'Warsaw'`, `lat = 21.9`, `lon = 37.2` and `coord = (21.9, 37.2)`"
   ]
  },
  {
   "cell_type": "markdown",
   "id": "f0038e00-e90f-4f18-a73c-8dc608b5cb59",
   "metadata": {},
   "source": [
    "Patterns can be make more specific by adding type information. For eg. \n",
    "\n",
    "`case [str(name), _, _, (float(lat), float(lon))]:`\n",
    "\n",
    "will match the same nested sequence as prev. example, but the first item must be an instance of `str`, and both items in the tuple must be instances of `float`\n",
    "\n",
    "*those expresions looks like constructor calls, but in context of patterns, that syntax performs a runtime type check, not a conversion of types*"
   ]
  },
  {
   "cell_type": "markdown",
   "id": "8bc8414d-94f0-4011-b594-624b4570b9cf",
   "metadata": {},
   "source": [
    "To match any subject sequence that starts with `str` and ends with nested seq. of 2 `flaot`s:\n",
    "\n",
    "`case [str(name), *_, (float(lat), float(lon))]:`\n",
    "\n",
    "This solution would allow to match an arbitrary length seq. without binding middle elements to any variable, thanks to using `*_`, on the other hand using `*extra` would bound those items to a var named `extra` as a `list` with 0 or more items"
   ]
  },
  {
   "cell_type": "markdown",
   "id": "a9805f2b-ee75-4547-96a2-71916d6cea71",
   "metadata": {},
   "source": [
    "Pattern matching is an example of declarative programming: the code describes **what** you want to match, not **how** to match it. The shape of the code follows the shape of the data"
   ]
  },
  {
   "cell_type": "markdown",
   "id": "f8896d55-fd88-47e7-a7eb-a22d9eb7dee1",
   "metadata": {
    "tags": []
   },
   "source": [
    "### Slicing\n",
    "\n",
    "##### Why Slices and Ranges Exclude the last item\n",
    "\n",
    "* easy to see the lenght of a slice or range when only stop position is given. eg. `range(3)`, `my_list(:3)`\n",
    "* easy to compute len of a slice or range when start and stop are given. `stop - start`\n",
    "* easy to split a seq into 2 parts at any index `x`, without overlapping. `my_list[:x]` and `my_list[x:]`"
   ]
  },
  {
   "cell_type": "code",
   "execution_count": 3,
   "id": "82f11bed",
   "metadata": {
    "tags": []
   },
   "outputs": [
    {
     "name": "stdout",
     "output_type": "stream",
     "text": [
      "[10, 20]\n",
      "[30, 40, 50, 60]\n",
      "[10, 20, 30]\n",
      "[40, 50, 60]\n"
     ]
    }
   ],
   "source": [
    "l = [10, 20, 30, 40, 50, 60]\n",
    "print(l[:2]) # split at 2\n",
    "print(l[2:])\n",
    "print(l[:3]) # split at 3\n",
    "print(l[3:])\n"
   ]
  },
  {
   "cell_type": "markdown",
   "id": "eef85ab0-b161-45e2-898e-914c86db3e1f",
   "metadata": {},
   "source": [
    "#### Slice Objects\n",
    "\n",
    "syntax of slice: `s[start:stop:step]`\n",
    "\n",
    "The notation `a:b:c` is only valid within `[]` and it produces a slice object: `slice(a, b, c)`"
   ]
  },
  {
   "cell_type": "code",
   "execution_count": 5,
   "id": "07376759",
   "metadata": {
    "tags": []
   },
   "outputs": [
    {
     "name": "stdout",
     "output_type": "stream",
     "text": [
      "147\n",
      "987654321\n",
      "97531\n"
     ]
    }
   ],
   "source": [
    "s = '123456789'\n",
    "print(s[::3])\n",
    "print(s[::-1])\n",
    "print(s[::-2])"
   ]
  },
  {
   "cell_type": "markdown",
   "id": "14679b75-b438-4be6-a0e9-c51fca81f229",
   "metadata": {},
   "source": [
    "###### Naming slices\n"
   ]
  },
  {
   "cell_type": "code",
   "execution_count": 6,
   "id": "6c2d8958-6765-4583-a3f3-ad5b2924b7c9",
   "metadata": {
    "tags": []
   },
   "outputs": [
    {
     "name": "stdout",
     "output_type": "stream",
     "text": [
      "        $17. 09  Pimoroni PiBrella             \n",
      "         $4. 89  6mm Tactile Switch x20        \n",
      "        $28. 10  Panavise Jr. - PV-201         \n",
      "        $34. 01  PiTFT Mini Kit 320x240        \n",
      " \n"
     ]
    }
   ],
   "source": [
    "invoice = \"\"\"\n",
    "    0.....6.................................40........52...55........\n",
    "    1909  Pimoroni PiBrella                     $17.50    3    $52.50\n",
    "    1489  6mm Tactile Switch x20                 $4.95    2     $9.90\n",
    "    1510  Panavise Jr. - PV-201                 $28.00    1    $28.00\n",
    "    1601  PiTFT Mini Kit 320x240                $34.95    1    $34.95\n",
    "    \"\"\"\n",
    "SKU = slice(0, 6)\n",
    "DESCRIPTION = slice(6, 40)\n",
    "UNIT_PRICE = slice(40, 52)\n",
    "QUANTITY =  slice(52, 55)\n",
    "ITEM_TOTAL = slice(55, None)\n",
    "line_items = invoice.split('\\n')[2:]\n",
    "for item in line_items:\n",
    "    print(item[UNIT_PRICE], item[DESCRIPTION])"
   ]
  },
  {
   "cell_type": "markdown",
   "id": "b4666336-9eba-4972-a147-396ac39a9091",
   "metadata": {},
   "source": [
    "Slices are not just useful to extract information from sequences, they can also be used to change mutable seq. in place - without rebuilding them from scratch\n",
    "\n",
    "Mutable sequences can be modified in place using slice notation on the lefthand side of an assigment statement or as the target of a `del` statement"
   ]
  },
  {
   "cell_type": "code",
   "execution_count": 7,
   "id": "eb110b74-c7d3-4fe5-8353-f0617b567434",
   "metadata": {
    "tags": []
   },
   "outputs": [
    {
     "name": "stdout",
     "output_type": "stream",
     "text": [
      "[0, 1, 2, 3, 4, 5, 6, 7, 8, 9]\n",
      "[0, 1, 20, 30, 5, 6, 7, 8, 9]\n",
      "[0, 1, 20, 30, 5, 8, 9]\n",
      "[0, 1, 20, 11, 5, 22, 9]\n",
      "[0, 1, 100, 22, 9]\n"
     ]
    }
   ],
   "source": [
    "l = list(range(10))\n",
    "print(l)\n",
    "l[2:5] = [20, 30]\n",
    "print(l)\n",
    "del l[5:7]\n",
    "print(l)\n",
    "l[3::2] = [11, 22]\n",
    "print(l)\n",
    "l[2:5] = [100]\n",
    "print(l)"
   ]
  },
  {
   "cell_type": "markdown",
   "id": "34726205-5e90-4e81-b84b-4a8dc7873e59",
   "metadata": {},
   "source": [
    "##### Concatenation using `+` & `*` with sequences\n",
    "\n",
    "* both operands of `+` must be of the same sequence type\n",
    "* neither of them is modified\n",
    "* new seq. of the same type is created as result of concatenation\n",
    "\n",
    "*To concat multiple copies of the same seq. multiply it by int*\n",
    "\n",
    "***both `+` and `*` create new object, and never change their operands***"
   ]
  },
  {
   "cell_type": "code",
   "execution_count": 8,
   "id": "9c641871-e1cc-46d5-8eef-becc6c091f26",
   "metadata": {
    "tags": []
   },
   "outputs": [
    {
     "name": "stdout",
     "output_type": "stream",
     "text": [
      "[1, 2, 3, 1, 2, 3, 1, 2, 3, 1, 2, 3, 1, 2, 3]\n"
     ]
    }
   ],
   "source": [
    "l = [1, 2, 3]\n",
    "print(l * 5)"
   ]
  },
  {
   "cell_type": "code",
   "execution_count": 9,
   "id": "b9470245-0042-497e-9ea2-e45ae78102aa",
   "metadata": {
    "tags": []
   },
   "outputs": [
    {
     "name": "stdout",
     "output_type": "stream",
     "text": [
      "abcdabcdabcdabcdabcd\n"
     ]
    }
   ],
   "source": [
    "print(5 * 'abcd')"
   ]
  },
  {
   "cell_type": "markdown",
   "id": "07edc0f6-fe0b-442e-8258-4ead0dcb6b89",
   "metadata": {},
   "source": [
    "**Warning**\n",
    "\n",
    "Using `*` on sequences containing mutable types result in sequence containing multiple references to the same sequence. eg. `my_list = [[]] * 3` result in a list containing 3 references to the same inner list"
   ]
  },
  {
   "cell_type": "code",
   "execution_count": 10,
   "id": "a7d62b38-a343-47cb-af9d-87a23c2fb6a5",
   "metadata": {
    "tags": []
   },
   "outputs": [
    {
     "name": "stdout",
     "output_type": "stream",
     "text": [
      "[['_', '_', '_'], ['_', '_', '_'], ['_', '_', '_']]\n",
      "[['_', '_', 'X'], ['_', '_', 'X'], ['_', '_', 'X']]\n"
     ]
    }
   ],
   "source": [
    "wrong_board = [['_'] * 3] * 3\n",
    "print(wrong_board)\n",
    "wrong_board[1][2] = 'X'\n",
    "print(wrong_board)"
   ]
  },
  {
   "cell_type": "markdown",
   "id": "0c67521c-a8eb-481b-8ebe-01d560225efc",
   "metadata": {},
   "source": [
    "When we need to init a list containing a certain num of nested lists, the best way of doing so is with list comprehension"
   ]
  },
  {
   "cell_type": "code",
   "execution_count": 11,
   "id": "1a078bc4-fdb5-44f7-a180-9d04045d41c5",
   "metadata": {
    "tags": []
   },
   "outputs": [
    {
     "name": "stdout",
     "output_type": "stream",
     "text": [
      "[['_', '_', '_'], ['_', '_', '_'], ['_', '_', '_']]\n",
      "[['_', '_', '_'], ['_', '_', 'X'], ['_', '_', '_']]\n"
     ]
    }
   ],
   "source": [
    "board = [['_'] * 3 for i in range(3)]\n",
    "print(board)\n",
    "board[1][2] = 'X'\n",
    "print(board)"
   ]
  },
  {
   "cell_type": "markdown",
   "id": "a2d38f2b-c1d3-43c9-8d20-f57147bff5fd",
   "metadata": {},
   "source": [
    "##### Augmented Assigment with sequences\n",
    "\n",
    "The augmented assignment operators `+=` & `*=` behave differently, depending on the first operand."
   ]
  },
  {
   "cell_type": "markdown",
   "id": "05bab63b-09c9-4003-a08b-a30a15fa434f",
   "metadata": {},
   "source": [
    "The special method that makes `+=` work is `__iadd__` (in-place addition). However, if `__iadd__` is not implemented, python is calling `__add__`.\n",
    "\n",
    "For eg. simple expression `a += b` in case of a is mutable seq. (e.g. list, bytearray, itp.), which implement `__iadd__`, a will be modified in place but if a is immutable seq. (e.g. tuple), which does not implement `__iadd__`, the `__add__` method will be called, resulting the same effect as `a = a + b` which as a result produces a new object which is assigned to a. The same applies to `*=` which is implemented with `__imul__`"
   ]
  },
  {
   "cell_type": "code",
   "execution_count": 17,
   "id": "6dd6aacb-d194-47d9-8ca9-a7f099498779",
   "metadata": {
    "tags": []
   },
   "outputs": [
    {
     "name": "stdout",
     "output_type": "stream",
     "text": [
      "1971626248768\n"
     ]
    }
   ],
   "source": [
    "l = [1, 2, 3] # mutable type\n",
    "print(id(l))"
   ]
  },
  {
   "cell_type": "code",
   "execution_count": 18,
   "id": "f14be01b-1723-4f3c-a9e5-06cf28197c39",
   "metadata": {
    "tags": []
   },
   "outputs": [
    {
     "name": "stdout",
     "output_type": "stream",
     "text": [
      "1971626248768\n"
     ]
    }
   ],
   "source": [
    "l *= 2\n",
    "print(id(l))"
   ]
  },
  {
   "cell_type": "code",
   "execution_count": 19,
   "id": "65a0e62c-7ebf-4591-905a-ed7f93cb74d1",
   "metadata": {
    "tags": []
   },
   "outputs": [
    {
     "name": "stdout",
     "output_type": "stream",
     "text": [
      "1971626121984\n"
     ]
    }
   ],
   "source": [
    "t = (1, 2, 3) # immutable type\n",
    "print(id(t))"
   ]
  },
  {
   "cell_type": "code",
   "execution_count": 20,
   "id": "4aeb088d-5394-4095-952c-a0bcab2e0757",
   "metadata": {
    "tags": []
   },
   "outputs": [
    {
     "name": "stdout",
     "output_type": "stream",
     "text": [
      "1971625752512\n"
     ]
    }
   ],
   "source": [
    "t *= 2\n",
    "print(id(t))"
   ]
  },
  {
   "cell_type": "markdown",
   "id": "71f8f231-bf8b-42be-9675-abc889fb7707",
   "metadata": {},
   "source": [
    "Repeated concat of **immutable** seq. is **inefficient**, cause instead of appending new items, the interpreter has to copy the whole target seq. to create a new one with the new items"
   ]
  },
  {
   "cell_type": "code",
   "execution_count": 29,
   "id": "007de7f7-6adc-4f0e-ae77-ccba87fba937",
   "metadata": {
    "tags": []
   },
   "outputs": [
    {
     "ename": "TypeError",
     "evalue": "'tuple' object does not support item assignment",
     "output_type": "error",
     "traceback": [
      "\u001b[1;31m---------------------------------------------------------------------------\u001b[0m",
      "\u001b[1;31mTypeError\u001b[0m                                 Traceback (most recent call last)",
      "Cell \u001b[1;32mIn[29], line 2\u001b[0m\n\u001b[0;32m      1\u001b[0m t \u001b[38;5;241m=\u001b[39m (\u001b[38;5;241m1\u001b[39m, \u001b[38;5;241m2\u001b[39m, [\u001b[38;5;241m30\u001b[39m, \u001b[38;5;241m40\u001b[39m])\n\u001b[1;32m----> 2\u001b[0m t[\u001b[38;5;241m2\u001b[39m] \u001b[38;5;241m+\u001b[39m\u001b[38;5;241m=\u001b[39m [\u001b[38;5;241m50\u001b[39m, \u001b[38;5;241m60\u001b[39m]\n",
      "\u001b[1;31mTypeError\u001b[0m: 'tuple' object does not support item assignment"
     ]
    }
   ],
   "source": [
    "t = (1, 2, [30, 40])\n",
    "t[2] += [50, 60]\n"
   ]
  },
  {
   "cell_type": "code",
   "execution_count": 30,
   "id": "47bfb6ba-9503-47a4-afca-d3c954f1f0e2",
   "metadata": {
    "tags": []
   },
   "outputs": [
    {
     "name": "stdout",
     "output_type": "stream",
     "text": [
      "(1, 2, [30, 40, 50, 60])\n"
     ]
    }
   ],
   "source": [
    "print(t)"
   ]
  },
  {
   "cell_type": "code",
   "execution_count": 32,
   "id": "42db3091-9e5b-40e0-83d1-ac72a6c50d9a",
   "metadata": {
    "tags": []
   },
   "outputs": [
    {
     "name": "stdout",
     "output_type": "stream",
     "text": [
      "  0           0 RESUME                   0\n",
      "\n",
      "  1           2 LOAD_NAME                0 (s)\n",
      "              4 LOAD_NAME                1 (a)\n",
      "              6 COPY                     2\n",
      "              8 COPY                     2\n",
      "             10 BINARY_SUBSCR\n",
      "             20 LOAD_NAME                2 (b)\n",
      "             22 BINARY_OP               13 (+=)\n",
      "             26 SWAP                     3\n",
      "             28 SWAP                     2\n",
      "             30 STORE_SUBSCR\n",
      "             34 LOAD_CONST               0 (None)\n",
      "             36 RETURN_VALUE\n"
     ]
    }
   ],
   "source": [
    "import dis\n",
    "dis.dis('s[a] += b')"
   ]
  },
  {
   "cell_type": "markdown",
   "id": "900b31ea-9b2d-419a-bf2c-009a7b43f220",
   "metadata": {},
   "source": [
    "#### list.sort vs sorted built-in\n",
    "\n",
    "The `list.sort` method sorts a list in place - without making a copy.\n",
    "\n",
    "In contrast, the built-in func `sorted` creates a new list and returns it.\n",
    "\n",
    "*By convention all all func and methods that change object in place should return `None` to make it clean that no new object was created.*\n",
    "\n",
    "Python's sorting algorith is **stable** - preserves the relative order of equall items"
   ]
  },
  {
   "cell_type": "code",
   "execution_count": 36,
   "id": "c2e63eae-11d1-4f6a-b3ec-07a02a4eddff",
   "metadata": {
    "tags": []
   },
   "outputs": [
    {
     "name": "stdout",
     "output_type": "stream",
     "text": [
      "['apple', 'banana', 'grape', 'raspberry']\n"
     ]
    }
   ],
   "source": [
    "fruits = ['grape', 'raspberry', 'apple', 'banana']\n",
    "print(sorted(fruits))"
   ]
  },
  {
   "cell_type": "code",
   "execution_count": 39,
   "id": "116c5a01-7bfc-491a-b7d7-d88819ad6b0a",
   "metadata": {
    "tags": []
   },
   "outputs": [
    {
     "name": "stdout",
     "output_type": "stream",
     "text": [
      "['raspberry', 'grape', 'banana', 'apple']\n"
     ]
    }
   ],
   "source": [
    "print(sorted(fruits, reverse=True))"
   ]
  },
  {
   "cell_type": "code",
   "execution_count": 40,
   "id": "ddc2a67f-d592-4428-81af-0feffdabe582",
   "metadata": {
    "tags": []
   },
   "outputs": [
    {
     "name": "stdout",
     "output_type": "stream",
     "text": [
      "['grape', 'apple', 'banana', 'raspberry']\n"
     ]
    }
   ],
   "source": [
    "print(sorted(fruits, key=len))"
   ]
  },
  {
   "cell_type": "code",
   "execution_count": 41,
   "id": "dd091f4c-2cbf-4de7-babb-4ffd161e578d",
   "metadata": {
    "tags": []
   },
   "outputs": [
    {
     "name": "stdout",
     "output_type": "stream",
     "text": [
      "['grape', 'raspberry', 'apple', 'banana']\n"
     ]
    }
   ],
   "source": [
    "print(fruits)"
   ]
  },
  {
   "cell_type": "code",
   "execution_count": 43,
   "id": "2cc23429-1256-4add-a73e-6957b1c902d8",
   "metadata": {
    "tags": []
   },
   "outputs": [
    {
     "name": "stdout",
     "output_type": "stream",
     "text": [
      "['apple', 'banana', 'grape', 'raspberry']\n"
     ]
    }
   ],
   "source": [
    "fruits.sort()\n",
    "print(fruits)"
   ]
  },
  {
   "cell_type": "markdown",
   "id": "990ef773-2dc8-4a96-8586-24d668c34329",
   "metadata": {},
   "source": [
    "*By default, python sorts strings by character code. - that means ASCII upercase letters come before lowercase*"
   ]
  },
  {
   "cell_type": "markdown",
   "id": "594b9efd-0585-4146-a609-e3d26b275869",
   "metadata": {},
   "source": [
    "#### Managing ordered sequences with bisect\n",
    "\n",
    "The `bisect` module offers 2 main func that use **binary search** alg. to quickly find and insert items in any sorted seq."
   ]
  },
  {
   "cell_type": "markdown",
   "id": "0ec320b8-791f-4763-927c-40572fba48dd",
   "metadata": {},
   "source": [
    "##### Searching with bisect\n",
    "\n",
    "`bisect(haystack, needle)` performs a bin search for a needle in a haystack and returns an index at which the needle could be inserted while mantaining sorted ascending order."
   ]
  },
  {
   "cell_type": "code",
   "execution_count": 45,
   "id": "7396515d-59a0-4fc7-a91a-0fd12584da0d",
   "metadata": {
    "tags": []
   },
   "outputs": [
    {
     "name": "stdout",
     "output_type": "stream",
     "text": [
      "3\n"
     ]
    }
   ],
   "source": [
    "import bisect\n",
    "haystack = [1, 2, 3, 4, 7, 9, 20, 23]\n",
    "needle = 3\n",
    "print(bisect.bisect(haystack, needle))"
   ]
  },
  {
   "cell_type": "code",
   "execution_count": 47,
   "id": "aed8b56f-608e-4933-93cb-a36d22a6c8b0",
   "metadata": {
    "tags": []
   },
   "outputs": [
    {
     "name": "stdout",
     "output_type": "stream",
     "text": [
      "6\n"
     ]
    }
   ],
   "source": [
    "needle = 10\n",
    "print(bisect.bisect(haystack, needle))"
   ]
  },
  {
   "cell_type": "markdown",
   "id": "5b22c878-6155-43f2-a9c0-f78484b93c43",
   "metadata": {},
   "source": [
    "#### Inserting with bisect\n",
    "\n",
    "`insort(seq, item)` inserts item into seq that seq. keep being sorted in ascending order"
   ]
  },
  {
   "cell_type": "code",
   "execution_count": 49,
   "id": "f0af1402-7b94-4cb5-9bb5-a87c50680c7c",
   "metadata": {
    "tags": []
   },
   "outputs": [
    {
     "name": "stdout",
     "output_type": "stream",
     "text": [
      "[1, 2, 3, 3, 4, 7, 9, 20, 23]\n",
      "[1, 2, 3, 3, 4, 7, 9, 20, 22, 23]\n",
      "[1, 2, 3, 3, 4, 5, 7, 9, 20, 22, 23]\n"
     ]
    }
   ],
   "source": [
    "import bisect\n",
    "haystack = [1, 2, 3, 4, 7, 9, 20, 23]\n",
    "bisect.insort(haystack, 3)\n",
    "print(haystack)\n",
    "bisect.insort(haystack, 22)\n",
    "print(haystack)\n",
    "bisect.insort(haystack, 5)\n",
    "print(haystack)"
   ]
  },
  {
   "cell_type": "markdown",
   "id": "62870ae5-46e9-4476-818b-9b0af53d0f56",
   "metadata": {},
   "source": [
    "### Alternatives to `list`\n",
    "\n",
    "* `array` saves a lot of memory when we need to store a lot of primitive types\n",
    "* when we are adding and removing a lot of items from start and end we might use `deque`\n",
    "* when we need to frequently check presence of item, a good option might be `set`"
   ]
  },
  {
   "cell_type": "markdown",
   "id": "932ceed4-80ea-4e1d-a478-4be4ba61b904",
   "metadata": {},
   "source": [
    "#### Arrays\n",
    "\n",
    "Arrays support **all** mutable seq. operations (including: `.pop`, `.insert` and `.extend`) and additional methods for fast loading and saving, such as `.frombytes` & `.tofile`.\n",
    "\n",
    "When creating an `array` we specify typecode - a letter representing underlying C type used to store each elem. in array. For e.g. `array('b')` crates an array in which every item is of type `signed char`\n",
    "\n",
    "`array` type does not have an in-place `sort` method, to sort the array you need to use built-in `sorted` func"
   ]
  },
  {
   "cell_type": "code",
   "execution_count": 51,
   "id": "584468d0-0e37-40a9-aaa6-fefaecbcdbf3",
   "metadata": {
    "tags": []
   },
   "outputs": [
    {
     "name": "stdout",
     "output_type": "stream",
     "text": [
      "0.11043195693652919\n"
     ]
    }
   ],
   "source": [
    "from array import array\n",
    "from random import random\n",
    "\n",
    "floats = array('d', (random() for i in range(10**7)))\n",
    "print(floats[-1])"
   ]
  },
  {
   "cell_type": "code",
   "execution_count": 52,
   "id": "46f35a4d-5e9c-4c0d-9ce5-87013d0e27f1",
   "metadata": {
    "tags": []
   },
   "outputs": [
    {
     "data": {
      "text/plain": [
       "\"\\n    fp = open('floats.bin', 'wb')\\n    floats.tofile(fp) # save array to file\\n    fp.close()\\n    floats2 = array('d') # create an empty array of doubles\\n    fp = open('floats.bin', 'rb')\\n    floats2.fromfile(fp, 10**7) # read 10 milion nums from the bin file\\n    fp.close()\\n\""
      ]
     },
     "execution_count": 52,
     "metadata": {},
     "output_type": "execute_result"
    }
   ],
   "source": [
    "'''\n",
    "    fp = open('floats.bin', 'wb')\n",
    "    floats.tofile(fp) # save array to file\n",
    "    fp.close()\n",
    "    floats2 = array('d') # create an empty array of doubles\n",
    "    fp = open('floats.bin', 'rb')\n",
    "    floats2.fromfile(fp, 10**7) # read 10 milion nums from the bin file\n",
    "    fp.close()\n",
    "'''"
   ]
  },
  {
   "cell_type": "markdown",
   "id": "651d187f-c572-4aa7-9e09-692eac420e4c",
   "metadata": {},
   "source": [
    "#### Deques and other queues\n",
    "\n",
    "*deque can be bouded - created with max length, when we reach max len and we want to add another elem. the elem that was added earliest will be removed*"
   ]
  },
  {
   "cell_type": "code",
   "execution_count": 55,
   "id": "aadef0e3-c4d7-42eb-af78-0bf8a5b0a2a4",
   "metadata": {
    "tags": []
   },
   "outputs": [
    {
     "name": "stdout",
     "output_type": "stream",
     "text": [
      "deque([0, 1, 2, 3, 4, 5, 6, 7, 8, 9], maxlen=10)\n"
     ]
    }
   ],
   "source": [
    "from collections import deque\n",
    "dq = deque(range(10), maxlen=10)\n",
    "print(dq)"
   ]
  },
  {
   "cell_type": "markdown",
   "id": "2399367a-3cb9-460c-b984-543146ec2487",
   "metadata": {},
   "source": [
    "`deque.rotate(n)` takes n elems. form right end (when n > 0) and appends them to the left, when n < 0 takes form left and append to right"
   ]
  },
  {
   "cell_type": "code",
   "execution_count": 56,
   "id": "e7e811d2-2251-4ed9-8137-1f57c0cb3ba4",
   "metadata": {
    "tags": []
   },
   "outputs": [
    {
     "name": "stdout",
     "output_type": "stream",
     "text": [
      "deque([7, 8, 9, 0, 1, 2, 3, 4, 5, 6], maxlen=10)\n"
     ]
    }
   ],
   "source": [
    "dq.rotate(3)\n",
    "print(dq)"
   ]
  },
  {
   "cell_type": "code",
   "execution_count": 58,
   "id": "cf407268-1ac3-4f28-a9e4-afc2b9dddb2a",
   "metadata": {
    "tags": []
   },
   "outputs": [
    {
     "name": "stdout",
     "output_type": "stream",
     "text": [
      "deque([1, 2, 3, 4, 5, 6, 7, 8, 9, 0], maxlen=10)\n"
     ]
    }
   ],
   "source": [
    "dq.rotate(-4)\n",
    "print(dq)"
   ]
  },
  {
   "cell_type": "code",
   "execution_count": 59,
   "id": "db68745a-a525-44b0-9a3a-f6fbd1b3d1d7",
   "metadata": {
    "tags": []
   },
   "outputs": [
    {
     "name": "stdout",
     "output_type": "stream",
     "text": [
      "deque([-1, 1, 2, 3, 4, 5, 6, 7, 8, 9], maxlen=10)\n"
     ]
    }
   ],
   "source": [
    "dq.appendleft(-1)\n",
    "print(dq)"
   ]
  },
  {
   "cell_type": "code",
   "execution_count": 60,
   "id": "e23e1f6c-01fe-4a0f-8e14-c7a2e38c4294",
   "metadata": {
    "tags": []
   },
   "outputs": [
    {
     "name": "stdout",
     "output_type": "stream",
     "text": [
      "deque([3, 4, 5, 6, 7, 8, 9, 11, 22, 33], maxlen=10)\n"
     ]
    }
   ],
   "source": [
    "dq.extend([11, 22, 33])\n",
    "print(dq)"
   ]
  },
  {
   "cell_type": "code",
   "execution_count": 61,
   "id": "21a84ffb-fa1d-4cdd-97ad-6670b3962de1",
   "metadata": {
    "tags": []
   },
   "outputs": [
    {
     "name": "stdout",
     "output_type": "stream",
     "text": [
      "deque([40, 30, 20, 10, 3, 4, 5, 6, 7, 8], maxlen=10)\n"
     ]
    }
   ],
   "source": [
    "dq.extendleft([10, 20, 30, 40])\n",
    "print(dq)"
   ]
  },
  {
   "cell_type": "markdown",
   "id": "1a22812f-6380-4c5b-9aec-bb257b4f27ee",
   "metadata": {},
   "source": [
    "`deque` implements most of the `list` methods, and adds a few specific to its design, like `popleft` and `rotate`.\n",
    "\n",
    "*removing items from middle of deque is not fast. deque is optimised for appending and popping from the ends*"
   ]
  },
  {
   "cell_type": "markdown",
   "id": "1ccbc5d9-69d1-404e-99bc-59d11b1d69dd",
   "metadata": {},
   "source": [
    "#### Other implementations of queues\n",
    "\n",
    "* `queue` provides synchronized classes `SimpleQueue`, `Queue`, `LifoQueue`, and `PriorityQueue`. These can be used for safe communication bet. threads. All besides `SimpleQueue` can be bounded by `maxsize` arg., but they don't discard items to make room as `deque` does. Instead, when the queue is full, the insertion waits until e.g some other thread makes room by poping item from it.\n",
    "* `multiprocessing` implements its own unbouded `SimpleQueue` and bounded `Queue`, both very similar to those in `queue` package, but designed for multiprocess communication. Additionally a `multiprocessing.JoinableQueue` is implemented for task management.\n",
    "* `asyncio` provides `Queue`, `LifoQueue`, `PriorityQueue` and `JoinableQueue` inspired by `queue` and `multiprocessing` modules, but adopted for managing tasks in asynchronous programming.\n",
    "* `heapq` does not implement a queue class, but instead provides `heappuch` & `heappop` functions that allow to use mutable sequences as a **heap queue** or **prirority queue**"
   ]
  }
 ],
 "metadata": {
  "kernelspec": {
   "display_name": "Python 3 (ipykernel)",
   "language": "python",
   "name": "python3"
  },
  "language_info": {
   "codemirror_mode": {
    "name": "ipython",
    "version": 3
   },
   "file_extension": ".py",
   "mimetype": "text/x-python",
   "name": "python",
   "nbconvert_exporter": "python",
   "pygments_lexer": "ipython3",
   "version": "3.11.9"
  }
 },
 "nbformat": 4,
 "nbformat_minor": 5
}
